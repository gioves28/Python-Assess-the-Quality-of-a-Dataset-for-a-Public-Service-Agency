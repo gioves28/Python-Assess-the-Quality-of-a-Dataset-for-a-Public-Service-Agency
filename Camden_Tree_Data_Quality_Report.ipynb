{
 "cells": [
  {
   "cell_type": "markdown",
   "id": "38bcec7a-f9ab-48e8-9553-e9ded639a576",
   "metadata": {},
   "source": [
    "# Trees in Camden\n",
    },
  {
   "cell_type": "markdown",
   "id": "71f2c016-f440-4601-8262-1d814315d1bb",
   "metadata": {},
   "source": [
    "## Imports\n",
    "Import the libraries we need to perform the analysis."
   ]
  },
  {
   "cell_type": "code",
   "execution_count": 3,
   "id": "26c7393c-3a3f-4224-8c88-10aa58310351",
   "metadata": {},
   "outputs": [],
   "source": [
    "import pandas as pd"
   ]
  },
  {
   "cell_type": "markdown",
   "id": "ddcf618b-a928-498c-b07e-991c7eb09bb7",
   "metadata": {
    "tags": [],
    "toc-hr-collapsed": true
   },
   "source": [
    "## Task 2: Load Data and Perform Initial Exploration\n",
    "Load the data from the supplied data files.  The files are in different **file formats**, but Pandas can handle this.\n",
    "\n",
    "You should read the data in using the appropriate function:\n",
    "\n",
    "- [pandas.read_excel](https://pandas.pydata.org/pandas-docs/stable/reference/api/pandas.read_excel.html)\n",
    "- [pandas.read_csv](https://pandas.pydata.org/docs/reference/api/pandas.read_csv.html)\n",
    "- [pandas.read_json](https://pandas.pydata.org/pandas-docs/version/0.23.4/generated/pandas.read_json.html)\n",
    "\n",
    "You can then inspect the first few rows of the loaded dataframe:\n",
    "\n",
    "[pandas.DataFrame.head](https://pandas.pydata.org/docs/reference/api/pandas.DataFrame.head.html)\n",
    "\n",
    "You can get the number of rows and columns:\n",
    "\n",
    "[pandas.DataFrame.shape](https://pandas.pydata.org/pandas-docs/stable/reference/api/pandas.DataFrame.shape.html)\n",
    "\n",
    "You can get the list of column names:\n",
    "\n",
    "[pandas.DataFrame.columns](https://pandas.pydata.org/docs/reference/api/pandas.DataFrame.columns.html)\n",
    "\n",
    "And you can list the data types of the columns:\n",
    "\n",
    "[pandas.DataFrames.dtypes](https://pandas.pydata.org/pandas-docs/stable/reference/api/pandas.DataFrame.dtypes.html)\n",
    "\n",
    "I've done the first one (loading `\"camden_trees.xlsx\"`) for you.  Please load `\"camden_trees_environmental.csv\"` and `\"tree_common_names.json\"` and analyse them in the same way.\n"
   ]
  },
  {
   "cell_type": "markdown",
   "id": "be1b77e3-ef79-49da-a896-dafbc51a3e10",
   "metadata": {},
   "source": [
    "### 2.1 Trees\n",
    "The file `\"camden_trees.xlsx\"` is an Excel file, so we use the `read_excel()` function."
   ]
  },
  {
   "cell_type": "code",
   "execution_count": 4,
   "id": "dcc71d80-c6e5-41fa-bdd2-8a9c1c129cc7",
   "metadata": {},
   "outputs": [],
   "source": [
    "# Create a Pandas dataframe called trees that contains the contents of the Excel file\n",
    "trees = pd.read_excel(\"camden_trees.xlsx\")"
   ]
  },
  {
   "cell_type": "markdown",
   "id": "13689979-f709-4e37-87bc-e005a9dfd0ea",
   "metadata": {},
   "source": [
    "We can now inspect the first few rows using `head()`.  By default, `head()` displays the first 5 rows."
   ]
  },
  {
   "cell_type": "code",
   "execution_count": 5,
   "id": "34c737a4-0666-450f-8db3-b14fd2c2fec5",
   "metadata": {},
   "outputs": [
    {
     "data": {
      "text/html": [
       "<div>\n",
       "<style scoped>\n",
       "    .dataframe tbody tr th:only-of-type {\n",
       "        vertical-align: middle;\n",
       "    }\n",
       "\n",
       "    .dataframe tbody tr th {\n",
       "        vertical-align: top;\n",
       "    }\n",
       "\n",
       "    .dataframe thead th {\n",
       "        text-align: right;\n",
       "    }\n",
       "</style>\n",
       "<table border=\"1\" class=\"dataframe\">\n",
       "  <thead>\n",
       "    <tr style=\"text-align: right;\">\n",
       "      <th></th>\n",
       "      <th>Identifier</th>\n",
       "      <th>Number Of Trees</th>\n",
       "      <th>Site Name</th>\n",
       "      <th>Contract Area</th>\n",
       "      <th>Scientific Name</th>\n",
       "      <th>Inspection Date</th>\n",
       "      <th>Inspection Due Date</th>\n",
       "      <th>Height In Metres</th>\n",
       "      <th>Spread In Metres</th>\n",
       "      <th>Diameter In Centimetres At Breast Height</th>\n",
       "      <th>Ward Code</th>\n",
       "      <th>Ward Name</th>\n",
       "      <th>Easting</th>\n",
       "      <th>Northing</th>\n",
       "      <th>Longitude</th>\n",
       "      <th>Latitude</th>\n",
       "      <th>Location</th>\n",
       "    </tr>\n",
       "  </thead>\n",
       "  <tbody>\n",
       "    <tr>\n",
       "      <th>0</th>\n",
       "      <td>00060053</td>\n",
       "      <td>1.0</td>\n",
       "      <td>Russell Nurseries Estate</td>\n",
       "      <td>Housing</td>\n",
       "      <td>Vacant Tree Pit</td>\n",
       "      <td>NaT</td>\n",
       "      <td>NaN</td>\n",
       "      <td>NaN</td>\n",
       "      <td>NaN</td>\n",
       "      <td>NaN</td>\n",
       "      <td>E05000135</td>\n",
       "      <td>Hampstead Town</td>\n",
       "      <td>527305</td>\n",
       "      <td>185240</td>\n",
       "      <td>-0.165240</td>\n",
       "      <td>51.551693</td>\n",
       "      <td>(51.551693, -0.16524)</td>\n",
       "    </tr>\n",
       "    <tr>\n",
       "      <th>1</th>\n",
       "      <td>00057855</td>\n",
       "      <td>1.0</td>\n",
       "      <td>BRECKNOCK JMI (E)</td>\n",
       "      <td>Education</td>\n",
       "      <td>Vacant Tree Pit</td>\n",
       "      <td>2019-07-17</td>\n",
       "      <td>2022/2023</td>\n",
       "      <td>NaN</td>\n",
       "      <td>NaN</td>\n",
       "      <td>NaN</td>\n",
       "      <td>E05000131</td>\n",
       "      <td>Cantelowes</td>\n",
       "      <td>529923</td>\n",
       "      <td>184782</td>\n",
       "      <td>-0.127681</td>\n",
       "      <td>51.546984</td>\n",
       "      <td>(51.546984, -0.127681)</td>\n",
       "    </tr>\n",
       "    <tr>\n",
       "      <th>2</th>\n",
       "      <td>00059953</td>\n",
       "      <td>1.0</td>\n",
       "      <td>Estate 51 Ravenshaw Street</td>\n",
       "      <td>Housing</td>\n",
       "      <td>Ficus carica</td>\n",
       "      <td>NaT</td>\n",
       "      <td>NaN</td>\n",
       "      <td>5.0</td>\n",
       "      <td>4.0</td>\n",
       "      <td>10.0</td>\n",
       "      <td>NaN</td>\n",
       "      <td>NaN</td>\n",
       "      <td>0</td>\n",
       "      <td>0</td>\n",
       "      <td>NaN</td>\n",
       "      <td>NaN</td>\n",
       "      <td>NaN</td>\n",
       "    </tr>\n",
       "    <tr>\n",
       "      <th>3</th>\n",
       "      <td>00059915</td>\n",
       "      <td>1.0</td>\n",
       "      <td>ROSARY RC JMI (E)</td>\n",
       "      <td>Education</td>\n",
       "      <td>Betula jacquemontii</td>\n",
       "      <td>NaT</td>\n",
       "      <td>NaN</td>\n",
       "      <td>4.0</td>\n",
       "      <td>1.0</td>\n",
       "      <td>6.0</td>\n",
       "      <td>E05000135</td>\n",
       "      <td>Hampstead Town</td>\n",
       "      <td>527249</td>\n",
       "      <td>185261</td>\n",
       "      <td>-0.166051</td>\n",
       "      <td>51.551901</td>\n",
       "      <td>(51.551901, -0.166051)</td>\n",
       "    </tr>\n",
       "    <tr>\n",
       "      <th>4</th>\n",
       "      <td>00010762</td>\n",
       "      <td>1.0</td>\n",
       "      <td>Holly Lodge Estate</td>\n",
       "      <td>Housing</td>\n",
       "      <td>Ilex x altaclarensis</td>\n",
       "      <td>2017-06-14</td>\n",
       "      <td>2020/2021</td>\n",
       "      <td>14.0</td>\n",
       "      <td>6.0</td>\n",
       "      <td>26.0</td>\n",
       "      <td>E05000137</td>\n",
       "      <td>Highgate</td>\n",
       "      <td>528414</td>\n",
       "      <td>186770</td>\n",
       "      <td>-0.148704</td>\n",
       "      <td>51.565198</td>\n",
       "      <td>(51.565198, -0.148704)</td>\n",
       "    </tr>\n",
       "  </tbody>\n",
       "</table>\n",
       "</div>"
      ],
      "text/plain": [
       "  Identifier  Number Of Trees                   Site Name Contract Area  \\\n",
       "0   00060053              1.0    Russell Nurseries Estate       Housing   \n",
       "1   00057855              1.0           BRECKNOCK JMI (E)     Education   \n",
       "2   00059953              1.0  Estate 51 Ravenshaw Street       Housing   \n",
       "3   00059915              1.0           ROSARY RC JMI (E)     Education   \n",
       "4   00010762              1.0          Holly Lodge Estate       Housing   \n",
       "\n",
       "        Scientific Name Inspection Date Inspection Due Date  Height In Metres  \\\n",
       "0       Vacant Tree Pit             NaT                 NaN               NaN   \n",
       "1       Vacant Tree Pit      2019-07-17           2022/2023               NaN   \n",
       "2          Ficus carica             NaT                 NaN               5.0   \n",
       "3   Betula jacquemontii             NaT                 NaN               4.0   \n",
       "4  Ilex x altaclarensis      2017-06-14           2020/2021              14.0   \n",
       "\n",
       "   Spread In Metres  Diameter In Centimetres At Breast Height  Ward Code  \\\n",
       "0               NaN                                       NaN  E05000135   \n",
       "1               NaN                                       NaN  E05000131   \n",
       "2               4.0                                      10.0        NaN   \n",
       "3               1.0                                       6.0  E05000135   \n",
       "4               6.0                                      26.0  E05000137   \n",
       "\n",
       "        Ward Name  Easting  Northing  Longitude   Latitude  \\\n",
       "0  Hampstead Town   527305    185240  -0.165240  51.551693   \n",
       "1      Cantelowes   529923    184782  -0.127681  51.546984   \n",
       "2             NaN        0         0        NaN        NaN   \n",
       "3  Hampstead Town   527249    185261  -0.166051  51.551901   \n",
       "4        Highgate   528414    186770  -0.148704  51.565198   \n",
       "\n",
       "                 Location  \n",
       "0   (51.551693, -0.16524)  \n",
       "1  (51.546984, -0.127681)  \n",
       "2                     NaN  \n",
       "3  (51.551901, -0.166051)  \n",
       "4  (51.565198, -0.148704)  "
      ]
     },
     "execution_count": 5,
     "metadata": {},
     "output_type": "execute_result"
    }
   ],
   "source": [
    "# Display the first few rows\n",
    "trees.head()"
   ]
  },
  {
   "cell_type": "markdown",
   "id": "2dc1c27b-7658-41be-92f5-6d1ee07f49c0",
   "metadata": {},
   "source": [
    "It's good to understand the size of the dataset we are dealing with.  The `shape` property does this for us."
   ]
  },
  {
   "cell_type": "code",
   "execution_count": 6,
   "id": "9e7f1cf1-4e79-4cdd-a6b8-0a41c16cb153",
   "metadata": {},
   "outputs": [
    {
     "data": {
      "text/plain": [
       "(23444, 17)"
      ]
     },
     "execution_count": 6,
     "metadata": {},
     "output_type": "execute_result"
    }
   ],
   "source": [
    "# Get the number of rows and columns\n",
    "trees.shape"
   ]
  },
  {
   "cell_type": "markdown",
   "id": "d499f569-4200-48e9-b0a5-b84fc72a228a",
   "metadata": {},
   "source": [
    "If there are lots of columns we can't always see all of them in the `head()` list above.  We can use the `columns` property to get a full list:"
   ]
  },
  {
   "cell_type": "code",
   "execution_count": 7,
   "id": "be4badda-f1c9-481c-a274-8251330cbc5a",
   "metadata": {},
   "outputs": [
    {
     "data": {
      "text/plain": [
       "Index(['Identifier', 'Number Of Trees', 'Site Name', 'Contract Area',\n",
       "       'Scientific Name', 'Inspection Date', 'Inspection Due Date',\n",
       "       'Height In Metres', 'Spread In Metres',\n",
       "       'Diameter In Centimetres At Breast Height', 'Ward Code', 'Ward Name',\n",
       "       'Easting', 'Northing', 'Longitude', 'Latitude', 'Location'],\n",
       "      dtype='object')"
      ]
     },
     "execution_count": 7,
     "metadata": {},
     "output_type": "execute_result"
    }
   ],
   "source": [
    "# Get a list of all the columns in the dataframe\n",
    "trees.columns"
   ]
  },
  {
   "cell_type": "markdown",
   "id": "7b184dfb-0498-43c0-afa7-9d4be449863a",
   "metadata": {},
   "source": [
    "In order to process the data properly, we should understand the data type for each column.  Pandas attempts to work this out for us, but sometimes we need to give it a bit of a hand.  We can use the `dtypes` property to list the data types.  Note that `object` is Pandas way of saying `string`, i.e. a text data type."
   ]
  },
  {
   "cell_type": "code",
   "execution_count": 8,
   "id": "f5b603ef-9ce1-4667-a672-5a86fe9daf1a",
   "metadata": {},
   "outputs": [
    {
     "data": {
      "text/plain": [
       "Identifier                                          object\n",
       "Number Of Trees                                    float64\n",
       "Site Name                                           object\n",
       "Contract Area                                       object\n",
       "Scientific Name                                     object\n",
       "Inspection Date                             datetime64[ns]\n",
       "Inspection Due Date                                 object\n",
       "Height In Metres                                   float64\n",
       "Spread In Metres                                   float64\n",
       "Diameter In Centimetres At Breast Height           float64\n",
       "Ward Code                                           object\n",
       "Ward Name                                           object\n",
       "Easting                                              int64\n",
       "Northing                                             int64\n",
       "Longitude                                          float64\n",
       "Latitude                                           float64\n",
       "Location                                            object\n",
       "dtype: object"
      ]
     },
     "execution_count": 8,
     "metadata": {},
     "output_type": "execute_result"
    }
   ],
   "source": [
    "# List the data types of each column\n",
    "trees.dtypes"
   ]
  },
  {
   "cell_type": "markdown",
   "id": "722d9b40-5f9c-4362-9b46-b052b2449898",
   "metadata": {},
   "source": [
    "### 2.2 Environmental\n",
    "The file `\"camden_trees_environmental.csv\"` is a csv file.  Use the appropriate function to load it into a Pandas DataFrame."
   ]
  },
  {
   "cell_type": "markdown",
   "id": "5585e3b9-4c1c-436e-a34f-f8f19a0cbd02",
   "metadata": {},
   "source": [
    "<div style=\"background-color:lemonchiffon; border:1px solid; padding:5px; margin:5px; font-weight:bold\"><font color=\"crimson\">\n",
    "TODO: Complete the following code cells\n",
    "    </font></div>"
   ]
  },
  {
   "cell_type": "code",
   "execution_count": 9,
   "id": "a12780eb-bcb5-4955-bc9b-28439ee81d22",
   "metadata": {},
   "outputs": [],
   "source": [
    "# Create a Pandas dataframe called trees that contains the contents of the csv file\n",
    "enviroment = pd.read_csv(\"camden_trees_environmental.csv\")"
   ]
  },
  {
   "cell_type": "code",
   "execution_count": 10,
   "id": "4d6e254d-a3df-4004-b262-004923fdbf9a",
   "metadata": {},
   "outputs": [
    {
     "data": {
      "text/html": [
       "<div>\n",
       "<style scoped>\n",
       "    .dataframe tbody tr th:only-of-type {\n",
       "        vertical-align: middle;\n",
       "    }\n",
       "\n",
       "    .dataframe tbody tr th {\n",
       "        vertical-align: top;\n",
       "    }\n",
       "\n",
       "    .dataframe thead th {\n",
       "        text-align: right;\n",
       "    }\n",
       "</style>\n",
       "<table border=\"1\" class=\"dataframe\">\n",
       "  <thead>\n",
       "    <tr style=\"text-align: right;\">\n",
       "      <th></th>\n",
       "      <th>Identifier</th>\n",
       "      <th>Maturity</th>\n",
       "      <th>Physiological Condition</th>\n",
       "      <th>Tree Set To Be Removed</th>\n",
       "      <th>Removal Reason</th>\n",
       "      <th>Capital Asset Value For Amenity Trees</th>\n",
       "      <th>Carbon Storage In Kilograms</th>\n",
       "      <th>Gross Carbon Sequestration Per Year In Kilograms</th>\n",
       "      <th>Pollution Removal Per Year In Grams</th>\n",
       "    </tr>\n",
       "  </thead>\n",
       "  <tbody>\n",
       "    <tr>\n",
       "      <th>0</th>\n",
       "      <td>00055125</td>\n",
       "      <td>Juvenile</td>\n",
       "      <td>Good</td>\n",
       "      <td>No</td>\n",
       "      <td>NaN</td>\n",
       "      <td>115.07</td>\n",
       "      <td>1.6</td>\n",
       "      <td>0.5</td>\n",
       "      <td>5.7</td>\n",
       "    </tr>\n",
       "    <tr>\n",
       "      <th>1</th>\n",
       "      <td>00059429</td>\n",
       "      <td>Middle aged</td>\n",
       "      <td>Fair</td>\n",
       "      <td>No</td>\n",
       "      <td>NaN</td>\n",
       "      <td>7518.08</td>\n",
       "      <td>NaN</td>\n",
       "      <td>NaN</td>\n",
       "      <td>NaN</td>\n",
       "    </tr>\n",
       "    <tr>\n",
       "      <th>2</th>\n",
       "      <td>00018254</td>\n",
       "      <td>Mature</td>\n",
       "      <td>Fair</td>\n",
       "      <td>No</td>\n",
       "      <td>NaN</td>\n",
       "      <td>20419.63</td>\n",
       "      <td>426.4</td>\n",
       "      <td>8.8</td>\n",
       "      <td>215.2</td>\n",
       "    </tr>\n",
       "    <tr>\n",
       "      <th>3</th>\n",
       "      <td>00027155</td>\n",
       "      <td>Mature</td>\n",
       "      <td>Fair</td>\n",
       "      <td>No</td>\n",
       "      <td>NaN</td>\n",
       "      <td>21447.74</td>\n",
       "      <td>448.3</td>\n",
       "      <td>9.6</td>\n",
       "      <td>379.1</td>\n",
       "    </tr>\n",
       "    <tr>\n",
       "      <th>4</th>\n",
       "      <td>00041326</td>\n",
       "      <td>Juvenile</td>\n",
       "      <td>Good</td>\n",
       "      <td>No</td>\n",
       "      <td>NaN</td>\n",
       "      <td>524.30</td>\n",
       "      <td>9.9</td>\n",
       "      <td>1.4</td>\n",
       "      <td>12.8</td>\n",
       "    </tr>\n",
       "  </tbody>\n",
       "</table>\n",
       "</div>"
      ],
      "text/plain": [
       "  Identifier     Maturity Physiological Condition Tree Set To Be Removed  \\\n",
       "0   00055125     Juvenile                    Good                     No   \n",
       "1   00059429  Middle aged                    Fair                     No   \n",
       "2   00018254       Mature                    Fair                     No   \n",
       "3   00027155       Mature                    Fair                     No   \n",
       "4   00041326     Juvenile                    Good                     No   \n",
       "\n",
       "  Removal Reason  Capital Asset Value For Amenity Trees  \\\n",
       "0            NaN                                 115.07   \n",
       "1            NaN                                7518.08   \n",
       "2            NaN                               20419.63   \n",
       "3            NaN                               21447.74   \n",
       "4            NaN                                 524.30   \n",
       "\n",
       "   Carbon Storage In Kilograms  \\\n",
       "0                          1.6   \n",
       "1                          NaN   \n",
       "2                        426.4   \n",
       "3                        448.3   \n",
       "4                          9.9   \n",
       "\n",
       "   Gross Carbon Sequestration Per Year In Kilograms  \\\n",
       "0                                               0.5   \n",
       "1                                               NaN   \n",
       "2                                               8.8   \n",
       "3                                               9.6   \n",
       "4                                               1.4   \n",
       "\n",
       "   Pollution Removal Per Year In Grams  \n",
       "0                                  5.7  \n",
       "1                                  NaN  \n",
       "2                                215.2  \n",
       "3                                379.1  \n",
       "4                                 12.8  "
      ]
     },
     "execution_count": 10,
     "metadata": {},
     "output_type": "execute_result"
    }
   ],
   "source": [
    "# Display the first few rows\n",
    "enviroment.head()"
   ]
  },
  {
   "cell_type": "code",
   "execution_count": 11,
   "id": "66c23391-628f-4612-936b-7f55c561fd1b",
   "metadata": {},
   "outputs": [
    {
     "data": {
      "text/plain": [
       "(23415, 9)"
      ]
     },
     "execution_count": 11,
     "metadata": {},
     "output_type": "execute_result"
    }
   ],
   "source": [
    "# Get the number of rows and columns\n",
    "enviroment.shape"
   ]
  },
  {
   "cell_type": "code",
   "execution_count": 12,
   "id": "2ccce95e-0aec-4b3b-a961-5356606c2d60",
   "metadata": {},
   "outputs": [
    {
     "data": {
      "text/plain": [
       "Index(['Identifier', 'Maturity', 'Physiological Condition',\n",
       "       'Tree Set To Be Removed', 'Removal Reason',\n",
       "       'Capital Asset Value For Amenity Trees', 'Carbon Storage In Kilograms',\n",
       "       'Gross Carbon Sequestration Per Year In Kilograms',\n",
       "       'Pollution Removal Per Year In Grams'],\n",
       "      dtype='object')"
      ]
     },
     "execution_count": 12,
     "metadata": {},
     "output_type": "execute_result"
    }
   ],
   "source": [
    "# Get a list of all the columns in the dataframe\n",
    "enviroment.columns"
   ]
  },
  {
   "cell_type": "code",
   "execution_count": 13,
   "id": "b32a0236-40fc-44d8-a0b1-d2afb3baba19",
   "metadata": {},
   "outputs": [
    {
     "data": {
      "text/plain": [
       "Identifier                                           object\n",
       "Maturity                                             object\n",
       "Physiological Condition                              object\n",
       "Tree Set To Be Removed                               object\n",
       "Removal Reason                                       object\n",
       "Capital Asset Value For Amenity Trees               float64\n",
       "Carbon Storage In Kilograms                         float64\n",
       "Gross Carbon Sequestration Per Year In Kilograms    float64\n",
       "Pollution Removal Per Year In Grams                 float64\n",
       "dtype: object"
      ]
     },
     "execution_count": 13,
     "metadata": {},
     "output_type": "execute_result"
    }
   ],
   "source": [
    "# List the data types of each column\n",
    "enviroment.dtypes"
   ]
  },
  {
   "cell_type": "markdown",
   "id": "35e2a8fe-944e-4ef0-b944-0a536f699455",
   "metadata": {},
   "source": [
    "<hr/>"
   ]
  },
  {
   "cell_type": "markdown",
   "id": "faa2e5f5-67d8-4382-bad0-549486826c3a",
   "metadata": {},
   "source": [
    "### 2.3 Common and Scientific Names\n",
    "The file `\"tree_common_names.json\"` is a json file.  Use the appropriate function to load it into a Pandas DataFrame."
   ]
  },
  {
   "cell_type": "markdown",
   "id": "c60ddc1e-1bc2-498b-83c8-296e182a5048",
   "metadata": {},
   "source": [
    "<div style=\"background-color:lemonchiffon; border:1px solid; padding:5px; margin:5px; font-weight:bold\"><font color=\"crimson\">\n",
    "TODO: Complete the following code cells\n",
    "    </font></div>"
   ]
  },
  {
   "cell_type": "code",
   "execution_count": 14,
   "id": "9d3eef7b-123a-4e3d-8d19-5808becb2d35",
   "metadata": {},
   "outputs": [],
   "source": [
    "# Create a Pandas dataframe called trees that contains the contents of the json file\n",
    "commonNames = pd.read_json(\"tree_common_names.json\")"
   ]
  },
  {
   "cell_type": "code",
   "execution_count": 15,
   "id": "5d05c25c-b462-481b-b8ca-485f4b5a6cec",
   "metadata": {},
   "outputs": [
    {
     "data": {
      "text/html": [
       "<div>\n",
       "<style scoped>\n",
       "    .dataframe tbody tr th:only-of-type {\n",
       "        vertical-align: middle;\n",
       "    }\n",
       "\n",
       "    .dataframe tbody tr th {\n",
       "        vertical-align: top;\n",
       "    }\n",
       "\n",
       "    .dataframe thead th {\n",
       "        text-align: right;\n",
       "    }\n",
       "</style>\n",
       "<table border=\"1\" class=\"dataframe\">\n",
       "  <thead>\n",
       "    <tr style=\"text-align: right;\">\n",
       "      <th></th>\n",
       "      <th>Scientific Name</th>\n",
       "      <th>Common Name</th>\n",
       "    </tr>\n",
       "  </thead>\n",
       "  <tbody>\n",
       "    <tr>\n",
       "      <th>0</th>\n",
       "      <td>Carpinus betulus Lucas</td>\n",
       "      <td>Hornbeam - European</td>\n",
       "    </tr>\n",
       "    <tr>\n",
       "      <th>1</th>\n",
       "      <td>Prunus 'Pandora'</td>\n",
       "      <td>Cherry - Ornamental</td>\n",
       "    </tr>\n",
       "    <tr>\n",
       "      <th>2</th>\n",
       "      <td>Tilia unidentified species</td>\n",
       "      <td>Lime</td>\n",
       "    </tr>\n",
       "    <tr>\n",
       "      <th>3</th>\n",
       "      <td>Rosa unidentified species</td>\n",
       "      <td>None</td>\n",
       "    </tr>\n",
       "    <tr>\n",
       "      <th>4</th>\n",
       "      <td>Cedrus libani</td>\n",
       "      <td>Cedar of Lebanon</td>\n",
       "    </tr>\n",
       "  </tbody>\n",
       "</table>\n",
       "</div>"
      ],
      "text/plain": [
       "              Scientific Name          Common Name\n",
       "0      Carpinus betulus Lucas  Hornbeam - European\n",
       "1            Prunus 'Pandora'  Cherry - Ornamental\n",
       "2  Tilia unidentified species                 Lime\n",
       "3   Rosa unidentified species                 None\n",
       "4               Cedrus libani     Cedar of Lebanon"
      ]
     },
     "execution_count": 15,
     "metadata": {},
     "output_type": "execute_result"
    }
   ],
   "source": [
    "# Display the first few rows\n",
    "commonNames.head()"
   ]
  },
  {
   "cell_type": "code",
   "execution_count": 16,
   "id": "d6b7cc1e-1ec9-4a5e-a526-23143c0702f7",
   "metadata": {},
   "outputs": [
    {
     "data": {
      "text/plain": [
       "(589, 2)"
      ]
     },
     "execution_count": 16,
     "metadata": {},
     "output_type": "execute_result"
    }
   ],
   "source": [
    "# Get the number of rows and columns\n",
    "commonNames.shape"
   ]
  },
  {
   "cell_type": "code",
   "execution_count": 17,
   "id": "f349e0ba-c2d0-469b-9f16-530394e85446",
   "metadata": {},
   "outputs": [
    {
     "data": {
      "text/plain": [
       "Index(['Scientific Name', 'Common Name'], dtype='object')"
      ]
     },
     "execution_count": 17,
     "metadata": {},
     "output_type": "execute_result"
    }
   ],
   "source": [
    "# Get a list of all the columns in the dataframe\n",
    "commonNames.columns"
   ]
  },
  {
   "cell_type": "code",
   "execution_count": 18,
   "id": "aa722c8d-db42-4d95-85cc-eb3d87bcdc5a",
   "metadata": {},
   "outputs": [
    {
     "data": {
      "text/plain": [
       "Scientific Name    object\n",
       "Common Name        object\n",
       "dtype: object"
      ]
     },
     "execution_count": 18,
     "metadata": {},
     "output_type": "execute_result"
    }
   ],
   "source": [
    "# List the data types of each column\n",
    "commonNames.dtypes"
   ]
  },
  {
   "cell_type": "markdown",
   "id": "17473375-5a50-4709-9d87-8ba11c738dc9",
   "metadata": {},
   "source": [
    "<hr/>"
   ]
  },
  {
   "cell_type": "markdown",
   "id": "5034de69-86fd-4332-9fbd-9ce160540ded",
   "metadata": {},
   "source": [
    "### 2.4 Review\n",
    "At the end of this task you should have a good basic understanding of the contents and overall shape of the different data files.  If you don't, do back and review the outputs above."
   ]
  },
  {
   "cell_type": "markdown",
   "id": "0ba2d5d3-ad1e-4961-a2c6-c6ecd1bcc9e0",
   "metadata": {
    "tags": []
   },
   "source": [
    "## Task 3: Further Inspect the Datasets\n",
    "The initial inspection gave you a very high-level understanding of the data.  We will now drill a bit deeper and try to understand the data column-by-column.\n",
    "\n",
    "For columns with a string data type (`object` in Pandas) we have **qualitative** data.  It would be good to know how many *different* values we have in the column, what those values are and the *count* how many of each different value we have.  This will help us understand if the qualitative variable is **binary**, **nominal** or **ordinal**.\n",
    "\n",
    "For columns with a numeric data type (`int` or `float`) we have **quantitative** data.  Usually integer type variables can the thought of as **discrete** and float type variables can be thought of as **continuous**.  It would be good to know some summary descriptive statistics for these columns.   \n",
    "\n",
    "If you are unsure of what these different data classifications mean, read this:\n",
    "\n",
    "[Types of Variables](https://openclassrooms.com/en/courses/6037301-perform-an-initial-data-analysis/6051886-discover-the-four-variable-types)\n",
    "\n",
    "You can get the list of values and counts for a column using this function:\n",
    "\n",
    "[pandas.Series.value_counts](https://pandas.pydata.org/docs/reference/api/pandas.Series.value_counts.html)\n",
    "\n",
    "You can get the descriptive statistics for a DataFrame using this function:\n",
    "\n",
    "[pandas.DataFrame.describe](https://pandas.pydata.org/pandas-docs/stable/reference/api/pandas.DataFrame.describe.html)\n",
    "\n",
    "Note that Pandas may treat integer columns as floats if there are null values in the columns.  So if you see a float data type it might be worth checking the actual values to confirm if it really is a float or if it really is an int with nulls.  You can check the actual values with:\n",
    "\n",
    "[pandas.Series.unique](https://pandas.pydata.org/docs/reference/api/pandas.Series.unique.html)\n",
    "\n"
   ]
  },
  {
   "cell_type": "markdown",
   "id": "9899c07e-0430-49db-875a-6d5a629d6887",
   "metadata": {},
   "source": [
    "### 3.1 Further Inspect the Trees Dataset\n",
    "Let's start with the trees dataset.\n"
   ]
  },
  {
   "cell_type": "markdown",
   "id": "e220daf9-b12b-4d67-9253-6f61b1952e2f",
   "metadata": {},
   "source": [
    "#### 3.1.a Counts of Values for String Types Columns\n",
    "Go through each column that is a string (object) type and count the number of rows for each value in the column.  After each one, classify the data as binary, nominal or ordinal using a markdown comment.\n",
    "\n",
    "I've done the first one for you.\n"
   ]
  },
  {
   "cell_type": "markdown",
   "id": "3dd0dd30-406d-4635-888b-4157fa5e3f37",
   "metadata": {},
   "source": [
    "**Site Name**"
   ]
  },
  {
   "cell_type": "code",
   "execution_count": 19,
   "id": "3a4a0915-8d0e-45a2-a919-6b9fd49160da",
   "metadata": {},
   "outputs": [
    {
     "data": {
      "text/plain": [
       "WATERLOW PARK (LS)                         920\n",
       "Alexandra & Ainsworth Estate               289\n",
       "Belsize nature reserve, Russell Nursery    278\n",
       "Holly Lodge Estate                         272\n",
       "LINCOLN'S INN FIELDS, GARDENS (LS)         193\n",
       "                                          ... \n",
       "GOLDINGTON CRESCENT                          1\n",
       "ALLCROFT ROAD                                1\n",
       "WOBURN WALK, LAND BEHIND 4-18                1\n",
       "KILBURN PRIORY                               1\n",
       "GOODGE PLACE                                 1\n",
       "Name: Site Name, Length: 1135, dtype: int64"
      ]
     },
     "execution_count": 19,
     "metadata": {},
     "output_type": "execute_result"
    }
   ],
   "source": [
    "# List of values in Site Name column and their counts\n",
    "trees[\"Site Name\"].value_counts()"
   ]
  },
  {
   "cell_type": "markdown",
   "id": "9117ae6f-8ecb-429f-9e1e-84931d1291c2",
   "metadata": {},
   "source": [
    "Site Name is **qualitative nominal**."
   ]
  },
  {
   "cell_type": "markdown",
   "id": "62f1b4ef-e76a-4464-af20-70a31385091f",
   "metadata": {},
   "source": [
    "Now do the same on the other string columns.  Use `value_counts()` and then classify as binary, ordered or unordered using a markdown comment.  As you do each one, stop and look at the values and counts and think about how the data in the column might be useful for supporting the council's initiatives.  Don't just treat this as a mechanical copy/paste task. The objective is, after all, to get really intimate with the data!"
   ]
  },
  {
   "cell_type": "markdown",
   "id": "51845db9-18f6-4373-a8fc-e19492568561",
   "metadata": {},
   "source": [
    "<div style=\"background-color:lemonchiffon; border:1px solid; padding:5px; margin:5px; font-weight:bold\"><font color=\"crimson\">\n",
    "TODO: Enter your code below.  Use one code cell per column and then add a markdown cell after each one to classify the column as in the above example.  Add as many cells as you need.\n",
    "    </font></div>"
   ]
  },
  {
   "cell_type": "code",
   "execution_count": 20,
   "id": "979a2089",
   "metadata": {},
   "outputs": [
    {
     "data": {
      "text/plain": [
       "Highways              10062\n",
       "Housing                7500\n",
       "Parks                  4330\n",
       "Education              1288\n",
       "Corporate Landlord      264\n",
       "Name: Contract Area, dtype: int64"
      ]
     },
     "execution_count": 20,
     "metadata": {},
     "output_type": "execute_result"
    }
   ],
   "source": [
    "trees[\"Contract Area\"].value_counts()"
   ]
  },
  {
   "cell_type": "markdown",
   "id": "cfaa360a",
   "metadata": {},
   "source": [
    "Contract Name is **qualitative nominal**"
   ]
  },
  {
   "cell_type": "code",
   "execution_count": 21,
   "id": "90a2c62b-fb2c-492d-a529-06cc6066802d",
   "metadata": {},
   "outputs": [
    {
     "data": {
      "text/plain": [
       "Platanus x hispanica                                 3340\n",
       "Tilia europaea                                       1468\n",
       "Acer pseudoplatanus                                   941\n",
       "Betula pendula                                        765\n",
       "Fraxinus excelsior                                    754\n",
       "                                                     ... \n",
       "Vacant Tree Pit (planned: Populus tremula)              1\n",
       "Liriodendron fastigiata                                 1\n",
       "Sequoia sempervirens                                    1\n",
       "Sorbus x hybrida                                        1\n",
       "Vacant Tree Pit (planned: Acer rubrum 'Amstrong')       1\n",
       "Name: Scientific Name, Length: 543, dtype: int64"
      ]
     },
     "execution_count": 21,
     "metadata": {},
     "output_type": "execute_result"
    }
   ],
   "source": [
    "trees[\"Scientific Name\"].value_counts()"
   ]
  },
  {
   "cell_type": "markdown",
   "id": "180da0f9",
   "metadata": {},
   "source": [
    "Scientific Name is **qualitative nominal**"
   ]
  },
  {
   "cell_type": "code",
   "execution_count": 22,
   "id": "128fc054-89ec-494f-b651-2e01a5e95442",
   "metadata": {},
   "outputs": [
    {
     "data": {
      "text/plain": [
       "2022/2023    7921\n",
       "2021/2022    7353\n",
       "2020/2021    6577\n",
       "2019/2020    1157\n",
       "2018/2019      16\n",
       "2017/2018       5\n",
       "2016/2017       4\n",
       "2001/2002       4\n",
       "2003/2004       2\n",
       "2006/2007       1\n",
       "2012/2013       1\n",
       "2013/2014       1\n",
       "2011/2012       1\n",
       "Name: Inspection Due Date, dtype: int64"
      ]
     },
     "execution_count": 22,
     "metadata": {},
     "output_type": "execute_result"
    }
   ],
   "source": [
    "trees[\"Inspection Due Date\"].value_counts()"
   ]
  },
  {
   "cell_type": "markdown",
   "id": "0aa543fa",
   "metadata": {},
   "source": [
    "Inspection Due Date is **qualitative nominal**"
   ]
  },
  {
   "cell_type": "code",
   "execution_count": 23,
   "id": "0ef84a4f",
   "metadata": {},
   "outputs": [
    {
     "data": {
      "text/plain": [
       "E05000137    2799\n",
       "E05000143    1832\n",
       "E05000134    1541\n",
       "E05000140    1540\n",
       "E05000139    1463\n",
       "E05000136    1424\n",
       "E05000135    1340\n",
       "E05000138    1293\n",
       "E05000132    1284\n",
       "E05000131    1231\n",
       "E05000133    1229\n",
       "E05000129    1008\n",
       "E05000142     989\n",
       "E05000144     978\n",
       "E05000130     899\n",
       "E05000145     853\n",
       "E05000141     824\n",
       "E05000128     691\n",
       "Name: Ward Code, dtype: int64"
      ]
     },
     "execution_count": 23,
     "metadata": {},
     "output_type": "execute_result"
    }
   ],
   "source": [
    "trees[\"Ward Code\"].value_counts()"
   ]
  },
  {
   "cell_type": "markdown",
   "id": "78f4f438",
   "metadata": {},
   "source": [
    "Ward Code is **qualitative nominal**"
   ]
  },
  {
   "cell_type": "code",
   "execution_count": 24,
   "id": "74411261",
   "metadata": {},
   "outputs": [
    {
     "data": {
      "text/plain": [
       "Highgate                          2799\n",
       "St Pancras and Somers Town        1832\n",
       "Gospel Oak                        1541\n",
       "Kilburn                           1540\n",
       "Kentish Town                      1463\n",
       "Haverstock                        1424\n",
       "Hampstead Town                    1340\n",
       "Holborn and Covent Garden         1293\n",
       "Fortune Green                     1284\n",
       "Cantelowes                        1231\n",
       "Frognal and Fitzjohns             1229\n",
       "Bloomsbury                        1008\n",
       "Regent's Park                      989\n",
       "Swiss Cottage                      978\n",
       "Camden Town with Primrose Hill     899\n",
       "West Hampstead                     853\n",
       "King's Cross                       824\n",
       "Belsize                            691\n",
       "Name: Ward Name, dtype: int64"
      ]
     },
     "execution_count": 24,
     "metadata": {},
     "output_type": "execute_result"
    }
   ],
   "source": [
    "trees[\"Ward Name\"].value_counts()"
   ]
  },
  {
   "cell_type": "markdown",
   "id": "0793cbc8",
   "metadata": {},
   "source": [
    "Ward Name is **qualitative nominal**"
   ]
  },
  {
   "cell_type": "code",
   "execution_count": 25,
   "id": "9849bb0d",
   "metadata": {},
   "outputs": [
    {
     "data": {
      "text/plain": [
       "(51.556205, -0.173776)    3\n",
       "(51.553475, -0.152668)    3\n",
       "(51.548133, -0.144922)    2\n",
       "(51.544482, -0.144465)    2\n",
       "(51.55468, -0.164744)     2\n",
       "                         ..\n",
       "(51.525312, -0.128846)    1\n",
       "(51.540297, -0.181512)    1\n",
       "(51.556013, -0.211326)    1\n",
       "(51.55969, -0.182457)     1\n",
       "(51.552397, -0.173397)    1\n",
       "Name: Location, Length: 23262, dtype: int64"
      ]
     },
     "execution_count": 25,
     "metadata": {},
     "output_type": "execute_result"
    }
   ],
   "source": [
    "trees[\"Location\"].value_counts()"
   ]
  },
  {
   "cell_type": "markdown",
   "id": "2d18316d",
   "metadata": {},
   "source": [
    "Location is **qualitative nominal**"
   ]
  },
  {
   "cell_type": "markdown",
   "id": "098f1891-aa39-4304-9845-13cf7041d27f",
   "metadata": {},
   "source": [
    "<hr/>"
   ]
  },
  {
   "cell_type": "markdown",
   "id": "65820ccc-8566-4b63-b141-7dffa8e9d067",
   "metadata": {},
   "source": [
    "#### 3.1.b Descriptive Stats for Numeric Type Columns\n",
    "Use the `describe()` function to get the descriptive stats for the numeric columns.\n",
    "\n",
    "For each column, classify the column as discrete or continuous (use the data type to guide you, but check any floats to confirm whether they are really floats or just ints with null values.  Use `pandas.Series.unique()` to check this).\n"
   ]
  },
  {
   "cell_type": "markdown",
   "id": "bef50831-d839-4dd0-833e-cabfda83cba4",
   "metadata": {},
   "source": [
    "<div style=\"background-color:lemonchiffon; border:1px solid; padding:5px; margin:5px; font-weight:bold\"><font color=\"crimson\">\n",
    "TODO: Complete the following code cells\n",
    "    </font></div>"
   ]
  },
  {
   "cell_type": "code",
   "execution_count": 26,
   "id": "0f449063-a7c5-4526-a057-fd20bd17ba6f",
   "metadata": {},
   "outputs": [
    {
     "data": {
      "text/plain": [
       "count    23422.000000\n",
       "mean         1.100034\n",
       "std          1.288041\n",
       "min          0.000000\n",
       "25%          1.000000\n",
       "50%          1.000000\n",
       "75%          1.000000\n",
       "max         67.000000\n",
       "Name: Number Of Trees, dtype: float64"
      ]
     },
     "execution_count": 26,
     "metadata": {},
     "output_type": "execute_result"
    }
   ],
   "source": [
    "# Get the descriptive stats for the numeric columns\n",
    "trees[\"Number Of Trees\"].describe()"
   ]
  },
  {
   "cell_type": "code",
   "execution_count": 27,
   "id": "ea7db6e8",
   "metadata": {},
   "outputs": [
    {
     "data": {
      "text/plain": [
       "count    23006.000000\n",
       "mean        10.307029\n",
       "std          6.325293\n",
       "min          0.000000\n",
       "25%          5.000000\n",
       "50%          9.000000\n",
       "75%         15.000000\n",
       "max        127.000000\n",
       "Name: Height In Metres, dtype: float64"
      ]
     },
     "execution_count": 27,
     "metadata": {},
     "output_type": "execute_result"
    }
   ],
   "source": [
    "trees[\"Height In Metres\"].describe()"
   ]
  },
  {
   "cell_type": "code",
   "execution_count": 28,
   "id": "fce5f3c1",
   "metadata": {},
   "outputs": [
    {
     "data": {
      "text/plain": [
       "count    23006.000000\n",
       "mean         5.997612\n",
       "std          4.132379\n",
       "min          0.000000\n",
       "25%          3.000000\n",
       "50%          5.000000\n",
       "75%          8.000000\n",
       "max         88.000000\n",
       "Name: Spread In Metres, dtype: float64"
      ]
     },
     "execution_count": 28,
     "metadata": {},
     "output_type": "execute_result"
    }
   ],
   "source": [
    "trees[\"Spread In Metres\"].describe()"
   ]
  },
  {
   "cell_type": "code",
   "execution_count": 29,
   "id": "798091c5",
   "metadata": {},
   "outputs": [
    {
     "data": {
      "text/plain": [
       "count    23005.000000\n",
       "mean        32.595262\n",
       "std         26.149994\n",
       "min          0.000000\n",
       "25%         12.000000\n",
       "50%         27.000000\n",
       "75%         46.000000\n",
       "max        228.000000\n",
       "Name: Diameter In Centimetres At Breast Height, dtype: float64"
      ]
     },
     "execution_count": 29,
     "metadata": {},
     "output_type": "execute_result"
    }
   ],
   "source": [
    "trees[\"Diameter In Centimetres At Breast Height\"].describe()"
   ]
  },
  {
   "cell_type": "code",
   "execution_count": 30,
   "id": "c2b23da9",
   "metadata": {},
   "outputs": [
    {
     "data": {
      "text/plain": [
       "count     23444.000000\n",
       "mean     526762.518171\n",
       "std       25835.857212\n",
       "min           0.000000\n",
       "25%      526583.750000\n",
       "50%      528456.500000\n",
       "75%      529369.000000\n",
       "max      531514.000000\n",
       "Name: Easting, dtype: float64"
      ]
     },
     "execution_count": 30,
     "metadata": {},
     "output_type": "execute_result"
    }
   ],
   "source": [
    "trees[\"Easting\"].describe()"
   ]
  },
  {
   "cell_type": "code",
   "execution_count": 31,
   "id": "5cda2289",
   "metadata": {},
   "outputs": [
    {
     "data": {
      "text/plain": [
       "count     23444.000000\n",
       "mean     184085.188662\n",
       "std        9121.059755\n",
       "min           0.000000\n",
       "25%      183665.000000\n",
       "50%      184690.000000\n",
       "75%      185481.000000\n",
       "max      196188.000000\n",
       "Name: Northing, dtype: float64"
      ]
     },
     "execution_count": 31,
     "metadata": {},
     "output_type": "execute_result"
    }
   ],
   "source": [
    "trees[\"Northing\"].describe()"
   ]
  },
  {
   "cell_type": "code",
   "execution_count": 32,
   "id": "4816ad4b",
   "metadata": {},
   "outputs": [
    {
     "data": {
      "text/plain": [
       "count    23388.000000\n",
       "mean        -0.155145\n",
       "std          0.025058\n",
       "min         -0.261719\n",
       "25%         -0.175734\n",
       "50%         -0.148478\n",
       "75%         -0.135978\n",
       "max         -0.105858\n",
       "Name: Longitude, dtype: float64"
      ]
     },
     "execution_count": 32,
     "metadata": {},
     "output_type": "execute_result"
    }
   ],
   "source": [
    "trees[\"Longitude\"].describe()"
   ]
  },
  {
   "cell_type": "code",
   "execution_count": 33,
   "id": "41c901a6",
   "metadata": {},
   "outputs": [
    {
     "data": {
      "text/plain": [
       "count    23388.000000\n",
       "mean        51.545115\n",
       "std          0.013067\n",
       "min         51.512858\n",
       "25%         51.537472\n",
       "50%         51.546669\n",
       "75%         51.554032\n",
       "max         51.650843\n",
       "Name: Latitude, dtype: float64"
      ]
     },
     "execution_count": 33,
     "metadata": {},
     "output_type": "execute_result"
    }
   ],
   "source": [
    "trees[\"Latitude\"].describe()"
   ]
  },
  {
   "cell_type": "markdown",
   "id": "f8139d4e-5890-4d4d-bf64-850c9f783710",
   "metadata": {},
   "source": [
    "<hr/>\n",
    "\n",
    "Find out if floats are really floats or ints with nulls.\n",
    "\n",
    "<div style=\"background-color:lemonchiffon; border:1px solid; padding:5px; margin:5px; font-weight:bold\"><font color=\"crimson\">\n",
    "TODO: Enter your code below.  Use one code cell per column.   Add as many cells as you need.\n",
    "    </font></div>"
   ]
  },
  {
   "cell_type": "code",
   "execution_count": 34,
   "id": "d1b425fc-edd1-4bfd-9766-6bd300bd2968",
   "metadata": {},
   "outputs": [
    {
     "data": {
      "text/plain": [
       "array([ 1.,  2.,  3.,  0., nan,  5.,  6.,  7., 18.,  8., 65.,  4., 10.,\n",
       "        9., 11., 50., 12., 15., 52., 40., 33., 13., 20., 67., 21., 32.,\n",
       "       24., 26., 16., 25., 51.])"
      ]
     },
     "execution_count": 34,
     "metadata": {},
     "output_type": "execute_result"
    }
   ],
   "source": [
    "trees[\"Number Of Trees\"].unique()"
   ]
  },
  {
   "cell_type": "code",
   "execution_count": 35,
   "id": "a463c666-709d-4821-b0d0-815ce6810bd9",
   "metadata": {},
   "outputs": [
    {
     "data": {
      "text/plain": [
       "array([  nan,   5. ,   4. ,  14. ,   9. ,   0. ,   2. ,   2.5,   8. ,\n",
       "        13. ,  17. ,  10. ,   3. ,  19. ,   7. ,   6. ,   1.8,  15. ,\n",
       "        12. ,   1.5,  16. ,  20. ,  21. ,  24. ,  25. ,   2.7,  18. ,\n",
       "        11. ,  26. ,  22. ,   0.5,  16.1,  27. ,  28. ,   2.3,  22.3,\n",
       "        38. ,  15.5,  29. ,  23. ,  34. ,   3.5,   2.6,   1. ,   5.5,\n",
       "        22.5,   2.2,  36. ,  31. ,  96. ,  13.6, 127. ,  14.7,   4.5,\n",
       "        30. ,  35. ,  32. ,   9.4,  11.8,  33. ,  40. ,   2.1,   6.5,\n",
       "        41. ,  23.1,  37. ,  39. ,  12.5,   7.5,  13.7,  31.6,  23.8,\n",
       "         0.2,  12.3,  15.7,   6.8,   9.3,   3.8,  24.9,  17.4,   2.8,\n",
       "         3.2,  13.9,  12.4,  10.2,  10.8,  24.5,  30.4,   9.8,  11.4,\n",
       "        23.4,   3.7,  11.6,   7.7,   8.3,   3.6,  17.5,  19.5])"
      ]
     },
     "execution_count": 35,
     "metadata": {},
     "output_type": "execute_result"
    }
   ],
   "source": [
    "trees[\"Height In Metres\"].unique()"
   ]
  },
  {
   "cell_type": "code",
   "execution_count": 36,
   "id": "81ec49ca-b8dc-4c4f-ae1f-2fd3368330e8",
   "metadata": {},
   "outputs": [
    {
     "data": {
      "text/plain": [
       "array([  nan,  4.  ,  1.  ,  6.  ,  7.  ,  0.  ,  1.5 ,  5.  ,  9.  ,\n",
       "       10.  ,  3.  ,  2.  , 13.  ,  2.5 , 12.  , 15.  , 14.  ,  8.  ,\n",
       "       11.  ,  0.6 ,  1.8 , 17.  , 20.  , 18.  , 16.  , 22.  , 19.  ,\n",
       "        5.5 , 26.  ,  1.4 , 23.  , 21.  , 28.  ,  1.2 ,  0.5 ,  3.5 ,\n",
       "       24.  ,  1.3 ,  1.6 , 30.  ,  1.7 , 27.  ,  4.2 , 11.02,  0.7 ,\n",
       "        6.5 ,  4.5 , 31.  , 25.  ,  0.8 ,  0.3 ,  2.2 ,  2.8 ,  1.65,\n",
       "       29.  , 88.  ])"
      ]
     },
     "execution_count": 36,
     "metadata": {},
     "output_type": "execute_result"
    }
   ],
   "source": [
    "trees[\"Spread In Metres\"].unique()"
   ]
  },
  {
   "cell_type": "code",
   "execution_count": 37,
   "id": "ece0e5ee-9b62-43b7-ae9b-1c71086736f4",
   "metadata": {},
   "outputs": [
    {
     "data": {
      "text/plain": [
       "array([  nan,  10. ,   6. ,  26. ,  29. ,   5. ,   0. ,   4. ,  12. ,\n",
       "        59. ,  52. ,  23. ,  50. ,  63. ,  15. ,   3. ,  49. ,  42. ,\n",
       "        14. ,  19. ,   9. ,  70. ,  32. ,  28. ,  34. ,  20. ,  17. ,\n",
       "        27. ,  37. ,   8. ,  45. ,  18. , 119. ,   7. ,  38. ,  55. ,\n",
       "        41. ,  75. ,  31. ,  25. ,  11. ,  30. ,  43. ,  68. ,  92. ,\n",
       "        16. ,  35. ,  58. ,  72. ,  64. ,  13. ,  61. ,  69. ,  33. ,\n",
       "        47. ,  67. , 109. , 106. ,  24. ,  51. ,  40. ,  22. ,  60. ,\n",
       "        39. ,  46. ,  57. ,  21. ,  54. , 117. ,  44. ,  82. , 114. ,\n",
       "        65. ,  84. , 118. ,   1. ,  89. ,  53. ,  36. ,  93. ,  88. ,\n",
       "        86. , 163. ,  66. ,  81. ,  74. , 100. ,  48. ,  73. ,  95. ,\n",
       "       129. ,  62. ,  85. ,  56. ,   3.5, 161. ,  71. , 105. , 102. ,\n",
       "        80. ,  87. , 101. ,  76. , 113. , 108. , 160. , 132. ,  90. ,\n",
       "       145. , 130. ,  79. , 228. , 110. ,  83. ,  78. , 122. , 170. ,\n",
       "       115. ,   2. ,  77. , 107. ,  96. , 126. ,  91. , 104. , 158. ,\n",
       "        99. ,  94. ,  16.5, 127. , 151. , 103. , 112. ,  98. ,  97. ,\n",
       "       136. , 125. , 111. , 124. , 139. , 156. , 120. , 148. , 144. ,\n",
       "       140. , 121. , 143. ,  17.5, 154. , 159. , 142. , 197. , 123. ,\n",
       "       149. , 155. , 191. , 131. , 147. , 162. , 116. , 152. , 153. ,\n",
       "       165. , 137. , 200. , 177. , 133. , 128. , 134. ,  11.5, 135. ,\n",
       "       150. , 187. , 210. , 166. , 138. ,  10.5, 206. , 141. , 209. ,\n",
       "       184. , 173. , 192. ,   7.5, 194. , 157. , 146. , 185. ])"
      ]
     },
     "execution_count": 37,
     "metadata": {},
     "output_type": "execute_result"
    }
   ],
   "source": [
    "trees[\"Diameter In Centimetres At Breast Height\"].unique()"
   ]
  },
  {
   "cell_type": "code",
   "execution_count": 38,
   "id": "2ccbc2ff",
   "metadata": {},
   "outputs": [
    {
     "data": {
      "text/plain": [
       "array([527305, 529923,      0, ..., 527733, 524398, 525944])"
      ]
     },
     "execution_count": 38,
     "metadata": {},
     "output_type": "execute_result"
    }
   ],
   "source": [
    "trees[\"Easting\"].unique()"
   ]
  },
  {
   "cell_type": "code",
   "execution_count": 39,
   "id": "1ef0c2c0",
   "metadata": {},
   "outputs": [
    {
     "data": {
      "text/plain": [
       "array([185240, 184782,      0, ..., 185755, 187062, 187313])"
      ]
     },
     "execution_count": 39,
     "metadata": {},
     "output_type": "execute_result"
    }
   ],
   "source": [
    "trees[\"Northing\"].unique()"
   ]
  },
  {
   "cell_type": "code",
   "execution_count": 40,
   "id": "cac8812f",
   "metadata": {},
   "outputs": [
    {
     "data": {
      "text/plain": [
       "array([-0.16524 , -0.127681,       nan, ..., -0.196884, -0.204206,\n",
       "       -0.173397])"
      ]
     },
     "execution_count": 40,
     "metadata": {},
     "output_type": "execute_result"
    }
   ],
   "source": [
    "trees[\"Longitude\"].unique()"
   ]
  },
  {
   "cell_type": "code",
   "execution_count": 41,
   "id": "47865856",
   "metadata": {},
   "outputs": [
    {
     "data": {
      "text/plain": [
       "array([51.551693, 51.546984,       nan, ..., 51.54329 , 51.545726,\n",
       "       51.531863])"
      ]
     },
     "execution_count": 41,
     "metadata": {},
     "output_type": "execute_result"
    }
   ],
   "source": [
    "trees[\"Latitude\"].unique()"
   ]
  },
  {
   "cell_type": "markdown",
   "id": "27c930e8-f1f0-45d1-851a-ac41f43fbdcd",
   "metadata": {},
   "source": [
    "\n",
    "<hr/>"
   ]
  },
  {
   "cell_type": "markdown",
   "id": "de74dc7d-a346-42ba-9def-8d07b1ef1e0c",
   "metadata": {},
   "source": [
    "Classify the columns as discrete or continuous.\n",
    "\n",
    "<div style=\"background-color:lemonchiffon; border:1px solid; padding:5px; margin:5px; font-weight:bold\"><font color=\"crimson\">\n",
    "TODO: Enter markdown below.\n",
    "</div>"
   ]
  },
  {
   "cell_type": "markdown",
   "id": "5a7931f5-fac2-4181-84d6-b4999e983057",
   "metadata": {},
   "source": [
    "Number Of Trees is **quantitative discrete**\n",
    "\n",
    "Height In Metres is **quantitative continuous** \n",
    "\n",
    "Spread In Metres is **quantitative continuous**\n",
    "\n",
    "Diameter In Centimetres At Breast Height is **quantitative continuous**\n",
    "\n",
    "Easting is **quantitative discrete** \n",
    "\n",
    "Northing is **quantitative discrete**  \n",
    "\n",
    "Longitude is **quantitative continuous**  \n",
    "\n",
    "Latitude is **quantitative continuous**                                           "
   ]
  },
  {
   "cell_type": "markdown",
   "id": "4ee2e405-e35f-49d7-bcd6-00c12d31fa8d",
   "metadata": {},
   "source": [
    "<hr/>"
   ]
  },
  {
   "cell_type": "markdown",
   "id": "90c6e10d-2f2e-4003-b983-f60870b6fc1a",
   "metadata": {},
   "source": [
    "### 3.2 Further Inspect the Environmental Dataset\n",
    "Now repeat the above for the environmental dataset.\n",
    "\n",
    "#### 3.2.a Counts of Values for String Type Columns \n",
    "For each string column in the environmental dataset show the counts of the unique values."
   ]
  },
  {
   "cell_type": "markdown",
   "id": "f077e892-01db-426e-9cae-e59a6b0940be",
   "metadata": {},
   "source": [
    "<div style=\"background-color:lemonchiffon; border:1px solid; padding:5px; margin:5px; font-weight:bold\"><font color=\"crimson\">\n",
    "    TODO: Enter your code below.  Use one code cell per column and then add a markdown cell after each one to classify the column.  Add as many cells as you need.\n",
    "</font></div>"
   ]
  },
  {
   "cell_type": "code",
   "execution_count": 42,
   "id": "044f2b73-aa4b-4a10-8546-e3149d39d817",
   "metadata": {},
   "outputs": [
    {
     "data": {
      "text/plain": [
       "00055125    1\n",
       "00001681    1\n",
       "00008539    1\n",
       "00019552    1\n",
       "00032062    1\n",
       "           ..\n",
       "00013724    1\n",
       "00005978    1\n",
       "00017336    1\n",
       "00014229    1\n",
       "00001786    1\n",
       "Name: Identifier, Length: 23415, dtype: int64"
      ]
     },
     "execution_count": 42,
     "metadata": {},
     "output_type": "execute_result"
    }
   ],
   "source": [
    "enviroment[\"Identifier\"].value_counts()"
   ]
  },
  {
   "cell_type": "markdown",
   "id": "1b8a32b4",
   "metadata": {},
   "source": [
    "Identifier is qualitive nominal"
   ]
  },
  {
   "cell_type": "code",
   "execution_count": 43,
   "id": "44ba9648-4ddb-4d61-b176-264bce03818c",
   "metadata": {},
   "outputs": [
    {
     "data": {
      "text/plain": [
       "Mature            10225\n",
       "Middle aged        7779\n",
       "Juvenile           4393\n",
       "Not Applicable      377\n",
       "Over Mature         191\n",
       "Veteran              41\n",
       "Name: Maturity, dtype: int64"
      ]
     },
     "execution_count": 43,
     "metadata": {},
     "output_type": "execute_result"
    }
   ],
   "source": [
    "enviroment[\"Maturity\"].value_counts()"
   ]
  },
  {
   "cell_type": "markdown",
   "id": "01277eca",
   "metadata": {},
   "source": [
    "Maturity is qualitive ordinal"
   ]
  },
  {
   "cell_type": "code",
   "execution_count": 44,
   "id": "089c3831-ae1e-47f9-a907-45260efe3d56",
   "metadata": {},
   "outputs": [
    {
     "data": {
      "text/plain": [
       "Good              12910\n",
       "Fair               9183\n",
       "Poor                357\n",
       "Not applicable      249\n",
       "Dead                236\n",
       "Excellent             8\n",
       "Name: Physiological Condition, dtype: int64"
      ]
     },
     "execution_count": 44,
     "metadata": {},
     "output_type": "execute_result"
    }
   ],
   "source": [
    "enviroment[\"Physiological Condition\"].value_counts()"
   ]
  },
  {
   "cell_type": "markdown",
   "id": "7b301872",
   "metadata": {},
   "source": [
    "Physiological Condition is qualitive ordinal"
   ]
  },
  {
   "cell_type": "code",
   "execution_count": 45,
   "id": "3773970e",
   "metadata": {},
   "outputs": [
    {
     "data": {
      "text/plain": [
       "No     23331\n",
       "Yes       84\n",
       "Name: Tree Set To Be Removed, dtype: int64"
      ]
     },
     "execution_count": 45,
     "metadata": {},
     "output_type": "execute_result"
    }
   ],
   "source": [
    "enviroment[\"Tree Set To Be Removed\"].value_counts()"
   ]
  },
  {
   "cell_type": "markdown",
   "id": "18b0bdc6",
   "metadata": {},
   "source": [
    "Tree Set To Be Removed is qualitative binary"
   ]
  },
  {
   "cell_type": "code",
   "execution_count": 46,
   "id": "c191a317",
   "metadata": {},
   "outputs": [
    {
     "data": {
      "text/plain": [
       "Dead, dying                    30\n",
       "Basal decay                    17\n",
       "Trunk decay                    10\n",
       "Tree defect                     5\n",
       "Crown die-back                  5\n",
       "Dog damage                      3\n",
       "Unsuitable location             3\n",
       "Newly planted tree failure      2\n",
       "Coppiced stump                  1\n",
       "Touching building/structure     1\n",
       "Crown decay                     1\n",
       "Split trunk                     1\n",
       "Broken/split branch             1\n",
       "Climber                         1\n",
       "No defects - work required      1\n",
       "Suppressed                      1\n",
       "ATRD                            1\n",
       "Name: Removal Reason, dtype: int64"
      ]
     },
     "execution_count": 46,
     "metadata": {},
     "output_type": "execute_result"
    }
   ],
   "source": [
    "enviroment[\"Removal Reason\"].value_counts()"
   ]
  },
  {
   "cell_type": "code",
   "execution_count": null,
   "id": "b5f2e687",
   "metadata": {},
   "outputs": [],
   "source": [
    "Removal Reason is qualitative nominal"
   ]
  },
  {
   "cell_type": "markdown",
   "id": "fa84e8d1-57aa-483b-bb38-e54a07e6aff8",
   "metadata": {},
   "source": [
    "<hr/>"
   ]
  },
  {
   "cell_type": "markdown",
   "id": "5c9ae370-ab1f-43f3-ba17-5dd062a2cbf1",
   "metadata": {},
   "source": [
    "#### 3.2.b Descriptive Stats for Numeric Type Columns\n",
    "For each numeric column in the environmental dataset show the descriptive stats"
   ]
  },
  {
   "cell_type": "markdown",
   "id": "eafafa68-7cf4-4f9d-bbe1-7513151aa727",
   "metadata": {},
   "source": [
    "<div style=\"background-color:lemonchiffon; border:1px solid; padding:5px; margin:5px; font-weight:bold\"><font color=\"crimson\">\n",
    "TODO: Complete the following code cells\n",
    "    </font></div>"
   ]
  },
  {
   "cell_type": "code",
   "execution_count": 47,
   "id": "4380cd76-3b4c-4488-8b5d-b8429c747228",
   "metadata": {},
   "outputs": [
    {
     "data": {
      "text/plain": [
       "count     22982.000000\n",
       "mean      14056.393047\n",
       "std       24803.806595\n",
       "min           0.000000\n",
       "25%        1035.650000\n",
       "50%        5443.660000\n",
       "75%       16781.420000\n",
       "max      504725.720000\n",
       "Name: Capital Asset Value For Amenity Trees, dtype: float64"
      ]
     },
     "execution_count": 47,
     "metadata": {},
     "output_type": "execute_result"
    }
   ],
   "source": [
    "# Get the descriptive stats for all numeric columns\n",
    "enviroment[\"Capital Asset Value For Amenity Trees\"].describe()"
   ]
  },
  {
   "cell_type": "code",
   "execution_count": 48,
   "id": "514c0dd5",
   "metadata": {},
   "outputs": [
    {
     "data": {
      "text/plain": [
       "count    20555.000000\n",
       "mean       467.465454\n",
       "std        844.926555\n",
       "min          0.500000\n",
       "25%         24.800000\n",
       "50%        163.900000\n",
       "75%        497.300000\n",
       "max       6000.000000\n",
       "Name: Carbon Storage In Kilograms, dtype: float64"
      ]
     },
     "execution_count": 48,
     "metadata": {},
     "output_type": "execute_result"
    }
   ],
   "source": [
    "enviroment[\"Carbon Storage In Kilograms\"].describe()"
   ]
  },
  {
   "cell_type": "code",
   "execution_count": 49,
   "id": "05d6a83e",
   "metadata": {},
   "outputs": [
    {
     "data": {
      "text/plain": [
       "count    20555.000000\n",
       "mean       467.465454\n",
       "std        844.926555\n",
       "min          0.500000\n",
       "25%         24.800000\n",
       "50%        163.900000\n",
       "75%        497.300000\n",
       "max       6000.000000\n",
       "Name: Carbon Storage In Kilograms, dtype: float64"
      ]
     },
     "execution_count": 49,
     "metadata": {},
     "output_type": "execute_result"
    }
   ],
   "source": [
    "enviroment[\"Carbon Storage In Kilograms\"].describe()"
   ]
  },
  {
   "cell_type": "code",
   "execution_count": 50,
   "id": "0b1bd43b",
   "metadata": {},
   "outputs": [
    {
     "data": {
      "text/plain": [
       "count    20555.000000\n",
       "mean       217.740316\n",
       "std        306.751920\n",
       "min          0.300000\n",
       "25%         29.300000\n",
       "50%        108.100000\n",
       "75%        297.600000\n",
       "max       8223.700000\n",
       "Name: Pollution Removal Per Year In Grams, dtype: float64"
      ]
     },
     "execution_count": 50,
     "metadata": {},
     "output_type": "execute_result"
    }
   ],
   "source": [
    "enviroment[\"Pollution Removal Per Year In Grams\"].describe()"
   ]
  },
  {
   "cell_type": "markdown",
   "id": "eb227586-d79a-46b9-a665-854b330a4c72",
   "metadata": {},
   "source": [
    "<hr/>\n",
    "\n",
    "Find out if floats are really floats or ints with nulls.\n",
    "\n",
    "<div style=\"background-color:lemonchiffon; border:1px solid; padding:5px; margin:5px; font-weight:bold\"><font color=\"crimson\">\n",
    "TODO: Enter your code below.  Use one code cell per column.   Add as many cells as you need.\n",
    "    </font></div>"
   ]
  },
  {
   "cell_type": "code",
   "execution_count": 51,
   "id": "20d9ddc5-3be9-4836-bc1a-5974d9b6b6b8",
   "metadata": {},
   "outputs": [
    {
     "data": {
      "text/plain": [
       "array([1.1507000e+02, 7.5180800e+03, 2.0419630e+04, ..., 3.3664130e+04,\n",
       "       3.6269450e+04, 1.4801215e+05])"
      ]
     },
     "execution_count": 51,
     "metadata": {},
     "output_type": "execute_result"
    }
   ],
   "source": [
    "enviroment[\"Capital Asset Value For Amenity Trees\"].unique()"
   ]
  },
  {
   "cell_type": "code",
   "execution_count": 52,
   "id": "0ac2cda7-cc1c-4a51-935e-033958ee9072",
   "metadata": {},
   "outputs": [
    {
     "data": {
      "text/plain": [
       "array([1.6000e+00,        nan, 4.2640e+02, ..., 4.7233e+03, 3.7305e+03,\n",
       "       4.8100e+02])"
      ]
     },
     "execution_count": 52,
     "metadata": {},
     "output_type": "execute_result"
    }
   ],
   "source": [
    "enviroment[\"Carbon Storage In Kilograms\"].unique()"
   ]
  },
  {
   "cell_type": "code",
   "execution_count": 53,
   "id": "5503930d-debf-40d0-b845-e00adc7ac40b",
   "metadata": {},
   "outputs": [
    {
     "data": {
      "text/plain": [
       "array([1.6000e+00,        nan, 4.2640e+02, ..., 4.7233e+03, 3.7305e+03,\n",
       "       4.8100e+02])"
      ]
     },
     "execution_count": 53,
     "metadata": {},
     "output_type": "execute_result"
    }
   ],
   "source": [
    "enviroment[\"Carbon Storage In Kilograms\"].unique()"
   ]
  },
  {
   "cell_type": "code",
   "execution_count": 54,
   "id": "2a1ad19d-b9d9-4752-a876-c39121829f22",
   "metadata": {},
   "outputs": [
    {
     "data": {
      "text/plain": [
       "array([  5.7,   nan, 215.2, ...,   8. , 399.9,  60.1])"
      ]
     },
     "execution_count": 54,
     "metadata": {},
     "output_type": "execute_result"
    }
   ],
   "source": [
    "enviroment[\"Pollution Removal Per Year In Grams\"].unique()"
   ]
  },
  {
   "cell_type": "markdown",
   "id": "6d550cf1-defa-4c65-9fcf-7d334a0c8899",
   "metadata": {},
   "source": [
    "<hr/>"
   ]
  },
  {
   "cell_type": "markdown",
   "id": "8bda5350-317b-43c1-91b1-71aeedf06ed3",
   "metadata": {},
   "source": [
    "\n",
    "Classify the columns as discrete or continuous.\n",
    "\n",
    "<div style=\"background-color:lemonchiffon; border:1px solid; padding:5px; margin:5px; font-weight:bold\"><font color=\"crimson\">\n",
    "TODO: Enter markdown below.\n",
    "    </font></div>\n"
   ]
  },
  {
   "cell_type": "markdown",
   "id": "e90ac26a-3015-491c-9c5d-a0d1b47c1f94",
   "metadata": {},
   "source": [
    "\n",
    "Capital Asset Value For Amenity Trees is quantitative continuous \n",
    "\n",
    "Carbon Storage In Kilograms is quantitative continuous \n",
    "\n",
    "Gross Carbon Sequestration Per Year In Kilograms is quantitative continuous\n",
    "\n",
    "Pollution Removal Per Year In Grams  is quantitative continuous \n"
   ]
  },
  {
   "cell_type": "markdown",
   "id": "1467aacd-ee75-46c9-b1d9-753c78869723",
   "metadata": {},
   "source": [
    "<hr/>"
   ]
  },
  {
   "cell_type": "markdown",
   "id": "5edacbd1-2ef6-4719-acc7-2d8f630d4195",
   "metadata": {},
   "source": [
    "### 3.3 Further Inspect the Common Names Dataset\n",
    "Now repeat the above for the common names dataset.\n",
    "\n",
    "#### 3.3.a (Names) Counts of Values for String Type Columns \n",
    "For each string column in the common names dataset show the counts of the unique values.\n",
    "\n",
    "<div style=\"background-color:lemonchiffon; border:1px solid; padding:5px; margin:5px; font-weight:bold\"><font color=\"crimson\">\n",
    "<font color=\"crimson\">TODO: Enter your code below.  Use one code cell per column and then add a markdown cell after each one to classify the column.  Add as many cells as you need.</font>\n",
    "    </font></div>\n"
   ]
  },
  {
   "cell_type": "code",
   "execution_count": 55,
   "id": "0c83c5e3-e84a-4e29-a05c-2c10b7d5dfb0",
   "metadata": {},
   "outputs": [
    {
     "data": {
      "text/plain": [
       "Cupressocyparis leylandii                             2\n",
       "Larix decidua                                         2\n",
       "Salix fragilis                                        2\n",
       "Alnus cordata                                         2\n",
       "Populus nigra                                         2\n",
       "                                                     ..\n",
       "Pyrus salicifolia 'Pendula'                           1\n",
       "Chamaecyparis lawsoniana 'unid                        1\n",
       "Platanus x hispanica Tremonia                         1\n",
       "Vacant Tree Pit (planned: Gymnocladus dioicus)        1\n",
       "Vacant Tree Pit (planned: Liquidambar styraciflua)    1\n",
       "Name: Scientific Name, Length: 560, dtype: int64"
      ]
     },
     "execution_count": 55,
     "metadata": {},
     "output_type": "execute_result"
    }
   ],
   "source": [
    "commonNames[\"Scientific Name\"].value_counts()"
   ]
  },
  {
   "cell_type": "code",
   "execution_count": 56,
   "id": "ca5c98b7-a9c5-4ece-bb76-ed03a804525e",
   "metadata": {},
   "outputs": [
    {
     "data": {
      "text/plain": [
       "Cherry                         12\n",
       "Rowan                          10\n",
       "Magnolia                       10\n",
       "Vacant Tree Pit (planned: )    10\n",
       "Apple - Crab                    9\n",
       "                               ..\n",
       "Pittosporum                     1\n",
       "Birch - Purple                  1\n",
       "Maple - Column Norway           1\n",
       "Maple - Crimson King Norway     1\n",
       "Castlewellan gold               1\n",
       "Name: Common Name, Length: 431, dtype: int64"
      ]
     },
     "execution_count": 56,
     "metadata": {},
     "output_type": "execute_result"
    }
   ],
   "source": [
    "commonNames[\"Common Name\"].value_counts()"
   ]
  },
  {
   "cell_type": "markdown",
   "id": "2778e230-5042-42eb-b51a-022a1c9710cc",
   "metadata": {},
   "source": [
    "<hr/>\n"
   ]
  },
  {
   "cell_type": "markdown",
   "id": "8b9a614c-0c3f-41f1-9b30-7259bcb3a2d3",
   "metadata": {},
   "source": [
    "#### 3.3.b (Names) Descriptive Stats for Numeric Type Columns\n",
    "There are no numeric columns."
   ]
  },
  {
   "cell_type": "markdown",
   "id": "8641574f-7ee8-4cac-98d9-4c33a54891af",
   "metadata": {
    "tags": []
   },
   "source": [
    "## Task 4: Identify Missing Values\n",
    "Find the number of missing values in each column.  Missing values can indicate data quality issues.  Missing are nulls in our data.  But sometimes zero values indicate missing values.  For example, a zero value for a tree height is clearly not a valid valid, so should be considered missing.\n",
    "\n",
    "Use these functions to find rows that have missing and zero values:\n",
    "\n",
    "- [pandas.DataFrame.isnull](https://pandas.pydata.org/docs/reference/api/pandas.DataFrame.isnull.html)\n",
    "- [pandas.DataFrame.isin](https://pandas.pydata.org/docs/reference/api/pandas.DataFrame.isin.html)\n",
    "- [pandas.DataFrame.mean](https://pandas.pydata.org/pandas-docs/stable/reference/api/pandas.DataFrame.mean.html)\n",
    "- [pandas.DataFrame.sum](https://pandas.pydata.org/docs/reference/api/pandas.DataFrame.sum.html)\n",
    "\n",
    "As you go through this task, think about the possible impact of the missing values on the ability of the data to deliver on the council's initiatives.  There is no absolute answer to \"how many missing values is too many\".  It depends on the context of what you intend to do with the data.  Try to make an interpretation based on your understanding of the requirements."
   ]
  },
  {
   "cell_type": "markdown",
   "id": "5ee7f2e0-20bf-4249-9f5d-57ab6cc0fa30",
   "metadata": {},
   "source": [
    "### 4.1 Missing Values for the Trees Dataset\n",
    "I've shown you how to do this for the trees dataset."
   ]
  },
  {
   "cell_type": "code",
   "execution_count": 57,
   "id": "0bd1e712-9211-44f8-a22c-fb1df46c1961",
   "metadata": {},
   "outputs": [
    {
     "data": {
      "text/plain": [
       "Identifier                                  0.000000\n",
       "Number Of Trees                             0.093841\n",
       "Site Name                                   0.000000\n",
       "Contract Area                               0.000000\n",
       "Scientific Name                             0.000000\n",
       "Inspection Date                             1.710459\n",
       "Inspection Due Date                         1.710459\n",
       "Height In Metres                            1.868282\n",
       "Spread In Metres                            1.868282\n",
       "Diameter In Centimetres At Breast Height    1.872547\n",
       "Ward Code                                   0.963999\n",
       "Ward Name                                   0.963999\n",
       "Easting                                     0.000000\n",
       "Northing                                    0.000000\n",
       "Longitude                                   0.238867\n",
       "Latitude                                    0.238867\n",
       "Location                                    0.238867\n",
       "dtype: float64"
      ]
     },
     "execution_count": 57,
     "metadata": {},
     "output_type": "execute_result"
    }
   ],
   "source": [
    "# Percentage of null values\n",
    "trees.isnull().mean()*100"
   ]
  },
  {
   "cell_type": "code",
   "execution_count": 58,
   "id": "afbf5093-5716-440a-8f89-eeb6a5d66662",
   "metadata": {},
   "outputs": [
    {
     "data": {
      "text/plain": [
       "Identifier                                    0\n",
       "Number Of Trees                              22\n",
       "Site Name                                     0\n",
       "Contract Area                                 0\n",
       "Scientific Name                               0\n",
       "Inspection Date                             401\n",
       "Inspection Due Date                         401\n",
       "Height In Metres                            438\n",
       "Spread In Metres                            438\n",
       "Diameter In Centimetres At Breast Height    439\n",
       "Ward Code                                   226\n",
       "Ward Name                                   226\n",
       "Easting                                       0\n",
       "Northing                                      0\n",
       "Longitude                                    56\n",
       "Latitude                                     56\n",
       "Location                                     56\n",
       "dtype: int64"
      ]
     },
     "execution_count": 58,
     "metadata": {},
     "output_type": "execute_result"
    }
   ],
   "source": [
    "# Number of null values\n",
    "trees.isnull().sum()"
   ]
  },
  {
   "cell_type": "code",
   "execution_count": 59,
   "id": "cde99d54-297d-41d8-954d-94ba2e08a2c5",
   "metadata": {},
   "outputs": [
    {
     "data": {
      "text/plain": [
       "Identifier                                  0.000000\n",
       "Number Of Trees                             0.396690\n",
       "Site Name                                   0.000000\n",
       "Contract Area                               0.000000\n",
       "Scientific Name                             0.000000\n",
       "Inspection Date                             0.000000\n",
       "Inspection Due Date                         0.000000\n",
       "Height In Metres                            0.733663\n",
       "Spread In Metres                            1.181539\n",
       "Diameter In Centimetres At Breast Height    1.164477\n",
       "Ward Code                                   0.000000\n",
       "Ward Name                                   0.000000\n",
       "Easting                                     0.238867\n",
       "Northing                                    0.238867\n",
       "Longitude                                   0.000000\n",
       "Latitude                                    0.000000\n",
       "Location                                    0.000000\n",
       "dtype: float64"
      ]
     },
     "execution_count": 59,
     "metadata": {},
     "output_type": "execute_result"
    }
   ],
   "source": [
    "# Percentage of zero values\n",
    "trees.isin([0]).mean()*100"
   ]
  },
  {
   "cell_type": "code",
   "execution_count": 60,
   "id": "d0947b5d-8978-46d8-8d57-252d29c25ca8",
   "metadata": {},
   "outputs": [
    {
     "data": {
      "text/plain": [
       "Identifier                                    0\n",
       "Number Of Trees                              93\n",
       "Site Name                                     0\n",
       "Contract Area                                 0\n",
       "Scientific Name                               0\n",
       "Inspection Date                               0\n",
       "Inspection Due Date                           0\n",
       "Height In Metres                            172\n",
       "Spread In Metres                            277\n",
       "Diameter In Centimetres At Breast Height    273\n",
       "Ward Code                                     0\n",
       "Ward Name                                     0\n",
       "Easting                                      56\n",
       "Northing                                     56\n",
       "Longitude                                     0\n",
       "Latitude                                      0\n",
       "Location                                      0\n",
       "dtype: int64"
      ]
     },
     "execution_count": 60,
     "metadata": {},
     "output_type": "execute_result"
    }
   ],
   "source": [
    "# Number of zero values\n",
    "trees.isin([0]).sum()"
   ]
  },
  {
   "cell_type": "code",
   "execution_count": 61,
   "id": "de03ea2b-8ea2-48ff-b620-d9fd16290c7b",
   "metadata": {},
   "outputs": [
    {
     "data": {
      "text/plain": [
       "Identifier                                  0.000000\n",
       "Number Of Trees                             0.004905\n",
       "Site Name                                   0.000000\n",
       "Contract Area                               0.000000\n",
       "Scientific Name                             0.000000\n",
       "Inspection Date                             0.017105\n",
       "Inspection Due Date                         0.017105\n",
       "Height In Metres                            0.026019\n",
       "Spread In Metres                            0.030498\n",
       "Diameter In Centimetres At Breast Height    0.030370\n",
       "Ward Code                                   0.009640\n",
       "Ward Name                                   0.009640\n",
       "Easting                                     0.002389\n",
       "Northing                                    0.002389\n",
       "Longitude                                   0.002389\n",
       "Latitude                                    0.002389\n",
       "Location                                    0.002389\n",
       "dtype: float64"
      ]
     },
     "execution_count": 61,
     "metadata": {},
     "output_type": "execute_result"
    }
   ],
   "source": [
    "# Percentage of null and zero values\n",
    "(trees.isnull().sum() + trees.isin([0]).sum())/trees.shape[0]"
   ]
  },
  {
   "cell_type": "code",
   "execution_count": 62,
   "id": "f43e38e0-00c6-4ebd-9899-8f91557becb7",
   "metadata": {},
   "outputs": [
    {
     "data": {
      "text/plain": [
       "Identifier                                    0\n",
       "Number Of Trees                             115\n",
       "Site Name                                     0\n",
       "Contract Area                                 0\n",
       "Scientific Name                               0\n",
       "Inspection Date                             401\n",
       "Inspection Due Date                         401\n",
       "Height In Metres                            610\n",
       "Spread In Metres                            715\n",
       "Diameter In Centimetres At Breast Height    712\n",
       "Ward Code                                   226\n",
       "Ward Name                                   226\n",
       "Easting                                      56\n",
       "Northing                                     56\n",
       "Longitude                                    56\n",
       "Latitude                                     56\n",
       "Location                                     56\n",
       "dtype: int64"
      ]
     },
     "execution_count": 62,
     "metadata": {},
     "output_type": "execute_result"
    }
   ],
   "source": [
    "# Number of null and zero values\n",
    "(trees.isnull().sum() + trees.isin([0]).sum())"
   ]
  },
  {
   "cell_type": "markdown",
   "id": "a7416001-4d63-4bd5-9bea-2412d322ed88",
   "metadata": {},
   "source": [
    "### 4.2 Missing Values for the Environmental Dataset\n",
    "Now repeat the missing values check for the environmental dataset.\n",
    "\n",
    "<div style=\"background-color:lemonchiffon; border:1px solid; padding:5px; margin:5px; font-weight:bold\"><font color=\"crimson\">\n",
    "TODO: Complete the following code cells\n",
    "    </font></div>"
   ]
  },
  {
   "cell_type": "code",
   "execution_count": 63,
   "id": "45971fda-0b80-4652-bc63-ed8baeaad087",
   "metadata": {},
   "outputs": [
    {
     "data": {
      "text/plain": [
       "Identifier                                           0.000000\n",
       "Maturity                                             1.746744\n",
       "Physiological Condition                              2.015802\n",
       "Tree Set To Be Removed                               0.000000\n",
       "Removal Reason                                      99.641256\n",
       "Capital Asset Value For Amenity Trees                1.849242\n",
       "Carbon Storage In Kilograms                         12.214392\n",
       "Gross Carbon Sequestration Per Year In Kilograms    12.214392\n",
       "Pollution Removal Per Year In Grams                 12.214392\n",
       "dtype: float64"
      ]
     },
     "execution_count": 63,
     "metadata": {},
     "output_type": "execute_result"
    }
   ],
   "source": [
    "# Percentage of null values\n",
    "enviroment.isnull().mean()*100"
   ]
  },
  {
   "cell_type": "code",
   "execution_count": 64,
   "id": "35471141-aca6-453d-afc8-babde8975f14",
   "metadata": {},
   "outputs": [
    {
     "data": {
      "text/plain": [
       "Identifier                                              0\n",
       "Maturity                                              409\n",
       "Physiological Condition                               472\n",
       "Tree Set To Be Removed                                  0\n",
       "Removal Reason                                      23331\n",
       "Capital Asset Value For Amenity Trees                 433\n",
       "Carbon Storage In Kilograms                          2860\n",
       "Gross Carbon Sequestration Per Year In Kilograms     2860\n",
       "Pollution Removal Per Year In Grams                  2860\n",
       "dtype: int64"
      ]
     },
     "execution_count": 64,
     "metadata": {},
     "output_type": "execute_result"
    }
   ],
   "source": [
    "# Number of null values\n",
    "enviroment.isnull().sum()"
   ]
  },
  {
   "cell_type": "code",
   "execution_count": 65,
   "id": "333f86d0-8443-48b5-ba17-6bb91cfd1190",
   "metadata": {},
   "outputs": [
    {
     "data": {
      "text/plain": [
       "Identifier                                          0.000000\n",
       "Maturity                                            0.000000\n",
       "Physiological Condition                             0.000000\n",
       "Tree Set To Be Removed                              0.000000\n",
       "Removal Reason                                      0.000000\n",
       "Capital Asset Value For Amenity Trees               1.183002\n",
       "Carbon Storage In Kilograms                         0.000000\n",
       "Gross Carbon Sequestration Per Year In Kilograms    0.025625\n",
       "Pollution Removal Per Year In Grams                 0.000000\n",
       "dtype: float64"
      ]
     },
     "execution_count": 65,
     "metadata": {},
     "output_type": "execute_result"
    }
   ],
   "source": [
    "# Percentage of zero values\n",
    "enviroment.isin([0]).mean()*100"
   ]
  },
  {
   "cell_type": "code",
   "execution_count": 66,
   "id": "809d3c20-113f-4665-b18d-cbdaa07b613c",
   "metadata": {},
   "outputs": [
    {
     "data": {
      "text/plain": [
       "Identifier                                            0\n",
       "Maturity                                              0\n",
       "Physiological Condition                               0\n",
       "Tree Set To Be Removed                                0\n",
       "Removal Reason                                        0\n",
       "Capital Asset Value For Amenity Trees               277\n",
       "Carbon Storage In Kilograms                           0\n",
       "Gross Carbon Sequestration Per Year In Kilograms      6\n",
       "Pollution Removal Per Year In Grams                   0\n",
       "dtype: int64"
      ]
     },
     "execution_count": 66,
     "metadata": {},
     "output_type": "execute_result"
    }
   ],
   "source": [
    "# Number of zero values\n",
    "enviroment.isin([0]).sum()"
   ]
  },
  {
   "cell_type": "code",
   "execution_count": 67,
   "id": "bbada47a-e7aa-43be-bfca-624feda60cb7",
   "metadata": {},
   "outputs": [
    {
     "data": {
      "text/plain": [
       "Identifier                                          0.000000\n",
       "Maturity                                            0.017467\n",
       "Physiological Condition                             0.020158\n",
       "Tree Set To Be Removed                              0.000000\n",
       "Removal Reason                                      0.996413\n",
       "Capital Asset Value For Amenity Trees               0.030322\n",
       "Carbon Storage In Kilograms                         0.122144\n",
       "Gross Carbon Sequestration Per Year In Kilograms    0.122400\n",
       "Pollution Removal Per Year In Grams                 0.122144\n",
       "dtype: float64"
      ]
     },
     "execution_count": 67,
     "metadata": {},
     "output_type": "execute_result"
    }
   ],
   "source": [
    "# Percentage of null and zero values\n",
    "(enviroment.isnull().sum() + enviroment.isin([0]).sum())/enviroment.shape[0]"
   ]
  },
  {
   "cell_type": "code",
   "execution_count": 68,
   "id": "27dcd851-d4a3-4014-9167-9330c033738d",
   "metadata": {},
   "outputs": [
    {
     "data": {
      "text/plain": [
       "Identifier                                              0\n",
       "Maturity                                              409\n",
       "Physiological Condition                               472\n",
       "Tree Set To Be Removed                                  0\n",
       "Removal Reason                                      23331\n",
       "Capital Asset Value For Amenity Trees                 710\n",
       "Carbon Storage In Kilograms                          2860\n",
       "Gross Carbon Sequestration Per Year In Kilograms     2866\n",
       "Pollution Removal Per Year In Grams                  2860\n",
       "dtype: int64"
      ]
     },
     "execution_count": 68,
     "metadata": {},
     "output_type": "execute_result"
    }
   ],
   "source": [
    "# Number of null and zero values\n",
    "(enviroment.isnull().sum() + enviroment.isin([0]).sum())"
   ]
  },
  {
   "cell_type": "markdown",
   "id": "cc5e09d4-fc27-454c-8462-f918e46a241e",
   "metadata": {},
   "source": [
    "<hr/>"
   ]
  },
  {
   "cell_type": "markdown",
   "id": "86bc5c0f-498e-47f1-b993-5ae66b325fc1",
   "metadata": {},
   "source": [
    "### 4.3 Missing Values for the Common Names Dataset\n",
    "Now repeat the missing values check for the common names dataset.\n",
    "\n",
    "<div style=\"background-color:lemonchiffon; border:1px solid; padding:5px; margin:5px; font-weight:bold\"><font color=\"crimson\">\n",
    "TODO: Enter your code below.  Add as many cells as you need.\n",
    "    </font></div>"
   ]
  },
  {
   "cell_type": "code",
   "execution_count": 69,
   "id": "84581b31-98a4-4b20-a7b3-af1685cf0131",
   "metadata": {},
   "outputs": [
    {
     "data": {
      "text/plain": [
       "Scientific Name    0.000000\n",
       "Common Name        4.074703\n",
       "dtype: float64"
      ]
     },
     "execution_count": 69,
     "metadata": {},
     "output_type": "execute_result"
    }
   ],
   "source": [
    "# Percentage of null values\n",
    "commonNames.isnull().mean()*100"
   ]
  },
  {
   "cell_type": "code",
   "execution_count": 70,
   "id": "b881b1d4-661d-46f6-943a-a5037f98facb",
   "metadata": {},
   "outputs": [
    {
     "data": {
      "text/plain": [
       "Scientific Name     0\n",
       "Common Name        24\n",
       "dtype: int64"
      ]
     },
     "execution_count": 70,
     "metadata": {},
     "output_type": "execute_result"
    }
   ],
   "source": [
    "# Number of null values\n",
    "commonNames.isnull().sum()"
   ]
  },
  {
   "cell_type": "code",
   "execution_count": 71,
   "id": "a36c508d",
   "metadata": {},
   "outputs": [
    {
     "data": {
      "text/plain": [
       "Scientific Name    0.0\n",
       "Common Name        0.0\n",
       "dtype: float64"
      ]
     },
     "execution_count": 71,
     "metadata": {},
     "output_type": "execute_result"
    }
   ],
   "source": [
    "# Percentage of zero values\n",
    "commonNames.isin([0]).mean()*100"
   ]
  },
  {
   "cell_type": "code",
   "execution_count": 72,
   "id": "65839d94",
   "metadata": {},
   "outputs": [
    {
     "data": {
      "text/plain": [
       "Scientific Name    0\n",
       "Common Name        0\n",
       "dtype: int64"
      ]
     },
     "execution_count": 72,
     "metadata": {},
     "output_type": "execute_result"
    }
   ],
   "source": [
    "# Number of zero values\n",
    "commonNames.isin([0]).sum()"
   ]
  },
  {
   "cell_type": "code",
   "execution_count": 73,
   "id": "d9d8665b",
   "metadata": {},
   "outputs": [
    {
     "data": {
      "text/plain": [
       "Scientific Name    0.000000\n",
       "Common Name        0.040747\n",
       "dtype: float64"
      ]
     },
     "execution_count": 73,
     "metadata": {},
     "output_type": "execute_result"
    }
   ],
   "source": [
    "# Percentage of null and zero values\n",
    "(commonNames.isnull().sum() + commonNames.isin([0]).sum())/commonNames.shape[0]"
   ]
  },
  {
   "cell_type": "code",
   "execution_count": 74,
   "id": "3155894c",
   "metadata": {},
   "outputs": [
    {
     "data": {
      "text/plain": [
       "Scientific Name     0\n",
       "Common Name        24\n",
       "dtype: int64"
      ]
     },
     "execution_count": 74,
     "metadata": {},
     "output_type": "execute_result"
    }
   ],
   "source": [
    "# Number of null and zero values\n",
    "(commonNames.isnull().sum() + commonNames.isin([0]).sum())"
   ]
  },
  {
   "cell_type": "markdown",
   "id": "fe30f689-88b0-4526-abae-1e19a320acf9",
   "metadata": {},
   "source": [
    "<hr/>\n",
    "\n",
    "### 4.4 Observations\n",
    "\n",
    "<div style=\"background-color:lemonchiffon; border:1px solid; padding:5px; margin:5px; font-weight:bold\"><font color=\"crimson\">\n",
    "TODO: Write down your observation about the state of missing values below and comment on the extent to which this might impact the ability to deliver on the council's initiatives.\n",
    "    </font></div>\n"
   ]
  },
  {
   "cell_type": "markdown",
   "id": "ec7ce6ee-8fd6-446a-a63a-08babd1e0390",
   "metadata": {},
   "source": [
    "<div style=\"background-color:lemonchiffon; border:1px solid; padding:5px; margin:5px; font-weight:bold\"><font color=\"grey\">\n",
    "    i won’t be able to draw conclusions confidently. there are too many missing values. for example:\n",
    "\n",
    "there are 24 nulls and zero values out of 589 for common name.\n",
    "    </font></div>\n"
   ]
  },
  {
   "cell_type": "markdown",
   "id": "a4094437-06e3-4376-9c94-14e30a910c36",
   "metadata": {},
   "source": [
    "\n",
    "<hr/>"
   ]
  },
  {
   "cell_type": "markdown",
   "id": "33d42c68-e660-4892-b2de-0552a062c7ff",
   "metadata": {
    "tags": []
   },
   "source": [
    "## Task 5: Identify Outliers in the Trees Dimensions\n",
    "Outliers are values that are so unusual they are possibly incorrect!  We can use a boxplot to show the spread of data and any outliers.  Read the following section if you are unfamiliar with them:\n",
    "\n",
    "- [Box plots](https://openclassrooms.com/en/courses/6037301-perform-an-initial-data-analysis/6052306-calculate-the-value-spread-in-your-data#/id/r-6133902)\n",
    "\n",
    "Any circles represent what the boxplot considers outliers, but some of these might just be correct but extreme values.  We want to only highlight really *crazy* values which are clearly incorrect.\n",
    "\n",
    "We can use this function to draw boxplots:\n",
    "\n",
    "- [pandas.DataFrame.boxplot](https://pandas.pydata.org/pandas-docs/stable/reference/api/pandas.DataFrame.plot.html)\n",
    "\n",
    "Once we have found if there are outliers, it would be nice to show the rows containing the outliers.  The technique for filtering Pandas DataFrames is described here:\n",
    "\n",
    "- [Filtering Pandas DataFrames](https://pandas.pydata.org/pandas-docs/stable/getting_started/intro_tutorials/03_subset_data.html)\n",
    "\n",
    "The filtering technique creates a mask of rows that we want to select, e.g:\n",
    "\n",
    "`mask = df['mycolumn'] > 500`\n",
    "\n",
    "and then uses the mask to select rows:\n",
    "\n",
    "`df[mask]`\n",
    "\n",
    "Note that there is no absolute definition of what \"crazy\" means here.  You will need to make some judgements based on your understanding of the world (or specifically the world of trees in Camden!)."
   ]
  },
  {
   "cell_type": "markdown",
   "id": "52de8466-d0ed-4c29-af9a-bf7c79b80c09",
   "metadata": {},
   "source": [
    "### 5.1 Outliers for Height\n",
    "Find the outliers in the tree height column.\n",
    "<div style=\"background-color:lemonchiffon; border:1px solid; padding:5px; margin:5px; font-weight:bold\"><font color=\"crimson\">\n",
    "TODO: Complete the following code cells\n",
    "    </font></div>"
   ]
  },
  {
   "cell_type": "code",
   "execution_count": 75,
   "id": "6787c688",
   "metadata": {},
   "outputs": [],
   "source": [
    "import matplotlib.pyplot as plt"
   ]
  },
  {
   "cell_type": "code",
   "execution_count": 76,
   "id": "ecaa87b9-9558-4fd6-8383-3a8046d26a5c",
   "metadata": {},
   "outputs": [
    {
     "data": {
      "image/png": "iVBORw0KGgoAAAANSUhEUgAAAigAAAGdCAYAAAA44ojeAAAAOXRFWHRTb2Z0d2FyZQBNYXRwbG90bGliIHZlcnNpb24zLjUuMiwgaHR0cHM6Ly9tYXRwbG90bGliLm9yZy8qNh9FAAAACXBIWXMAAA9hAAAPYQGoP6dpAAAqL0lEQVR4nO3df3RU9Z3/8ddkmAxJTCI/JCEaTArRoImCqLTIrywkFCo2zVK1qFCrLS4UTYFGI3UN7GmyYIF04YAH2yJHl+IpBdZlwSZWDAFEI5QK1CLYEFCIqZXNJCROhsn9/sE3sw6JmuCE+0nyfJzjIfdzP/fO+845d+bl537mXodlWZYAAAAMEmZ3AQAAABcjoAAAAOMQUAAAgHEIKAAAwDgEFAAAYBwCCgAAMA4BBQAAGIeAAgAAjNPL7gIuRXNzs06fPq3o6Gg5HA67ywEAAO1gWZbq6uqUkJCgsLAvHiPpkgHl9OnTSkxMtLsMAABwCU6dOqVrrrnmC/t0yYASHR0t6cIBxsTE2FwNgFDy+XwqKSlRVlaWXC6X3eUACCGPx6PExMTA9/gX6ZIBpeWyTkxMDAEF6GZ8Pp8iIyMVExNDQAG6qfZMz2CSLAAAMA4BBQAAGIeAAgAAjENAAQAAxiGgAAAA4xBQAACAcQgoAADAOAQUAABgHAIKAGP4/X6VlZVp165dKisrk9/vt7skADYhoAAwwubNmzVkyBBlZmZq+fLlyszM1JAhQ7R582a7SwNgAwIKANtt3rxZ06ZNU3p6usrLy/Xb3/5W5eXlSk9P17Rp0wgpQA/ksCzLsruIjvJ4PIqNjVVtbS3P4gG6OL/fryFDhig9PV1bt26V3+/X9u3bNWXKFDmdTmVnZ+vw4cM6duyYnE6n3eUC+Ao68v3NCAoAW5WXl+vEiRN68sknFRYW/JEUFham/Px8VVZWqry83KYKAdiBgALAVmfOnJEkpaWltbm+pb2lH4CegYACwFYDBw6UJB0+fLjN9S3tLf0A9AwEFAC2GjNmjJKSklRYWKjm5uagdc3NzSoqKlJycrLGjBljU4UA7EBAAWArp9OpZcuWadu2bcrOzta+ffvU2Nioffv2KTs7W9u2bdMvfvELJsgCPUwvuwsAgJycHG3atEnz58/X2LFjA+3JycnatGmTcnJybKwOgB34mTEAY/j9fu3cuVM7duzQ5MmTlZGRwcgJ0I105PubERQAxnA6nRo3bpzOnTuncePGEU6AHow5KAAAwDgEFAAAYBwCCgAAMA4BBQAAGIeAAgAAjENAAQAAxiGgAAAA4xBQAACAcTocUHbt2qWpU6cqISFBDodDW7duDazz+Xx6/PHHlZ6erqioKCUkJGjGjBk6ffp00D68Xq/mzp2r/v37KyoqSnfddZc++OCDr3wwAACge+hwQDl37pxuvvlmrVq1qtW6hoYGHThwQE899ZQOHDigzZs367333tNdd90V1C83N1dbtmzRxo0btXv3btXX1+vOO++U3++/9CMBAADdRodvdT958mRNnjy5zXWxsbEqLS0Nalu5cqVuv/12nTx5UoMGDVJtba1+/etf64UXXtDEiRMlSS+++KISExP16quvatKkSZdwGAAAoDvp9Gfx1NbWyuFw6Morr5Qk7d+/Xz6fT1lZWYE+CQkJSktL0969e9sMKF6vV16vN7Ds8XgkXbik5PP5OvcAAFxWLec05zbQ/XTkvO7UgPLpp5/qiSee0PTp0wNPLayurlZ4eLj69OkT1DcuLk7V1dVt7qeoqEiLFi1q1V5SUqLIyMjQFw7AdhePxgLo+hoaGtrdt9MCis/n07333qvm5matXr36S/tbliWHw9Hmuvz8fM2bNy+w7PF4lJiYqKysrC99XDOArsXn86m0tFSZmZlyuVx2lwMghFqugLRHpwQUn8+nu+++W5WVlXrttdeCQkR8fLyampp09uzZoFGUmpoajRo1qs39ud1uud3uVu0ul4sPMKCb4vwGup+OnNMhvw9KSzg5duyYXn31VfXr1y9o/YgRI+RyuYKGb8+cOaPDhw9/bkABAAA9S4dHUOrr63X8+PHAcmVlpQ4ePKi+ffsqISFB06ZN04EDB7Rt2zb5/f7AvJK+ffsqPDxcsbGxeuihhzR//nz169dPffv21YIFC5Senh74VQ8AAOjZOhxQ3n77bWVkZASWW+aGzJw5UwUFBXr55ZclScOGDQvabufOnRo/frwkacWKFerVq5fuvvtuNTY2asKECXr++efldDov8TAAAEB34rAsy7K7iI7yeDyKjY1VbW0tk2SBbsbn82n79u2aMmUKc1CAbqYj3988iwcAABiHgAIAAIxDQAEAAMYhoAAAAOMQUAAAgHEIKAAAwDgEFAAAYBwCCgAAMA4BBQAAGIeAAgAAjENAAQAAxiGgAAAA4xBQAACAcQgoAADAOAQUAABgHAIKAAAwDgEFAAAYh4ACAACMQ0ABAADGIaAAAADjEFAAAIBxCCgAAMA4BBQAAGAcAgoAADAOAQUAABiHgAIAAIxDQAEAAMYhoAAAAOMQUAAAgHEIKAAAwDgEFAAAYBwCCgAAMA4BBQAAGIeAAgAAjENAAQAAxiGgAAAA4xBQAACAcQgoAADAOAQUAABgHAIKAAAwDgEFAAAYh4ACAACM0+GAsmvXLk2dOlUJCQlyOBzaunVr0HrLslRQUKCEhARFRERo/PjxOnLkSFAfr9eruXPnqn///oqKitJdd92lDz744CsdCAAA6D46HFDOnTunm2++WatWrWpz/dKlS7V8+XKtWrVKFRUVio+PV2Zmpurq6gJ9cnNztWXLFm3cuFG7d+9WfX297rzzTvn9/ks/EgAA0G306ugGkydP1uTJk9tcZ1mWiouLtXDhQuXk5EiS1q9fr7i4OG3YsEGzZs1SbW2tfv3rX+uFF17QxIkTJUkvvviiEhMT9eqrr2rSpElf4XAAAEB30OGA8kUqKytVXV2trKysQJvb7da4ceO0d+9ezZo1S/v375fP5wvqk5CQoLS0NO3du7fNgOL1euX1egPLHo9HkuTz+eTz+UJ5CABs1nJOc24D3U9HzuuQBpTq6mpJUlxcXFB7XFycqqqqAn3Cw8PVp0+fVn1atr9YUVGRFi1a1Kq9pKREkZGRoSgdgGFKS0vtLgFAiDU0NLS7b0gDSguHwxG0bFlWq7aLfVGf/Px8zZs3L7Ds8XiUmJiorKwsxcTEfPWCARjD5/OptLRUmZmZcrlcdpcDIIRaroC0R0gDSnx8vKQLoyQDBw4MtNfU1ARGVeLj49XU1KSzZ88GjaLU1NRo1KhRbe7X7XbL7Xa3ane5XHyAAd0U5zfQ/XTknA7pfVCSk5MVHx8fNDTb1NSksrKyQPgYMWKEXC5XUJ8zZ87o8OHDnxtQAABAz9LhEZT6+nodP348sFxZWamDBw+qb9++GjRokHJzc1VYWKiUlBSlpKSosLBQkZGRmj59uiQpNjZWDz30kObPn69+/fqpb9++WrBggdLT0wO/6gEAAD1bhwPK22+/rYyMjMByy9yQmTNn6vnnn1deXp4aGxs1e/ZsnT17ViNHjlRJSYmio6MD26xYsUK9evXS3XffrcbGRk2YMEHPP/+8nE5nCA4JQFfl9/tVVlamXbt2KSoqShkZGXwuAD2Uw7Isy+4iOsrj8Sg2Nla1tbVMkgW6ic2bN2v+/Pk6ceJEoC0pKUnLli0L3FcJQNfWke9vnsUDwHabN2/WtGnTlJ6ervLycv32t79VeXm50tPTNW3aNG3evNnuEgFcZoygALCV3+/XkCFDlJ6erq1bt8rv92v79u2aMmWKnE6nsrOzdfjwYR07dozLPUAXxwgKgC6jvLxcJ06c0JNPPqmwsOCPpLCwMOXn56uyslLl5eU2VQjADgQUALY6c+aMJCktLa3N9S3tLf0A9AwEFAC2armp4+HDh9tc39L+2Zs/Auj+CCgAbDVmzBglJSWpsLBQzc3NQeuam5tVVFSk5ORkjRkzxqYKAdiBgALAVk6nU8uWLdO2bduUnZ2tffv2qbGxUfv27VN2dra2bdumX/ziF0yQBXqYTnlYIAB0RE5OjjZt2qT58+dr7Nixgfbk5GRt2rSJ+6AAPRA/MwZgDL/fr507d2rHjh2aPHkyd5IFupmOfH8zggLAGE6nU+PGjdO5c+c0btw4wgnQgzEHBQAAGIeAAgAAjENAAQAAxiGgAAAA4xBQAACAcQgoAADAOAQUAABgHAIKAAAwDgEFAAAYh4ACAACMQ0ABAADGIaAAAADjEFAAAIBxCCgAAMA4BBQAAGAcAgoAADAOAQUAABiHgAIAAIxDQAEAAMYhoAAAAOMQUAAAgHEIKAAAwDgEFAAAYBwCCgAAMA4BBQAAGIeAAgAAjENAAQAAxiGgAAAA4xBQAACAcQgoAADAOAQUAABgHAIKAAAwTsgDyvnz5/Wzn/1MycnJioiI0Ne+9jUtXrxYzc3NgT6WZamgoEAJCQmKiIjQ+PHjdeTIkVCXAgAAuqiQB5QlS5bo2Wef1apVq/Tuu+9q6dKleuaZZ7Ry5cpAn6VLl2r58uVatWqVKioqFB8fr8zMTNXV1YW6HAAA0AWFPKC88cYb+va3v61vfetbSkpK0rRp05SVlaW3335b0oXRk+LiYi1cuFA5OTlKS0vT+vXr1dDQoA0bNoS6HAAA0AX1CvUOR48erWeffVbvvfeerrvuOv35z3/W7t27VVxcLEmqrKxUdXW1srKyAtu43W6NGzdOe/fu1axZs1rt0+v1yuv1BpY9Ho8kyefzyefzhfoQANio5Zzm3Aa6n46c1yEPKI8//rhqa2uVmpoqp9Mpv9+vn//85/re974nSaqurpYkxcXFBW0XFxenqqqqNvdZVFSkRYsWtWovKSlRZGRkiI8AgAlKS0vtLgFAiDU0NLS7b8gDyksvvaQXX3xRGzZs0I033qiDBw8qNzdXCQkJmjlzZqCfw+EI2s6yrFZtLfLz8zVv3rzAssfjUWJiorKyshQTExPqQwBgI5/Pp9LSUmVmZsrlctldDoAQarkC0h4hDyg//elP9cQTT+jee++VJKWnp6uqqkpFRUWaOXOm4uPjJV0YSRk4cGBgu5qamlajKi3cbrfcbnerdpfLxQcY0E1xfgPdT0fO6ZBPkm1oaFBYWPBunU5n4GfGycnJio+PDxq+bWpqUllZmUaNGhXqcgAAQBcU8hGUqVOn6uc//7kGDRqkG2+8UX/605+0fPly/eAHP5B04dJObm6uCgsLlZKSopSUFBUWFioyMlLTp08PdTkAAKALCnlAWblypZ566inNnj1bNTU1SkhI0KxZs/Sv//qvgT55eXlqbGzU7NmzdfbsWY0cOVIlJSWKjo4OdTkAAKALcliWZdldREd5PB7FxsaqtraWSbJAN+Pz+bR9+3ZNmTKFOShAN9OR72+exQMAAIxDQAEAAMYhoAAAAOMQUAAAgHEIKAAAwDgEFAAAYBwCCgAAMA4BBQAAGIeAAgAAjENAAQAAxiGgAAAA4xBQAACAcQgoAADAOAQUAABgHAIKAAAwDgEFAAAYh4ACAACMQ0ABAADGIaAAAADjEFAAAIBxCCgAAMA4BBQAAGAcAgoAADAOAQUAABiHgAIAAIxDQAEAAMYhoAAAAOMQUAAAgHEIKAAAwDgEFAAAYBwCCgAAMA4BBQAAGIeAAgAAjENAAQAAxiGgAAAA4xBQAACAcQgoAADAOAQUAABgHAIKAAAwDgEFAAAYh4ACAACMQ0ABAADG6ZSA8uGHH+r+++9Xv379FBkZqWHDhmn//v2B9ZZlqaCgQAkJCYqIiND48eN15MiRzigFAAB0QSEPKGfPntUdd9whl8ulHTt26C9/+YuWLVumK6+8MtBn6dKlWr58uVatWqWKigrFx8crMzNTdXV1oS4HAAB0Qb1CvcMlS5YoMTFR69atC7QlJSUF/rYsS8XFxVq4cKFycnIkSevXr1dcXJw2bNigWbNmhbokAADQxYQ8oLz88suaNGmSvvvd76qsrExXX321Zs+erR/+8IeSpMrKSlVXVysrKyuwjdvt1rhx47R37942A4rX65XX6w0sezweSZLP55PP5wv1IQCwUcs5zbkNdD8dOa9DHlD+9re/ac2aNZo3b56efPJJvfXWW3r00Ufldrs1Y8YMVVdXS5Li4uKCtouLi1NVVVWb+ywqKtKiRYtatZeUlCgyMjLUhwDAAKWlpXaXACDEGhoa2t035AGlublZt956qwoLCyVJw4cP15EjR7RmzRrNmDEj0M/hcARtZ1lWq7YW+fn5mjdvXmDZ4/EoMTFRWVlZiomJCfUhALCRz+dTaWmpMjMz5XK57C4HQAi1XAFpj5AHlIEDB+qGG24Iahs6dKh+//vfS5Li4+MlSdXV1Ro4cGCgT01NTatRlRZut1tut7tVu8vl4gMM6KY4v4HupyPndMh/xXPHHXfo6NGjQW3vvfeerr32WklScnKy4uPjg4Zvm5qaVFZWplGjRoW6HAAA0AWFfATlJz/5iUaNGqXCwkLdfffdeuutt7R27VqtXbtW0oVLO7m5uSosLFRKSopSUlJUWFioyMhITZ8+PdTlAACALijkAeW2227Tli1blJ+fr8WLFys5OVnFxcW67777An3y8vLU2Nio2bNn6+zZsxo5cqRKSkoUHR0d6nIAAEAX5LAsy7K7iI7yeDyKjY1VbW0tk2SBbsbn82n79u2aMmUKc1CAbqYj3988iwcAABiHgAIAAIxDQAEAAMYhoAAAAOMQUAAAgHEIKAAAwDgEFAAAYBwCCgAAMA4BBQAAGIeAAgAAjENAAQAAxiGgAAAA4xBQAACAcQgoAADAOAQUAABgHAIKAAAwDgEFAAAYh4ACAACMQ0ABAADGIaAAAADjEFAAAIBxCCgAAMA4BBQAAGAcAgoAADAOAQUAABiHgAIAAIxDQAEAAMYhoAAAAOMQUAAAgHEIKAAAwDgEFAAAYBwCCgAAMA4BBQAAGIeAAgAAjENAAQAAxiGgAAAA4xBQAACAcQgoAADAOL3sLgAAWjQ1NWnlypV67bXXdPz4cc2dO1fh4eF2lwXABoygADBCXl6eoqKitGDBAm3fvl0LFixQVFSU8vLy7C4NgA0YQQFgu7y8PD3zzDOKi4vTokWL5Ha75fV69fTTT+uZZ56RJC1dutTmKgFcTp0+glJUVCSHw6Hc3NxAm2VZKigoUEJCgiIiIjR+/HgdOXKks0sBYKCmpiatWLFCcXFxqqqq0uDBg3Xo0CENHjxYVVVViouL04oVK9TU1GR3qQAuo04NKBUVFVq7dq1uuummoPalS5dq+fLlWrVqlSoqKhQfH6/MzEzV1dV1ZjkADLR69WqdP39eOTk5Sk1NVWZmppYvX67MzEylpqbqO9/5js6fP6/Vq1fbXSqAy6jTAkp9fb3uu+8+Pffcc+rTp0+g3bIsFRcXa+HChcrJyVFaWprWr1+vhoYGbdiwobPKAWCo999/X5K0Zs0apaamKi0tTX379lVaWppSU1P17LPPBvUD0DN0WkCZM2eOvvWtb2nixIlB7ZWVlaqurlZWVlagze12a9y4cdq7d29nlQPAUElJSZKk8PBwvfLKKzp8+LA++eQTHT58WK+88opcLldQPwA9Q6dMkt24caMOHDigioqKVuuqq6slSXFxcUHtLdef2+L1euX1egPLHo9HkuTz+eTz+UJVNgAbDB06VJICc0yysrL0T//0T3rttddUUlISOMeHDh3K+Q50cR05h0MeUE6dOqXHHntMJSUl6t279+f2czgcQcuWZbVqa1FUVKRFixa1ai8pKVFkZORXKxiArV555ZXA3xEREaqoqNCePXsUHh6uiIgINTY2SpL++7//m4ACdHENDQ3t7uuwLMsK5Ytv3bpV3/nOd+R0OgNtfr9fDodDYWFhOnr0qIYMGaIDBw5o+PDhgT7f/va3deWVV2r9+vWt9tnWCEpiYqI+/vhjxcTEhLJ8AJfZsGHD9Je//EUOh0NtfRy1tN9www06ePDg5S8QQMh4PB71799ftbW1X/r9HfIRlAkTJujQoUNBbQ8++KBSU1P1+OOP62tf+5ri4+NVWloaCChNTU0qKyvTkiVL2tyn2+2W2+1u1e5yuQLXpwF0TS2XbFvCyaBBgxQfH6/q6mqdPHky0O7xeDjfgS6uI+dwyANKdHS00tLSgtqioqLUr1+/QHtubq4KCwuVkpKilJQUFRYWKjIyUtOnTw91OQAMN3DgQH3wwQeSLvwPzkcffaTjx48rISFBEyZM0B//+MdAPwA9hy13ks3Ly1NjY6Nmz56ts2fPauTIkSopKVF0dLQd5QCwUcsIiqRAGJEU+CVPW/0AdH8hn4NyOXg8HsXGxrbrGhYAs/Xr10+ffPLJl/br27ev/vGPf1yGigB0lo58f/OwQAC2GjBgQEj7AegeCCgAbHXxpV2n06krrrgi6JeAbfUD0L3xNGMAtmqZINuiublZ9fX1re6LdHE/AN0bIygAbPXRRx8FLbdMi7t4etzF/QB0b4ygALDVxUEkLCwscHO25ubmz+0HoHtjBAWArS5+XIXT6ZRlWa3moPBYC6BnYQQFgK0+O0oi/d/DxC5uv3gZQPfGCAoAW332OVuh6AegeyCgALDVFz31/FL6AegeCCgAbNXWg0C/Sj8A3QMBBYCtamtrQ9oPQPdAQAFgq/ZOfmWSLNCzEFAAAIBxCCgAbBUW1r6Pofb2A9A9cMYDsBWXeAC0hYACAACMQ0ABAADGIaAAMMbOnTvlcrkkSS6XSzt37rS5IgB2IaAAMEZGRobCwsI0bdo0hYWFKSMjw+6SANiEhwUCCImGhgb99a9/7fB2P/zhD/Xcc88Flr1erzZt2tRmvwMHDlxSbampqTwNGehiHJZlWXYX0VEej0exsbGqra1VTEyM3eUAkHTgwAGNGDHC7jLatH//ft1yyy12lwH0eB35/mYEBUBIpKamav/+/R3ezu/3Kzs7W6dPn/7cPldffbW2bNkip9N5ybUB6FoIKABCIjIy8pJHKVauXKlp06ZpzJgx2rVrV6B97NixKi8v13/8x3/otttuC1WpALoAJskCsF1OTo42bdqkkydPBrWfOnVKmzZtUk5Ojk2VAbALc1AAGMPv92vd77Ypf8MeFU2/Qw9+985LvqwDwDzMQQHQJTmdTt36jdGKOthLt37j64QToAfjEg8AADAOAQUAABiHgAIAAIxDQAEAAMYhoAAAAOMQUAAAgHEIKAAAwDgEFAAAYBwCCgAAMA4BBQAAGIeAAgAAjENAAQAAxiGgAAAA4xBQAACAcQgoAADAOAQUAABgnJAHlKKiIt12222Kjo7WgAEDlJ2draNHjwb1sSxLBQUFSkhIUEREhMaPH68jR46EuhQAANBFhTyglJWVac6cOdq3b59KS0t1/vx5ZWVl6dy5c4E+S5cu1fLly7Vq1SpVVFQoPj5emZmZqqurC3U5AACgC+oV6h2+8sorQcvr1q3TgAEDtH//fo0dO1aWZam4uFgLFy5UTk6OJGn9+vWKi4vThg0bNGvWrFCXBAAAuphOn4NSW1srSerbt68kqbKyUtXV1crKygr0cbvdGjdunPbu3dvZ5QAAgC4g5CMon2VZlubNm6fRo0crLS1NklRdXS1JiouLC+obFxenqqqqNvfj9Xrl9XoDyx6PR5Lk8/nk8/k6o3QANjl//nzgX85voHvpyDndqQHlxz/+sd555x3t3r271TqHwxG0bFlWq7YWRUVFWrRoUav2kpISRUZGhqZYAEY4VS9JvbRv3z59eNjuagCEUkNDQ7v7dlpAmTt3rl5++WXt2rVL11xzTaA9Pj5e0oWRlIEDBwbaa2pqWo2qtMjPz9e8efMCyx6PR4mJicrKylJMTEwnHQEAO/z55CfSobf19a9/XTcP6mt3OQBCqOUKSHuEPKBYlqW5c+dqy5Ytev3115WcnBy0Pjk5WfHx8SotLdXw4cMlSU1NTSorK9OSJUva3Kfb7Zbb7W7V7nK55HK5Qn0IAGzUq1evwL+c30D30pFzOuQBZc6cOdqwYYP+67/+S9HR0YE5J7GxsYqIiJDD4VBubq4KCwuVkpKilJQUFRYWKjIyUtOnTw91OQAAoAsKeUBZs2aNJGn8+PFB7evWrdP3v/99SVJeXp4aGxs1e/ZsnT17ViNHjlRJSYmio6NDXQ4AAOiCOuUSz5dxOBwqKChQQUFBqF8eAAB0AzyLBwAAGIeAAgAAjENAAQAAxiGgAAAA4xBQAACAcQgoAADAOJ36LB4A5qv8+JzOec/bXUbA+38/F/i35a6ypohy91Jy/yi7ywB6BLPOfgCXVeXH55Txi9ftLqNN8zcdsruENu1cMJ6QAlwGBBSgB2sZOSm+Z5iGDLjC5mouONfo1bbX39Cd47+hqIjWz+Cyy/GaeuW+dNCo0SagOyOgANCQAVco7epYu8uQJPl8PlVfJd1ybR8eFgj0YEySBQAAxiGgAAAA4xBQAACAcQgoAADAOAQUAABgHAIKAAAwDgEFAAAYh4ACAACMQ0ABAADGIaAAAADjEFAAAIBxCCgAAMA4PCwQ6MG8/k8V1vtDVXqOKqy3GU8zPn/+vE6fP613P3lXvXqZ8xFV6alXWO8P5fV/KsmMBysC3Zk5Zz+Ay+70uSpFJa/Uk2/ZXUlrq19ZbXcJrUQlS6fPDdMIxdldCtDtEVCAHiwh6lqdq5yrX94zTIMHmDOCsmf3Ht0x+g6jRlDer6nXYy8dVELGtXaXAvQI5pz9AC47t7O3mj+9Wskx1+uGfmZctvD5fKrsVamhfYfK5XLZXU5A86e1av7073I7e9tdCtAjMEkWAAAYh4ACAACMQ0ABAADGIaAAAADjEFAAAIBxCCgAAMA4/MwY6MEafX5J0uEPa22u5P+ca/Tq7b9L8VVnFRXhtrucgOM19XaXAPQoBBSgB3v//3/pPrH5kM2VXKyXXjheYXcRbYpy87EJXA6caUAPlnVjvCRp8IArFOFy2lzNBUfP1Gr+pkNaNi1d1w804+ZxLaLcvZTcP8ruMoAegYAC9GB9o8J17+2D7C4jyPnz5yVJg6+KUtrVZgUUAJcPk2QBAIBxCCgAAMA4BBQAAGAcAgoAADAOAQUAABiHgAIAAIxja0BZvXq1kpOT1bt3b40YMULl5eV2lgMAAAxhW0B56aWXlJubq4ULF+pPf/qTxowZo8mTJ+vkyZN2lQQAAAxhW0BZvny5HnroIT388MMaOnSoiouLlZiYqDVr1thVEgAAMIQtd5JtamrS/v379cQTTwS1Z2Vlae/eva36e71eeb3ewLLH45Ek+Xw++Xy+zi0WQLs0NDTo6NGjX3k/752plbf6uA4fDFfTR6G5k+z111+vyMjIkOwLwKXryHe2LQHl448/lt/vV1xcXFB7XFycqqurW/UvKirSokWLWrWXlJTwoQMY4v3339f8+fNDtr8H1odsV1q2bJkGDx4cuh0CuCQNDQ3t7mvrs3gcDkfQsmVZrdokKT8/X/PmzQssezweJSYmKisrSzExMZ1eJ4Av19DQoNGjR3/l/dQ3evWH8gpNGnObrohwh6AyRlAAU7RcAWkPWwJK//795XQ6W42W1NTUtBpVkSS32y23u/UHlcvlksvl6rQ6AbRfbGysbr/99q+8H5/Pp7r//URjRn2d8xvoZjpyTtsySTY8PFwjRoxQaWlpUHtpaalGjRplR0kAAMAgtl3imTdvnh544AHdeuut+sY3vqG1a9fq5MmTeuSRR+wqCQAAGMK2gHLPPffoH//4hxYvXqwzZ84oLS1N27dv17XXXmtXSQAAwBC2TpKdPXu2Zs+ebWcJAADAQDyLBwAAGIeAAgAAjENAAQAAxiGgAAAA4xBQAACAcQgoAADAOAQUAABgHAIKAAAwDgEFAAAYx9Y7yV4qy7IkdeyxzQC6Bp/Pp4aGBnk8Hp5mDHQzLd/bLd/jX6RLBpS6ujpJUmJios2VAACAjqqrq1NsbOwX9nFY7Ykxhmlubtbp06cVHR0th8NhdzkAQsjj8SgxMVGnTp1STEyM3eUACCHLslRXV6eEhASFhX3xLJMuGVAAdF8ej0exsbGqra0loAA9GJNkAQCAcQgoAADAOAQUAEZxu916+umn5Xa77S4FgI2YgwIAAIzDCAoAADAOAQUAABiHgAIAAIxDQAF6uKSkJBUXF7e7/4kTJ+RwOHTw4MFOqwkACChAF/T9739f2dnZrdpff/11ORwO/e///m+791VRUaEf/ehHoStO0vPPP68rr7wyZP2+SMsx9+nTR59++mnQurfeeksOh6PDd5zuaGgDEHoEFKCHu+qqqxQZGWl3GV9ZdHS0tmzZEtT2m9/8RoMGDeqU1/P7/Wpubu6UfQMgoADd3t69ezV27FhFREQoMTFRjz76qM6dOxdYf/FowV//+leNHj1avXv31g033KBXX31VDodDW7duDdrv3/72N2VkZCgyMlI333yz3njjDUkXRjQefPBB1dbWBkYvCgoK2lVrQUGBhg0bphdeeEFJSUmKjY3VvffeG3hA6BeZOXOmfvOb3wSWGxsbtXHjRs2cObND78n48eNVVVWln/zkJ0GjLy2jPdu2bdMNN9wgt9utqqoqNTU1KS8vT1dffbWioqI0cuRIvf7664HXqqqq0tSpU9WnTx9FRUXpxhtv1Pbt29v1fgA9GQEF6MYOHTqkSZMmKScnR++8845eeukl7d69Wz/+8Y/b7N/c3Kzs7GxFRkbqzTff1Nq1a7Vw4cI2+y5cuFALFizQwYMHdd111+l73/uezp8/r1GjRqm4uFgxMTE6c+aMzpw5owULFrS75vfff19bt27Vtm3btG3bNpWVlenf//3fv3S7Bx54QOXl5Tp58qQk6fe//72SkpJ0yy23dOg92bx5s6655hotXrw4UH+LhoYGFRUV6Ve/+pWOHDmiAQMG6MEHH9SePXu0ceNGvfPOO/rud7+rb37zmzp27Jgkac6cOfJ6vdq1a5cOHTqkJUuW6Iorrmj3+wH0WBaALmfmzJmW0+m0oqKigv7r3bu3Jck6e/asZVmW9cADD1g/+tGPgrYtLy+3wsLCrMbGRsuyLOvaa6+1VqxYYVmWZe3YscPq1auXdebMmUD/0tJSS5K1ZcsWy7Isq7Ky0pJk/epXvwr0OXLkiCXJevfddy3Lsqx169ZZsbGxX3ocF/d7+umnrcjISMvj8QTafvrTn1ojR4783H3s3LkzcMzZ2dnWokWLLMuyrIyMDOuXv/yltWXLFuuzH3UdfU8+W6sk6+DBg4G248ePWw6Hw/rwww+D+k6YMMHKz8+3LMuy0tPTrYKCgi99LwAE62VjNgLwFWRkZGjNmjVBbW+++abuv//+wPL+/ft1/Phx/ed//megzbIsNTc3q7KyUkOHDg3a/ujRo0pMTFR8fHyg7fbbb2/z9W+66abA3wMHDpQk1dTUKDU19dIPShcuOUVHRwftu6ampl3b/uAHP9Bjjz2m+++/X2+88YZ+97vfqby8PKhPR9+TzwoPDw867gMHDsiyLF133XVB/bxer/r16ydJevTRR/Uv//IvKikp0cSJE/XP//zPQfsA0DYCCtBFRUVFaciQIUFtH3zwQdByc3OzZs2apUcffbTV9m1NHrUsq92/eHG5XIG/W7YJxaTRz+63Zd/t3e+UKVM0a9YsPfTQQ5o6dWogJHxWR9+Tz4qIiAh6f5qbm+V0OrV//345nc6gvi2XcR5++GFNmjRJ//M//6OSkhIVFRVp2bJlmjt3bruOCeipCChAN3bLLbfoyJEjrYLM50lNTdXJkyf10UcfKS4uTtKFnyF3VHh4uPx+f4e3+6qcTqceeOABLV26VDt27GizT3vek/bWP3z4cPn9ftXU1GjMmDGf2y8xMVGPPPKIHnnkEeXn5+u5554joABfgkmyQDf2+OOP64033tCcOXN08OBBHTt2TC+//PLnfjlmZmZq8ODBmjlzpt555x3t2bMnMEm2I/cSSUpKUn19vf74xz/q448/VkNDQ0iOpz3+7d/+TX//+981adKkNte35z1JSkrSrl279OGHH+rjjz/+3Ne67rrrdN9992nGjBnavHmzKisrVVFRoSVLlgR+qZObm6s//OEPqqys1IEDB/Taa6994WUkABcQUIBu7KabblJZWZmOHTumMWPGaPjw4XrqqacCc0Yu5nQ6tXXrVtXX1+u2227Tww8/rJ/97GeSpN69e7f7dUeNGqVHHnlE99xzj6666iotXbo0JMfTHuHh4erfv//nBqr2vCeLFy/WiRMnNHjwYF111VVf+Hrr1q3TjBkzNH/+fF1//fW666679OabbyoxMVHShfulzJkzR0OHDtU3v/lNXX/99Vq9enXoDhjophyWZVl2FwHAXHv27NHo0aN1/PhxDR482O5yAPQQBBQAQbZs2aIrrrhCKSkpOn78uB577DH16dNHu3fvtrs0AD0Ik2QBBKmrq1NeXp5OnTql/v37a+LEiVq2bJndZQHoYRhBAQAAxmGSLAAAMA4BBQAAGIeAAgAAjENAAQAAxiGgAAAA4xBQAACAcQgoAADAOAQUAABgHAIKAAAwzv8DCNJLc14vxTwAAAAASUVORK5CYII=\n",
      "text/plain": [
       "<Figure size 640x480 with 1 Axes>"
      ]
     },
     "metadata": {},
     "output_type": "display_data"
    }
   ],
   "source": [
    "# Use a boxplot to find the outliers\n",
    "trees.boxplot(column=[\"Height In Metres\"]) \n",
    "plt.show()"
   ]
  },
  {
   "cell_type": "code",
   "execution_count": 77,
   "id": "7a614957-0a50-41f2-bebd-ca48e3660674",
   "metadata": {},
   "outputs": [
    {
     "data": {
      "text/html": [
       "<div>\n",
       "<style scoped>\n",
       "    .dataframe tbody tr th:only-of-type {\n",
       "        vertical-align: middle;\n",
       "    }\n",
       "\n",
       "    .dataframe tbody tr th {\n",
       "        vertical-align: top;\n",
       "    }\n",
       "\n",
       "    .dataframe thead th {\n",
       "        text-align: right;\n",
       "    }\n",
       "</style>\n",
       "<table border=\"1\" class=\"dataframe\">\n",
       "  <thead>\n",
       "    <tr style=\"text-align: right;\">\n",
       "      <th></th>\n",
       "      <th>Identifier</th>\n",
       "      <th>Number Of Trees</th>\n",
       "      <th>Site Name</th>\n",
       "      <th>Contract Area</th>\n",
       "      <th>Scientific Name</th>\n",
       "      <th>Inspection Date</th>\n",
       "      <th>Inspection Due Date</th>\n",
       "      <th>Height In Metres</th>\n",
       "      <th>Spread In Metres</th>\n",
       "      <th>Diameter In Centimetres At Breast Height</th>\n",
       "      <th>Ward Code</th>\n",
       "      <th>Ward Name</th>\n",
       "      <th>Easting</th>\n",
       "      <th>Northing</th>\n",
       "      <th>Longitude</th>\n",
       "      <th>Latitude</th>\n",
       "      <th>Location</th>\n",
       "    </tr>\n",
       "  </thead>\n",
       "  <tbody>\n",
       "    <tr>\n",
       "      <th>547</th>\n",
       "      <td>00017629</td>\n",
       "      <td>1.0</td>\n",
       "      <td>RUSSELL SQUARE, GARDENS (LS)</td>\n",
       "      <td>Parks</td>\n",
       "      <td>Platanus x hispanica</td>\n",
       "      <td>2018-03-16</td>\n",
       "      <td>2020/2021</td>\n",
       "      <td>38.0</td>\n",
       "      <td>26.0</td>\n",
       "      <td>161.0</td>\n",
       "      <td>E05000129</td>\n",
       "      <td>Bloomsbury</td>\n",
       "      <td>530077</td>\n",
       "      <td>182009</td>\n",
       "      <td>-0.126474</td>\n",
       "      <td>51.522027</td>\n",
       "      <td>(51.522027, -0.126474)</td>\n",
       "    </tr>\n",
       "    <tr>\n",
       "      <th>830</th>\n",
       "      <td>00015272</td>\n",
       "      <td>1.0</td>\n",
       "      <td>OAKLEY SQUARE, GARDENS (LS)</td>\n",
       "      <td>Parks</td>\n",
       "      <td>Platanus x hispanica</td>\n",
       "      <td>2018-03-26</td>\n",
       "      <td>2020/2021</td>\n",
       "      <td>34.0</td>\n",
       "      <td>16.0</td>\n",
       "      <td>89.0</td>\n",
       "      <td>E05000142</td>\n",
       "      <td>Regent's Park</td>\n",
       "      <td>529366</td>\n",
       "      <td>183337</td>\n",
       "      <td>-0.136233</td>\n",
       "      <td>51.534130</td>\n",
       "      <td>(51.53413, -0.136233)</td>\n",
       "    </tr>\n",
       "    <tr>\n",
       "      <th>920</th>\n",
       "      <td>00017649</td>\n",
       "      <td>1.0</td>\n",
       "      <td>RUSSELL SQUARE, GARDENS (LS)</td>\n",
       "      <td>Parks</td>\n",
       "      <td>Platanus x hispanica</td>\n",
       "      <td>2018-03-16</td>\n",
       "      <td>2020/2021</td>\n",
       "      <td>38.0</td>\n",
       "      <td>23.0</td>\n",
       "      <td>132.0</td>\n",
       "      <td>E05000129</td>\n",
       "      <td>Bloomsbury</td>\n",
       "      <td>530126</td>\n",
       "      <td>182017</td>\n",
       "      <td>-0.125765</td>\n",
       "      <td>51.522094</td>\n",
       "      <td>(51.522094, -0.125765)</td>\n",
       "    </tr>\n",
       "    <tr>\n",
       "      <th>1193</th>\n",
       "      <td>00017654</td>\n",
       "      <td>1.0</td>\n",
       "      <td>RUSSELL SQUARE, GARDENS (LS)</td>\n",
       "      <td>Parks</td>\n",
       "      <td>Platanus x hispanica</td>\n",
       "      <td>2018-03-20</td>\n",
       "      <td>2020/2021</td>\n",
       "      <td>36.0</td>\n",
       "      <td>19.0</td>\n",
       "      <td>83.0</td>\n",
       "      <td>E05000129</td>\n",
       "      <td>Bloomsbury</td>\n",
       "      <td>530147</td>\n",
       "      <td>181969</td>\n",
       "      <td>-0.125480</td>\n",
       "      <td>51.521657</td>\n",
       "      <td>(51.521657, -0.12548)</td>\n",
       "    </tr>\n",
       "    <tr>\n",
       "      <th>1213</th>\n",
       "      <td>00002734</td>\n",
       "      <td>1.0</td>\n",
       "      <td>BRUNSWICK SQUARE, GARDENS (LS)</td>\n",
       "      <td>Parks</td>\n",
       "      <td>Platanus x hispanica</td>\n",
       "      <td>2018-03-21</td>\n",
       "      <td>2020/2021</td>\n",
       "      <td>31.0</td>\n",
       "      <td>28.0</td>\n",
       "      <td>170.0</td>\n",
       "      <td>E05000141</td>\n",
       "      <td>King's Cross</td>\n",
       "      <td>530384</td>\n",
       "      <td>182302</td>\n",
       "      <td>-0.121941</td>\n",
       "      <td>51.524590</td>\n",
       "      <td>(51.52459, -0.121941)</td>\n",
       "    </tr>\n",
       "  </tbody>\n",
       "</table>\n",
       "</div>"
      ],
      "text/plain": [
       "     Identifier  Number Of Trees                       Site Name  \\\n",
       "547    00017629              1.0    RUSSELL SQUARE, GARDENS (LS)   \n",
       "830    00015272              1.0     OAKLEY SQUARE, GARDENS (LS)   \n",
       "920    00017649              1.0    RUSSELL SQUARE, GARDENS (LS)   \n",
       "1193   00017654              1.0    RUSSELL SQUARE, GARDENS (LS)   \n",
       "1213   00002734              1.0  BRUNSWICK SQUARE, GARDENS (LS)   \n",
       "\n",
       "     Contract Area       Scientific Name Inspection Date Inspection Due Date  \\\n",
       "547          Parks  Platanus x hispanica      2018-03-16           2020/2021   \n",
       "830          Parks  Platanus x hispanica      2018-03-26           2020/2021   \n",
       "920          Parks  Platanus x hispanica      2018-03-16           2020/2021   \n",
       "1193         Parks  Platanus x hispanica      2018-03-20           2020/2021   \n",
       "1213         Parks  Platanus x hispanica      2018-03-21           2020/2021   \n",
       "\n",
       "      Height In Metres  Spread In Metres  \\\n",
       "547               38.0              26.0   \n",
       "830               34.0              16.0   \n",
       "920               38.0              23.0   \n",
       "1193              36.0              19.0   \n",
       "1213              31.0              28.0   \n",
       "\n",
       "      Diameter In Centimetres At Breast Height  Ward Code      Ward Name  \\\n",
       "547                                      161.0  E05000129     Bloomsbury   \n",
       "830                                       89.0  E05000142  Regent's Park   \n",
       "920                                      132.0  E05000129     Bloomsbury   \n",
       "1193                                      83.0  E05000129     Bloomsbury   \n",
       "1213                                     170.0  E05000141   King's Cross   \n",
       "\n",
       "      Easting  Northing  Longitude   Latitude                Location  \n",
       "547    530077    182009  -0.126474  51.522027  (51.522027, -0.126474)  \n",
       "830    529366    183337  -0.136233  51.534130   (51.53413, -0.136233)  \n",
       "920    530126    182017  -0.125765  51.522094  (51.522094, -0.125765)  \n",
       "1193   530147    181969  -0.125480  51.521657   (51.521657, -0.12548)  \n",
       "1213   530384    182302  -0.121941  51.524590   (51.52459, -0.121941)  "
      ]
     },
     "execution_count": 77,
     "metadata": {},
     "output_type": "execute_result"
    }
   ],
   "source": [
    "# Select the crazy outlier rows\n",
    "above_30 = trees[trees[\"Height In Metres\"] > 30]\n",
    "above_30.head()"
   ]
  },
  {
   "cell_type": "markdown",
   "id": "c3e7ff2b-b69c-4095-a20d-bd6d2df1e68a",
   "metadata": {},
   "source": [
    "<hr/>"
   ]
  },
  {
   "cell_type": "markdown",
   "id": "f4d3025c-4a29-42e3-8821-8df2d8daa5e0",
   "metadata": {},
   "source": [
    "### 5.2 Outliers for Spread\n",
    "Now repeat the analysis for spread.\n",
    "<div style=\"background-color:lemonchiffon; border:1px solid; padding:5px; margin:5px; font-weight:bold\"><font color=\"crimson\">\n",
    "TODO: Complete the following code cells\n",
    "    </font></div>"
   ]
  },
  {
   "cell_type": "code",
   "execution_count": 78,
   "id": "ce6760cf-78d0-465d-b4a3-f199596983fa",
   "metadata": {},
   "outputs": [
    {
     "data": {
      "image/png": "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\n",
      "text/plain": [
       "<Figure size 640x480 with 1 Axes>"
      ]
     },
     "metadata": {},
     "output_type": "display_data"
    }
   ],
   "source": [
    "# Use a boxplot to find the outliers\n",
    "trees.boxplot(column=[\"Spread In Metres\"]) \n",
    "plt.show()"
   ]
  },
  {
   "cell_type": "code",
   "execution_count": 79,
   "id": "6ab3697f-02f9-4e35-acd7-520ac7a1aa83",
   "metadata": {},
   "outputs": [
    {
     "data": {
      "text/html": [
       "<div>\n",
       "<style scoped>\n",
       "    .dataframe tbody tr th:only-of-type {\n",
       "        vertical-align: middle;\n",
       "    }\n",
       "\n",
       "    .dataframe tbody tr th {\n",
       "        vertical-align: top;\n",
       "    }\n",
       "\n",
       "    .dataframe thead th {\n",
       "        text-align: right;\n",
       "    }\n",
       "</style>\n",
       "<table border=\"1\" class=\"dataframe\">\n",
       "  <thead>\n",
       "    <tr style=\"text-align: right;\">\n",
       "      <th></th>\n",
       "      <th>Identifier</th>\n",
       "      <th>Number Of Trees</th>\n",
       "      <th>Site Name</th>\n",
       "      <th>Contract Area</th>\n",
       "      <th>Scientific Name</th>\n",
       "      <th>Inspection Date</th>\n",
       "      <th>Inspection Due Date</th>\n",
       "      <th>Height In Metres</th>\n",
       "      <th>Spread In Metres</th>\n",
       "      <th>Diameter In Centimetres At Breast Height</th>\n",
       "      <th>Ward Code</th>\n",
       "      <th>Ward Name</th>\n",
       "      <th>Easting</th>\n",
       "      <th>Northing</th>\n",
       "      <th>Longitude</th>\n",
       "      <th>Latitude</th>\n",
       "      <th>Location</th>\n",
       "    </tr>\n",
       "  </thead>\n",
       "  <tbody>\n",
       "    <tr>\n",
       "      <th>109</th>\n",
       "      <td>00017322</td>\n",
       "      <td>1.0</td>\n",
       "      <td>ROSEBERY AVENUE</td>\n",
       "      <td>Highways</td>\n",
       "      <td>Platanus x hispanica</td>\n",
       "      <td>2019-09-13</td>\n",
       "      <td>2022/2023</td>\n",
       "      <td>24.0</td>\n",
       "      <td>17.0</td>\n",
       "      <td>92.0</td>\n",
       "      <td>E05000138</td>\n",
       "      <td>Holborn and Covent Garden</td>\n",
       "      <td>531080</td>\n",
       "      <td>182076</td>\n",
       "      <td>-0.112004</td>\n",
       "      <td>51.522398</td>\n",
       "      <td>(51.522398, -0.112004)</td>\n",
       "    </tr>\n",
       "    <tr>\n",
       "      <th>227</th>\n",
       "      <td>00017167</td>\n",
       "      <td>1.0</td>\n",
       "      <td>ROBERT STREET</td>\n",
       "      <td>Highways</td>\n",
       "      <td>Platanus x hispanica</td>\n",
       "      <td>2019-05-11</td>\n",
       "      <td>2022/2023</td>\n",
       "      <td>26.0</td>\n",
       "      <td>20.0</td>\n",
       "      <td>117.0</td>\n",
       "      <td>E05000142</td>\n",
       "      <td>Regent's Park</td>\n",
       "      <td>529047</td>\n",
       "      <td>182701</td>\n",
       "      <td>-0.141064</td>\n",
       "      <td>51.528484</td>\n",
       "      <td>(51.528484, -0.141064)</td>\n",
       "    </tr>\n",
       "    <tr>\n",
       "      <th>233</th>\n",
       "      <td>00013795</td>\n",
       "      <td>1.0</td>\n",
       "      <td>Estate 1-39 Aspen House (cons)</td>\n",
       "      <td>Housing</td>\n",
       "      <td>Acer saccharinum 'Laciniatum'</td>\n",
       "      <td>2017-05-18</td>\n",
       "      <td>2020/2021</td>\n",
       "      <td>20.0</td>\n",
       "      <td>18.0</td>\n",
       "      <td>63.0</td>\n",
       "      <td>E05000136</td>\n",
       "      <td>Haverstock</td>\n",
       "      <td>527881</td>\n",
       "      <td>184897</td>\n",
       "      <td>-0.157062</td>\n",
       "      <td>51.548488</td>\n",
       "      <td>(51.548488, -0.157062)</td>\n",
       "    </tr>\n",
       "    <tr>\n",
       "      <th>239</th>\n",
       "      <td>00017873</td>\n",
       "      <td>1.0</td>\n",
       "      <td>SHAFTESBURY AVENUE</td>\n",
       "      <td>Highways</td>\n",
       "      <td>Platanus x hispanica</td>\n",
       "      <td>2019-07-08</td>\n",
       "      <td>2022/2023</td>\n",
       "      <td>22.0</td>\n",
       "      <td>16.0</td>\n",
       "      <td>82.0</td>\n",
       "      <td>E05000138</td>\n",
       "      <td>Holborn and Covent Garden</td>\n",
       "      <td>530058</td>\n",
       "      <td>181270</td>\n",
       "      <td>-0.127020</td>\n",
       "      <td>51.515396</td>\n",
       "      <td>(51.515396, -0.12702)</td>\n",
       "    </tr>\n",
       "    <tr>\n",
       "      <th>245</th>\n",
       "      <td>00019404</td>\n",
       "      <td>1.0</td>\n",
       "      <td>PANCRAS ROAD, ST. PANCRAS GDNS (LS)</td>\n",
       "      <td>Parks</td>\n",
       "      <td>Platanus x hispanica</td>\n",
       "      <td>2017-03-14</td>\n",
       "      <td>2019/2020</td>\n",
       "      <td>25.0</td>\n",
       "      <td>22.0</td>\n",
       "      <td>114.0</td>\n",
       "      <td>E05000143</td>\n",
       "      <td>St Pancras and Somers Town</td>\n",
       "      <td>529756</td>\n",
       "      <td>183538</td>\n",
       "      <td>-0.130537</td>\n",
       "      <td>51.535845</td>\n",
       "      <td>(51.535845, -0.130537)</td>\n",
       "    </tr>\n",
       "  </tbody>\n",
       "</table>\n",
       "</div>"
      ],
      "text/plain": [
       "    Identifier  Number Of Trees                            Site Name  \\\n",
       "109   00017322              1.0                      ROSEBERY AVENUE   \n",
       "227   00017167              1.0                        ROBERT STREET   \n",
       "233   00013795              1.0       Estate 1-39 Aspen House (cons)   \n",
       "239   00017873              1.0                   SHAFTESBURY AVENUE   \n",
       "245   00019404              1.0  PANCRAS ROAD, ST. PANCRAS GDNS (LS)   \n",
       "\n",
       "    Contract Area                Scientific Name Inspection Date  \\\n",
       "109      Highways           Platanus x hispanica      2019-09-13   \n",
       "227      Highways           Platanus x hispanica      2019-05-11   \n",
       "233       Housing  Acer saccharinum 'Laciniatum'      2017-05-18   \n",
       "239      Highways           Platanus x hispanica      2019-07-08   \n",
       "245         Parks           Platanus x hispanica      2017-03-14   \n",
       "\n",
       "    Inspection Due Date  Height In Metres  Spread In Metres  \\\n",
       "109           2022/2023              24.0              17.0   \n",
       "227           2022/2023              26.0              20.0   \n",
       "233           2020/2021              20.0              18.0   \n",
       "239           2022/2023              22.0              16.0   \n",
       "245           2019/2020              25.0              22.0   \n",
       "\n",
       "     Diameter In Centimetres At Breast Height  Ward Code  \\\n",
       "109                                      92.0  E05000138   \n",
       "227                                     117.0  E05000142   \n",
       "233                                      63.0  E05000136   \n",
       "239                                      82.0  E05000138   \n",
       "245                                     114.0  E05000143   \n",
       "\n",
       "                      Ward Name  Easting  Northing  Longitude   Latitude  \\\n",
       "109   Holborn and Covent Garden   531080    182076  -0.112004  51.522398   \n",
       "227               Regent's Park   529047    182701  -0.141064  51.528484   \n",
       "233                  Haverstock   527881    184897  -0.157062  51.548488   \n",
       "239   Holborn and Covent Garden   530058    181270  -0.127020  51.515396   \n",
       "245  St Pancras and Somers Town   529756    183538  -0.130537  51.535845   \n",
       "\n",
       "                   Location  \n",
       "109  (51.522398, -0.112004)  \n",
       "227  (51.528484, -0.141064)  \n",
       "233  (51.548488, -0.157062)  \n",
       "239   (51.515396, -0.12702)  \n",
       "245  (51.535845, -0.130537)  "
      ]
     },
     "execution_count": 79,
     "metadata": {},
     "output_type": "execute_result"
    }
   ],
   "source": [
    "# Select the crazy outlier rows (if any)\n",
    "above_15 = trees[trees[\"Spread In Metres\"] > 15]\n",
    "\n",
    "above_15.head()"
   ]
  },
  {
   "cell_type": "markdown",
   "id": "70810045-0b5e-4dfe-bba1-fe6b0c2ea8d0",
   "metadata": {},
   "source": [
    "<hr/>"
   ]
  },
  {
   "cell_type": "markdown",
   "id": "cc0982a2-f528-49ee-ae07-6d611cb4c564",
   "metadata": {},
   "source": [
    "### 5.3 Outliers for Diameter\n",
    "Now repeat the analysis for diameter.\n",
    "<div style=\"background-color:lemonchiffon; border:1px solid; padding:5px; margin:5px; font-weight:bold\"><font color=\"crimson\">\n",
    "TODO: Complete the following code cells\n",
    "    </font></div>"
   ]
  },
  {
   "cell_type": "code",
   "execution_count": 80,
   "id": "f09b82f0-44c7-4b2c-b7d6-7b1059f8e424",
   "metadata": {},
   "outputs": [
    {
     "data": {
      "image/png": "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\n",
      "text/plain": [
       "<Figure size 640x480 with 1 Axes>"
      ]
     },
     "metadata": {},
     "output_type": "display_data"
    }
   ],
   "source": [
    "# Use a boxplot to find the outliers\n",
    "trees.boxplot(column=[\"Diameter In Centimetres At Breast Height\"]) \n",
    "plt.show()"
   ]
  },
  {
   "cell_type": "code",
   "execution_count": 81,
   "id": "6299642f-bf98-43da-a7bc-2880c88c002e",
   "metadata": {},
   "outputs": [
    {
     "data": {
      "text/html": [
       "<div>\n",
       "<style scoped>\n",
       "    .dataframe tbody tr th:only-of-type {\n",
       "        vertical-align: middle;\n",
       "    }\n",
       "\n",
       "    .dataframe tbody tr th {\n",
       "        vertical-align: top;\n",
       "    }\n",
       "\n",
       "    .dataframe thead th {\n",
       "        text-align: right;\n",
       "    }\n",
       "</style>\n",
       "<table border=\"1\" class=\"dataframe\">\n",
       "  <thead>\n",
       "    <tr style=\"text-align: right;\">\n",
       "      <th></th>\n",
       "      <th>Identifier</th>\n",
       "      <th>Number Of Trees</th>\n",
       "      <th>Site Name</th>\n",
       "      <th>Contract Area</th>\n",
       "      <th>Scientific Name</th>\n",
       "      <th>Inspection Date</th>\n",
       "      <th>Inspection Due Date</th>\n",
       "      <th>Height In Metres</th>\n",
       "      <th>Spread In Metres</th>\n",
       "      <th>Diameter In Centimetres At Breast Height</th>\n",
       "      <th>Ward Code</th>\n",
       "      <th>Ward Name</th>\n",
       "      <th>Easting</th>\n",
       "      <th>Northing</th>\n",
       "      <th>Longitude</th>\n",
       "      <th>Latitude</th>\n",
       "      <th>Location</th>\n",
       "    </tr>\n",
       "  </thead>\n",
       "  <tbody>\n",
       "    <tr>\n",
       "      <th>74</th>\n",
       "      <td>00059542</td>\n",
       "      <td>1.0</td>\n",
       "      <td>GROVE THE</td>\n",
       "      <td>Highways</td>\n",
       "      <td>Aesculus hippocastanum</td>\n",
       "      <td>NaT</td>\n",
       "      <td>NaN</td>\n",
       "      <td>16.0</td>\n",
       "      <td>14.0</td>\n",
       "      <td>119.0</td>\n",
       "      <td>NaN</td>\n",
       "      <td>NaN</td>\n",
       "      <td>0</td>\n",
       "      <td>0</td>\n",
       "      <td>NaN</td>\n",
       "      <td>NaN</td>\n",
       "      <td>NaN</td>\n",
       "    </tr>\n",
       "    <tr>\n",
       "      <th>155</th>\n",
       "      <td>00011788</td>\n",
       "      <td>1.0</td>\n",
       "      <td>KILBURN GRANGE, MESSINA AVE (LS)</td>\n",
       "      <td>Parks</td>\n",
       "      <td>Populus nigra 'Italica'</td>\n",
       "      <td>2017-10-04</td>\n",
       "      <td>2020/2021</td>\n",
       "      <td>26.0</td>\n",
       "      <td>7.0</td>\n",
       "      <td>109.0</td>\n",
       "      <td>E05000140</td>\n",
       "      <td>Kilburn</td>\n",
       "      <td>524946</td>\n",
       "      <td>184347</td>\n",
       "      <td>-0.199562</td>\n",
       "      <td>51.544202</td>\n",
       "      <td>(51.544202, -0.199562)</td>\n",
       "    </tr>\n",
       "    <tr>\n",
       "      <th>169</th>\n",
       "      <td>00014007</td>\n",
       "      <td>1.0</td>\n",
       "      <td>MARESFIELD GARDENS</td>\n",
       "      <td>Highways</td>\n",
       "      <td>Platanus x hispanica</td>\n",
       "      <td>2018-07-24</td>\n",
       "      <td>2021/2022</td>\n",
       "      <td>17.0</td>\n",
       "      <td>10.0</td>\n",
       "      <td>106.0</td>\n",
       "      <td>E05000133</td>\n",
       "      <td>Frognal and Fitzjohns</td>\n",
       "      <td>526453</td>\n",
       "      <td>184926</td>\n",
       "      <td>-0.177636</td>\n",
       "      <td>51.549068</td>\n",
       "      <td>(51.549068, -0.177636)</td>\n",
       "    </tr>\n",
       "    <tr>\n",
       "      <th>227</th>\n",
       "      <td>00017167</td>\n",
       "      <td>1.0</td>\n",
       "      <td>ROBERT STREET</td>\n",
       "      <td>Highways</td>\n",
       "      <td>Platanus x hispanica</td>\n",
       "      <td>2019-05-11</td>\n",
       "      <td>2022/2023</td>\n",
       "      <td>26.0</td>\n",
       "      <td>20.0</td>\n",
       "      <td>117.0</td>\n",
       "      <td>E05000142</td>\n",
       "      <td>Regent's Park</td>\n",
       "      <td>529047</td>\n",
       "      <td>182701</td>\n",
       "      <td>-0.141064</td>\n",
       "      <td>51.528484</td>\n",
       "      <td>(51.528484, -0.141064)</td>\n",
       "    </tr>\n",
       "    <tr>\n",
       "      <th>245</th>\n",
       "      <td>00019404</td>\n",
       "      <td>1.0</td>\n",
       "      <td>PANCRAS ROAD, ST. PANCRAS GDNS (LS)</td>\n",
       "      <td>Parks</td>\n",
       "      <td>Platanus x hispanica</td>\n",
       "      <td>2017-03-14</td>\n",
       "      <td>2019/2020</td>\n",
       "      <td>25.0</td>\n",
       "      <td>22.0</td>\n",
       "      <td>114.0</td>\n",
       "      <td>E05000143</td>\n",
       "      <td>St Pancras and Somers Town</td>\n",
       "      <td>529756</td>\n",
       "      <td>183538</td>\n",
       "      <td>-0.130537</td>\n",
       "      <td>51.535845</td>\n",
       "      <td>(51.535845, -0.130537)</td>\n",
       "    </tr>\n",
       "  </tbody>\n",
       "</table>\n",
       "</div>"
      ],
      "text/plain": [
       "    Identifier  Number Of Trees                            Site Name  \\\n",
       "74    00059542              1.0                            GROVE THE   \n",
       "155   00011788              1.0     KILBURN GRANGE, MESSINA AVE (LS)   \n",
       "169   00014007              1.0                   MARESFIELD GARDENS   \n",
       "227   00017167              1.0                        ROBERT STREET   \n",
       "245   00019404              1.0  PANCRAS ROAD, ST. PANCRAS GDNS (LS)   \n",
       "\n",
       "    Contract Area          Scientific Name Inspection Date  \\\n",
       "74       Highways   Aesculus hippocastanum             NaT   \n",
       "155         Parks  Populus nigra 'Italica'      2017-10-04   \n",
       "169      Highways     Platanus x hispanica      2018-07-24   \n",
       "227      Highways     Platanus x hispanica      2019-05-11   \n",
       "245         Parks     Platanus x hispanica      2017-03-14   \n",
       "\n",
       "    Inspection Due Date  Height In Metres  Spread In Metres  \\\n",
       "74                  NaN              16.0              14.0   \n",
       "155           2020/2021              26.0               7.0   \n",
       "169           2021/2022              17.0              10.0   \n",
       "227           2022/2023              26.0              20.0   \n",
       "245           2019/2020              25.0              22.0   \n",
       "\n",
       "     Diameter In Centimetres At Breast Height  Ward Code  \\\n",
       "74                                      119.0        NaN   \n",
       "155                                     109.0  E05000140   \n",
       "169                                     106.0  E05000133   \n",
       "227                                     117.0  E05000142   \n",
       "245                                     114.0  E05000143   \n",
       "\n",
       "                      Ward Name  Easting  Northing  Longitude   Latitude  \\\n",
       "74                          NaN        0         0        NaN        NaN   \n",
       "155                     Kilburn   524946    184347  -0.199562  51.544202   \n",
       "169       Frognal and Fitzjohns   526453    184926  -0.177636  51.549068   \n",
       "227               Regent's Park   529047    182701  -0.141064  51.528484   \n",
       "245  St Pancras and Somers Town   529756    183538  -0.130537  51.535845   \n",
       "\n",
       "                   Location  \n",
       "74                      NaN  \n",
       "155  (51.544202, -0.199562)  \n",
       "169  (51.549068, -0.177636)  \n",
       "227  (51.528484, -0.141064)  \n",
       "245  (51.535845, -0.130537)  "
      ]
     },
     "execution_count": 81,
     "metadata": {},
     "output_type": "execute_result"
    }
   ],
   "source": [
    "# Select the outlier rows (if any)\n",
    "above_95 = trees[trees[\"Diameter In Centimetres At Breast Height\"] > 95]\n",
    "\n",
    "above_95.head()"
   ]
  },
  {
   "cell_type": "markdown",
   "id": "19fb2357-f25f-4840-b4a7-5a016256ff28",
   "metadata": {},
   "source": [
    "<hr/>\n",
    "\n",
    "### 5.4 Observations\n",
    "\n",
    "<div style=\"background-color:lemonchiffon; border:1px solid; padding:5px; margin:5px; font-weight:bold\"><font color=\"crimson\">\n",
    "TODO: Write down your observation about outliers in the data.  What assumptions did you make?  Were you comfortable making these assumptions?\n",
    "    </font></div>\n"
   ]
  },
  {
   "cell_type": "markdown",
   "id": "12f67262-3fe4-4238-8e6f-e04382b8594d",
   "metadata": {},
   "source": [
    "<div style=\"background-color:lemonchiffon; border:1px solid; padding:5px; margin:5px; font-weight:bold\"><font color=\"Grey\">\n",
    "Public tree data is not accurate. The council must decide whether this is acceptable\n",
    "    </font></div>\n"
   ]
  },
  {
   "cell_type": "markdown",
   "id": "bd36393a-8904-4be8-affe-1a99e5d4e69f",
   "metadata": {},
   "source": [
    "<hr/>"
   ]
  },
  {
   "cell_type": "markdown",
   "id": "a433b035-abc4-4ce2-b86e-484e698bd941",
   "metadata": {},
   "source": [
    "## Task 6: Identify Duplicates in the Trees Dataset\n",
    "Sometimes data has duplicate entries.  This is another sign of data quality issues!\n",
    "\n",
    "### 6.1 Find Duplicate Rows\n",
    "\n",
    "In our dataset the `Identifier` column should be unique.  Find out if it is!  We've already used a function that can count how many times each value in a column exists.  Use is to see if we have duplicates in the trees Dataframe.\n",
    "\n",
    "<div style=\"background-color:lemonchiffon; border:1px solid; padding:5px; margin:5px; font-weight:bold\"><font color=\"crimson\">\n",
    "TODO: Complete the following code cells\n",
    "    </font></div>"
   ]
  },
  {
   "cell_type": "code",
   "execution_count": 82,
   "id": "a40454f4-03e9-43b3-a0d8-6fcb756ba90b",
   "metadata": {},
   "outputs": [
    {
     "data": {
      "text/plain": [
       "00000999    2\n",
       "00060087    2\n",
       "00022744    2\n",
       "00032549    2\n",
       "00022674    2\n",
       "           ..\n",
       "00046158    1\n",
       "00058373    1\n",
       "00059181    1\n",
       "00002274    1\n",
       "00013369    1\n",
       "Name: Identifier, Length: 23438, dtype: int64"
      ]
     },
     "execution_count": 82,
     "metadata": {},
     "output_type": "execute_result"
    }
   ],
   "source": [
    "# Find out if we have any duplicates\n",
    "trees[\"Identifier\"].value_counts()"
   ]
  },
  {
   "cell_type": "markdown",
   "id": "787be537-4f13-466e-9a65-108d93563fc8",
   "metadata": {},
   "source": [
    "Now see if you can select the rows from trees DataFrame that are duplicates.  You will need to use the output from the cell above and use it to filter the trees dataframe."
   ]
  },
  {
   "cell_type": "code",
   "execution_count": 83,
   "id": "3d2fbdbf-c839-4e84-ad7c-add0f4fa31ef",
   "metadata": {},
   "outputs": [
    {
     "data": {
      "text/html": [
       "<div>\n",
       "<style scoped>\n",
       "    .dataframe tbody tr th:only-of-type {\n",
       "        vertical-align: middle;\n",
       "    }\n",
       "\n",
       "    .dataframe tbody tr th {\n",
       "        vertical-align: top;\n",
       "    }\n",
       "\n",
       "    .dataframe thead th {\n",
       "        text-align: right;\n",
       "    }\n",
       "</style>\n",
       "<table border=\"1\" class=\"dataframe\">\n",
       "  <thead>\n",
       "    <tr style=\"text-align: right;\">\n",
       "      <th></th>\n",
       "      <th>Identifier</th>\n",
       "      <th>Number Of Trees</th>\n",
       "      <th>Site Name</th>\n",
       "      <th>Contract Area</th>\n",
       "      <th>Scientific Name</th>\n",
       "      <th>Inspection Date</th>\n",
       "      <th>Inspection Due Date</th>\n",
       "      <th>Height In Metres</th>\n",
       "      <th>Spread In Metres</th>\n",
       "      <th>Diameter In Centimetres At Breast Height</th>\n",
       "      <th>Ward Code</th>\n",
       "      <th>Ward Name</th>\n",
       "      <th>Easting</th>\n",
       "      <th>Northing</th>\n",
       "      <th>Longitude</th>\n",
       "      <th>Latitude</th>\n",
       "      <th>Location</th>\n",
       "    </tr>\n",
       "  </thead>\n",
       "  <tbody>\n",
       "    <tr>\n",
       "      <th>5491</th>\n",
       "      <td>00000999</td>\n",
       "      <td>1.0</td>\n",
       "      <td>ALMA STREET</td>\n",
       "      <td>Highways</td>\n",
       "      <td>Sorbus hupehensis</td>\n",
       "      <td>2017-07-25</td>\n",
       "      <td>2020/2021</td>\n",
       "      <td>5.0</td>\n",
       "      <td>4.0</td>\n",
       "      <td>18.0</td>\n",
       "      <td>E05000139</td>\n",
       "      <td>Kentish Town</td>\n",
       "      <td>528834</td>\n",
       "      <td>184856</td>\n",
       "      <td>-0.143337</td>\n",
       "      <td>51.547904</td>\n",
       "      <td>(51.547904, -0.143337)</td>\n",
       "    </tr>\n",
       "    <tr>\n",
       "      <th>13098</th>\n",
       "      <td>00000999</td>\n",
       "      <td>1.0</td>\n",
       "      <td>ALMA STREET</td>\n",
       "      <td>Highways</td>\n",
       "      <td>Sorbus hupehensis</td>\n",
       "      <td>2017-07-25</td>\n",
       "      <td>2020/2021</td>\n",
       "      <td>5.0</td>\n",
       "      <td>4.0</td>\n",
       "      <td>18.0</td>\n",
       "      <td>E05000139</td>\n",
       "      <td>Kentish Town</td>\n",
       "      <td>528834</td>\n",
       "      <td>184856</td>\n",
       "      <td>-0.143337</td>\n",
       "      <td>51.547904</td>\n",
       "      <td>(51.547904, -0.143337)</td>\n",
       "    </tr>\n",
       "    <tr>\n",
       "      <th>9482</th>\n",
       "      <td>00022674</td>\n",
       "      <td>1.0</td>\n",
       "      <td>WOODSOME ROAD</td>\n",
       "      <td>Highways</td>\n",
       "      <td>Sorbus</td>\n",
       "      <td>2017-10-07</td>\n",
       "      <td>2020/2021</td>\n",
       "      <td>7.0</td>\n",
       "      <td>6.0</td>\n",
       "      <td>28.0</td>\n",
       "      <td>E05000137</td>\n",
       "      <td>Highgate</td>\n",
       "      <td>528515</td>\n",
       "      <td>186109</td>\n",
       "      <td>-0.147481</td>\n",
       "      <td>51.559237</td>\n",
       "      <td>(51.559237, -0.147481)</td>\n",
       "    </tr>\n",
       "    <tr>\n",
       "      <th>13628</th>\n",
       "      <td>00022674</td>\n",
       "      <td>1.0</td>\n",
       "      <td>WOODSOME ROAD</td>\n",
       "      <td>Highways</td>\n",
       "      <td>Sorbus</td>\n",
       "      <td>2017-10-07</td>\n",
       "      <td>2020/2021</td>\n",
       "      <td>7.0</td>\n",
       "      <td>6.0</td>\n",
       "      <td>28.0</td>\n",
       "      <td>E05000137</td>\n",
       "      <td>Highgate</td>\n",
       "      <td>528515</td>\n",
       "      <td>186109</td>\n",
       "      <td>-0.147481</td>\n",
       "      <td>51.559237</td>\n",
       "      <td>(51.559237, -0.147481)</td>\n",
       "    </tr>\n",
       "    <tr>\n",
       "      <th>7027</th>\n",
       "      <td>00022744</td>\n",
       "      <td>1.0</td>\n",
       "      <td>YORK WAY</td>\n",
       "      <td>Highways</td>\n",
       "      <td>Ailanthus altissima</td>\n",
       "      <td>2019-10-30</td>\n",
       "      <td>2022/2023</td>\n",
       "      <td>7.5</td>\n",
       "      <td>3.0</td>\n",
       "      <td>18.0</td>\n",
       "      <td>E05000131</td>\n",
       "      <td>Cantelowes</td>\n",
       "      <td>529983</td>\n",
       "      <td>184724</td>\n",
       "      <td>-0.126837</td>\n",
       "      <td>51.546447</td>\n",
       "      <td>(51.546447, -0.126837)</td>\n",
       "    </tr>\n",
       "    <tr>\n",
       "      <th>9186</th>\n",
       "      <td>00022744</td>\n",
       "      <td>1.0</td>\n",
       "      <td>YORK WAY</td>\n",
       "      <td>Highways</td>\n",
       "      <td>Ailanthus altissima</td>\n",
       "      <td>2019-10-30</td>\n",
       "      <td>2022/2023</td>\n",
       "      <td>7.5</td>\n",
       "      <td>3.0</td>\n",
       "      <td>18.0</td>\n",
       "      <td>E05000131</td>\n",
       "      <td>Cantelowes</td>\n",
       "      <td>529983</td>\n",
       "      <td>184724</td>\n",
       "      <td>-0.126837</td>\n",
       "      <td>51.546447</td>\n",
       "      <td>(51.546447, -0.126837)</td>\n",
       "    </tr>\n",
       "    <tr>\n",
       "      <th>4388</th>\n",
       "      <td>00032549</td>\n",
       "      <td>1.0</td>\n",
       "      <td>NARCISSUS ROAD</td>\n",
       "      <td>Highways</td>\n",
       "      <td>Betula albosinensis Fasc.</td>\n",
       "      <td>2018-09-19</td>\n",
       "      <td>2021/2022</td>\n",
       "      <td>9.0</td>\n",
       "      <td>6.0</td>\n",
       "      <td>19.0</td>\n",
       "      <td>E05000145</td>\n",
       "      <td>West Hampstead</td>\n",
       "      <td>525185</td>\n",
       "      <td>185127</td>\n",
       "      <td>-0.195840</td>\n",
       "      <td>51.551159</td>\n",
       "      <td>(51.551159, -0.19584)</td>\n",
       "    </tr>\n",
       "    <tr>\n",
       "      <th>6111</th>\n",
       "      <td>00032549</td>\n",
       "      <td>1.0</td>\n",
       "      <td>NARCISSUS ROAD</td>\n",
       "      <td>Highways</td>\n",
       "      <td>Betula albosinensis Fasc.</td>\n",
       "      <td>2018-09-19</td>\n",
       "      <td>2021/2022</td>\n",
       "      <td>9.0</td>\n",
       "      <td>6.0</td>\n",
       "      <td>19.0</td>\n",
       "      <td>E05000145</td>\n",
       "      <td>West Hampstead</td>\n",
       "      <td>525185</td>\n",
       "      <td>185127</td>\n",
       "      <td>-0.195840</td>\n",
       "      <td>51.551159</td>\n",
       "      <td>(51.551159, -0.19584)</td>\n",
       "    </tr>\n",
       "    <tr>\n",
       "      <th>15393</th>\n",
       "      <td>00060087</td>\n",
       "      <td>1.0</td>\n",
       "      <td>ARGYLE SQUARE</td>\n",
       "      <td>Highways</td>\n",
       "      <td>Vacant Tree Pit (planned: Access)</td>\n",
       "      <td>2019-11-09</td>\n",
       "      <td>2022/2023</td>\n",
       "      <td>NaN</td>\n",
       "      <td>NaN</td>\n",
       "      <td>NaN</td>\n",
       "      <td>E05000141</td>\n",
       "      <td>King's Cross</td>\n",
       "      <td>530342</td>\n",
       "      <td>182839</td>\n",
       "      <td>-0.122352</td>\n",
       "      <td>51.529428</td>\n",
       "      <td>(51.529428, -0.122352)</td>\n",
       "    </tr>\n",
       "    <tr>\n",
       "      <th>15653</th>\n",
       "      <td>00060087</td>\n",
       "      <td>1.0</td>\n",
       "      <td>ARGYLE SQUARE</td>\n",
       "      <td>Highways</td>\n",
       "      <td>Vacant Tree Pit (planned: Acer campestre eco s...</td>\n",
       "      <td>2019-11-09</td>\n",
       "      <td>2022/2023</td>\n",
       "      <td>NaN</td>\n",
       "      <td>NaN</td>\n",
       "      <td>NaN</td>\n",
       "      <td>E05000141</td>\n",
       "      <td>King's Cross</td>\n",
       "      <td>530342</td>\n",
       "      <td>182839</td>\n",
       "      <td>-0.122352</td>\n",
       "      <td>51.529428</td>\n",
       "      <td>(51.529428, -0.122352)</td>\n",
       "    </tr>\n",
       "    <tr>\n",
       "      <th>1219</th>\n",
       "      <td>00060088</td>\n",
       "      <td>1.0</td>\n",
       "      <td>FREDERICK STREET</td>\n",
       "      <td>Highways</td>\n",
       "      <td>Vacant Tree Pit (planned: Access)</td>\n",
       "      <td>2019-11-09</td>\n",
       "      <td>2022/2023</td>\n",
       "      <td>NaN</td>\n",
       "      <td>NaN</td>\n",
       "      <td>NaN</td>\n",
       "      <td>E05000141</td>\n",
       "      <td>King's Cross</td>\n",
       "      <td>530770</td>\n",
       "      <td>182696</td>\n",
       "      <td>-0.116241</td>\n",
       "      <td>51.528046</td>\n",
       "      <td>(51.528046, -0.116241)</td>\n",
       "    </tr>\n",
       "    <tr>\n",
       "      <th>10972</th>\n",
       "      <td>00060088</td>\n",
       "      <td>1.0</td>\n",
       "      <td>FREDERICK STREET</td>\n",
       "      <td>Highways</td>\n",
       "      <td>Vacant Tree Pit (planned: Acer campestre eco s...</td>\n",
       "      <td>2019-11-09</td>\n",
       "      <td>2022/2023</td>\n",
       "      <td>NaN</td>\n",
       "      <td>NaN</td>\n",
       "      <td>NaN</td>\n",
       "      <td>E05000141</td>\n",
       "      <td>King's Cross</td>\n",
       "      <td>530770</td>\n",
       "      <td>182696</td>\n",
       "      <td>-0.116241</td>\n",
       "      <td>51.528046</td>\n",
       "      <td>(51.528046, -0.116241)</td>\n",
       "    </tr>\n",
       "  </tbody>\n",
       "</table>\n",
       "</div>"
      ],
      "text/plain": [
       "      Identifier  Number Of Trees         Site Name Contract Area  \\\n",
       "5491    00000999              1.0       ALMA STREET      Highways   \n",
       "13098   00000999              1.0       ALMA STREET      Highways   \n",
       "9482    00022674              1.0     WOODSOME ROAD      Highways   \n",
       "13628   00022674              1.0     WOODSOME ROAD      Highways   \n",
       "7027    00022744              1.0          YORK WAY      Highways   \n",
       "9186    00022744              1.0          YORK WAY      Highways   \n",
       "4388    00032549              1.0    NARCISSUS ROAD      Highways   \n",
       "6111    00032549              1.0    NARCISSUS ROAD      Highways   \n",
       "15393   00060087              1.0     ARGYLE SQUARE      Highways   \n",
       "15653   00060087              1.0     ARGYLE SQUARE      Highways   \n",
       "1219    00060088              1.0  FREDERICK STREET      Highways   \n",
       "10972   00060088              1.0  FREDERICK STREET      Highways   \n",
       "\n",
       "                                         Scientific Name Inspection Date  \\\n",
       "5491                                   Sorbus hupehensis      2017-07-25   \n",
       "13098                                  Sorbus hupehensis      2017-07-25   \n",
       "9482                                              Sorbus      2017-10-07   \n",
       "13628                                             Sorbus      2017-10-07   \n",
       "7027                                 Ailanthus altissima      2019-10-30   \n",
       "9186                                 Ailanthus altissima      2019-10-30   \n",
       "4388                           Betula albosinensis Fasc.      2018-09-19   \n",
       "6111                           Betula albosinensis Fasc.      2018-09-19   \n",
       "15393                  Vacant Tree Pit (planned: Access)      2019-11-09   \n",
       "15653  Vacant Tree Pit (planned: Acer campestre eco s...      2019-11-09   \n",
       "1219                   Vacant Tree Pit (planned: Access)      2019-11-09   \n",
       "10972  Vacant Tree Pit (planned: Acer campestre eco s...      2019-11-09   \n",
       "\n",
       "      Inspection Due Date  Height In Metres  Spread In Metres  \\\n",
       "5491            2020/2021               5.0               4.0   \n",
       "13098           2020/2021               5.0               4.0   \n",
       "9482            2020/2021               7.0               6.0   \n",
       "13628           2020/2021               7.0               6.0   \n",
       "7027            2022/2023               7.5               3.0   \n",
       "9186            2022/2023               7.5               3.0   \n",
       "4388            2021/2022               9.0               6.0   \n",
       "6111            2021/2022               9.0               6.0   \n",
       "15393           2022/2023               NaN               NaN   \n",
       "15653           2022/2023               NaN               NaN   \n",
       "1219            2022/2023               NaN               NaN   \n",
       "10972           2022/2023               NaN               NaN   \n",
       "\n",
       "       Diameter In Centimetres At Breast Height  Ward Code       Ward Name  \\\n",
       "5491                                       18.0  E05000139    Kentish Town   \n",
       "13098                                      18.0  E05000139    Kentish Town   \n",
       "9482                                       28.0  E05000137        Highgate   \n",
       "13628                                      28.0  E05000137        Highgate   \n",
       "7027                                       18.0  E05000131      Cantelowes   \n",
       "9186                                       18.0  E05000131      Cantelowes   \n",
       "4388                                       19.0  E05000145  West Hampstead   \n",
       "6111                                       19.0  E05000145  West Hampstead   \n",
       "15393                                       NaN  E05000141    King's Cross   \n",
       "15653                                       NaN  E05000141    King's Cross   \n",
       "1219                                        NaN  E05000141    King's Cross   \n",
       "10972                                       NaN  E05000141    King's Cross   \n",
       "\n",
       "       Easting  Northing  Longitude   Latitude                Location  \n",
       "5491    528834    184856  -0.143337  51.547904  (51.547904, -0.143337)  \n",
       "13098   528834    184856  -0.143337  51.547904  (51.547904, -0.143337)  \n",
       "9482    528515    186109  -0.147481  51.559237  (51.559237, -0.147481)  \n",
       "13628   528515    186109  -0.147481  51.559237  (51.559237, -0.147481)  \n",
       "7027    529983    184724  -0.126837  51.546447  (51.546447, -0.126837)  \n",
       "9186    529983    184724  -0.126837  51.546447  (51.546447, -0.126837)  \n",
       "4388    525185    185127  -0.195840  51.551159   (51.551159, -0.19584)  \n",
       "6111    525185    185127  -0.195840  51.551159   (51.551159, -0.19584)  \n",
       "15393   530342    182839  -0.122352  51.529428  (51.529428, -0.122352)  \n",
       "15653   530342    182839  -0.122352  51.529428  (51.529428, -0.122352)  \n",
       "1219    530770    182696  -0.116241  51.528046  (51.528046, -0.116241)  \n",
       "10972   530770    182696  -0.116241  51.528046  (51.528046, -0.116241)  "
      ]
     },
     "execution_count": 83,
     "metadata": {},
     "output_type": "execute_result"
    }
   ],
   "source": [
    "# Select the rows that are duplicated\n",
    "trees2 = trees[trees.duplicated('Identifier', keep=False)]\n",
    "trees2.sort_values(by=[\"Identifier\"])"
   ]
  },
  {
   "cell_type": "markdown",
   "id": "a74e447b-7ae5-43f3-a189-94c066fe6fc0",
   "metadata": {},
   "source": [
    "<hr/>\n",
    "\n",
    "### 6.2 Observations\n",
    "\n",
    "<div style=\"background-color:lemonchiffon; border:1px solid; padding:5px; margin:5px; font-weight:bold\"><font color=\"crimson\">\n",
    "TODO: Write down your observations about duplicates in trees.\n",
    "    </font></div>\n"
   ]
  },
  {
   "cell_type": "markdown",
   "id": "7aaa910b-ccc4-4f78-80cd-467b683fe2e1",
   "metadata": {},
   "source": [
    "<div style=\"background-color:lemonchiffon; border:1px solid; padding:5px; margin:5px; font-weight:bold\"><font color=\"Grey\">\n",
    "Good reporting requires accurate data that is free of duplicates. Duplicate data inhibits this. Reports generated from duplicate records are less reliable and cannot be used to make informed decisions.\n",
    "    </font></div>"
   ]
  },
  {
   "cell_type": "markdown",
   "id": "d0f41ea4-112c-4ea9-96a5-ca76e4b972b3",
   "metadata": {},
   "source": [
    "<hr/>"
   ]
  },
  {
   "cell_type": "markdown",
   "id": "59990f3e-6f73-46ee-8644-2dc503baa93a",
   "metadata": {},
   "source": [
    "## Task 7: Identify Geolocation Issues\n",
    "The geographic coordinates (Easting and Northing) can be used to plot the trees on a map.  We can use this approach to see if there are any unusual tree locations!\n",
    "\n",
    "We will make a copy of the original trees dataset and remove any rows that have a missing easting or northing as these can't be plotted on the map.\n",
    "\n",
    "We can copy the DataFrame using:\n",
    "\n",
    "- [pandas.DataFrame.copy](https://pandas.pydata.org/pandas-docs/stable/reference/api/pandas.DataFrame.copy.html)\n",
    "\n",
    "We can use the DataFrame filtering technique we saw before to remove the missing values.  E.g. the following code filters out rows where the value for 'mycolumn' is 100:\n",
    "\n",
    "    mask = df['mycolumn'] != 100\n",
    "    df = df[mask]\n",
    "\n",
    "You can also create masks using a function, e.g. this creates a mask which excludes nulls:\n",
    "\n",
    "    mask = df['mycolumn'].isnull()\n",
    "\n",
    "We can use this function to plot the trees on a map. Set x to \"Easting\" and y to \"Northing\" and set a figsize parameter to (6, 6) to get a square aspect ratio:\n",
    "\n",
    "- [pandas.DataFrame.plot.scatter](https://pandas.pydata.org/pandas-docs/version/0.25.0/reference/api/pandas.DataFrame.plot.scatter.html)\n",
    "\n",
    "\n"
   ]
  },
  {
   "cell_type": "markdown",
   "id": "0bdaf281-68a3-43d4-abb6-f3c42a088f7f",
   "metadata": {},
   "source": [
    "### 7.1 Remove Trees with Missing Geo-coordinates\n",
    "Check if there are any rows with null or 0 geo-coordinates.  If there are, remove them as we can't plot these.\n",
    "\n",
    "<div style=\"background-color:lemonchiffon; border:1px solid; padding:5px; margin:5px; font-weight:bold\"><font color=\"crimson\">\n",
    "TODO: Complete the following code cells\n",
    "    </font></div>"
   ]
  },
  {
   "cell_type": "code",
   "execution_count": 117,
   "id": "913c1d69-b105-44aa-be2f-73b537313c6e",
   "metadata": {},
   "outputs": [],
   "source": [
    "# Make a copy of the trees\n",
    "geotrees = trees.copy()"
   ]
  },
  {
   "cell_type": "code",
   "execution_count": 118,
   "id": "3a9b5bf6-bda3-472f-9796-060023cff4e8",
   "metadata": {},
   "outputs": [
    {
     "data": {
      "text/html": [
       "<div>\n",
       "<style scoped>\n",
       "    .dataframe tbody tr th:only-of-type {\n",
       "        vertical-align: middle;\n",
       "    }\n",
       "\n",
       "    .dataframe tbody tr th {\n",
       "        vertical-align: top;\n",
       "    }\n",
       "\n",
       "    .dataframe thead th {\n",
       "        text-align: right;\n",
       "    }\n",
       "</style>\n",
       "<table border=\"1\" class=\"dataframe\">\n",
       "  <thead>\n",
       "    <tr style=\"text-align: right;\">\n",
       "      <th></th>\n",
       "      <th>Identifier</th>\n",
       "      <th>Number Of Trees</th>\n",
       "      <th>Site Name</th>\n",
       "      <th>Contract Area</th>\n",
       "      <th>Scientific Name</th>\n",
       "      <th>Inspection Date</th>\n",
       "      <th>Inspection Due Date</th>\n",
       "      <th>Height In Metres</th>\n",
       "      <th>Spread In Metres</th>\n",
       "      <th>Diameter In Centimetres At Breast Height</th>\n",
       "      <th>Ward Code</th>\n",
       "      <th>Ward Name</th>\n",
       "      <th>Easting</th>\n",
       "      <th>Northing</th>\n",
       "      <th>Longitude</th>\n",
       "      <th>Latitude</th>\n",
       "      <th>Location</th>\n",
       "    </tr>\n",
       "  </thead>\n",
       "  <tbody>\n",
       "    <tr>\n",
       "      <th>0</th>\n",
       "      <td>00060053</td>\n",
       "      <td>1.0</td>\n",
       "      <td>Russell Nurseries Estate</td>\n",
       "      <td>Housing</td>\n",
       "      <td>Vacant Tree Pit</td>\n",
       "      <td>NaT</td>\n",
       "      <td>NaN</td>\n",
       "      <td>NaN</td>\n",
       "      <td>NaN</td>\n",
       "      <td>NaN</td>\n",
       "      <td>E05000135</td>\n",
       "      <td>Hampstead Town</td>\n",
       "      <td>527305</td>\n",
       "      <td>185240</td>\n",
       "      <td>-0.165240</td>\n",
       "      <td>51.551693</td>\n",
       "      <td>(51.551693, -0.16524)</td>\n",
       "    </tr>\n",
       "    <tr>\n",
       "      <th>1</th>\n",
       "      <td>00057855</td>\n",
       "      <td>1.0</td>\n",
       "      <td>BRECKNOCK JMI (E)</td>\n",
       "      <td>Education</td>\n",
       "      <td>Vacant Tree Pit</td>\n",
       "      <td>2019-07-17</td>\n",
       "      <td>2022/2023</td>\n",
       "      <td>NaN</td>\n",
       "      <td>NaN</td>\n",
       "      <td>NaN</td>\n",
       "      <td>E05000131</td>\n",
       "      <td>Cantelowes</td>\n",
       "      <td>529923</td>\n",
       "      <td>184782</td>\n",
       "      <td>-0.127681</td>\n",
       "      <td>51.546984</td>\n",
       "      <td>(51.546984, -0.127681)</td>\n",
       "    </tr>\n",
       "    <tr>\n",
       "      <th>2</th>\n",
       "      <td>00059953</td>\n",
       "      <td>1.0</td>\n",
       "      <td>Estate 51 Ravenshaw Street</td>\n",
       "      <td>Housing</td>\n",
       "      <td>Ficus carica</td>\n",
       "      <td>NaT</td>\n",
       "      <td>NaN</td>\n",
       "      <td>5.0</td>\n",
       "      <td>4.0</td>\n",
       "      <td>10.0</td>\n",
       "      <td>NaN</td>\n",
       "      <td>NaN</td>\n",
       "      <td>0</td>\n",
       "      <td>0</td>\n",
       "      <td>NaN</td>\n",
       "      <td>NaN</td>\n",
       "      <td>NaN</td>\n",
       "    </tr>\n",
       "    <tr>\n",
       "      <th>3</th>\n",
       "      <td>00059915</td>\n",
       "      <td>1.0</td>\n",
       "      <td>ROSARY RC JMI (E)</td>\n",
       "      <td>Education</td>\n",
       "      <td>Betula jacquemontii</td>\n",
       "      <td>NaT</td>\n",
       "      <td>NaN</td>\n",
       "      <td>4.0</td>\n",
       "      <td>1.0</td>\n",
       "      <td>6.0</td>\n",
       "      <td>E05000135</td>\n",
       "      <td>Hampstead Town</td>\n",
       "      <td>527249</td>\n",
       "      <td>185261</td>\n",
       "      <td>-0.166051</td>\n",
       "      <td>51.551901</td>\n",
       "      <td>(51.551901, -0.166051)</td>\n",
       "    </tr>\n",
       "    <tr>\n",
       "      <th>4</th>\n",
       "      <td>00010762</td>\n",
       "      <td>1.0</td>\n",
       "      <td>Holly Lodge Estate</td>\n",
       "      <td>Housing</td>\n",
       "      <td>Ilex x altaclarensis</td>\n",
       "      <td>2017-06-14</td>\n",
       "      <td>2020/2021</td>\n",
       "      <td>14.0</td>\n",
       "      <td>6.0</td>\n",
       "      <td>26.0</td>\n",
       "      <td>E05000137</td>\n",
       "      <td>Highgate</td>\n",
       "      <td>528414</td>\n",
       "      <td>186770</td>\n",
       "      <td>-0.148704</td>\n",
       "      <td>51.565198</td>\n",
       "      <td>(51.565198, -0.148704)</td>\n",
       "    </tr>\n",
       "    <tr>\n",
       "      <th>...</th>\n",
       "      <td>...</td>\n",
       "      <td>...</td>\n",
       "      <td>...</td>\n",
       "      <td>...</td>\n",
       "      <td>...</td>\n",
       "      <td>...</td>\n",
       "      <td>...</td>\n",
       "      <td>...</td>\n",
       "      <td>...</td>\n",
       "      <td>...</td>\n",
       "      <td>...</td>\n",
       "      <td>...</td>\n",
       "      <td>...</td>\n",
       "      <td>...</td>\n",
       "      <td>...</td>\n",
       "      <td>...</td>\n",
       "      <td>...</td>\n",
       "    </tr>\n",
       "    <tr>\n",
       "      <th>23439</th>\n",
       "      <td>00057455</td>\n",
       "      <td>1.0</td>\n",
       "      <td>KILBURN GRANGE, MESSINA AVE (LS)</td>\n",
       "      <td>Parks</td>\n",
       "      <td>Sorbus aria</td>\n",
       "      <td>2017-03-28</td>\n",
       "      <td>2019/2020</td>\n",
       "      <td>2.0</td>\n",
       "      <td>1.0</td>\n",
       "      <td>6.0</td>\n",
       "      <td>E05000140</td>\n",
       "      <td>Kilburn</td>\n",
       "      <td>525130</td>\n",
       "      <td>184418</td>\n",
       "      <td>-0.196884</td>\n",
       "      <td>51.544796</td>\n",
       "      <td>(51.544796, -0.196884)</td>\n",
       "    </tr>\n",
       "    <tr>\n",
       "      <th>23440</th>\n",
       "      <td>00015494</td>\n",
       "      <td>1.0</td>\n",
       "      <td>OSSULSTON STREET</td>\n",
       "      <td>Highways</td>\n",
       "      <td>Sorbus aria 'Majestica'</td>\n",
       "      <td>2019-10-28</td>\n",
       "      <td>2022/2023</td>\n",
       "      <td>12.0</td>\n",
       "      <td>6.0</td>\n",
       "      <td>48.0</td>\n",
       "      <td>E05000143</td>\n",
       "      <td>St Pancras and Somers Town</td>\n",
       "      <td>529758</td>\n",
       "      <td>183095</td>\n",
       "      <td>-0.130667</td>\n",
       "      <td>51.531863</td>\n",
       "      <td>(51.531863, -0.130667)</td>\n",
       "    </tr>\n",
       "    <tr>\n",
       "      <th>23441</th>\n",
       "      <td>00001693</td>\n",
       "      <td>1.0</td>\n",
       "      <td>BELMONT STREET</td>\n",
       "      <td>Highways</td>\n",
       "      <td>Platanus x hispanica</td>\n",
       "      <td>2017-07-31</td>\n",
       "      <td>2020/2021</td>\n",
       "      <td>18.0</td>\n",
       "      <td>10.0</td>\n",
       "      <td>57.0</td>\n",
       "      <td>E05000136</td>\n",
       "      <td>Haverstock</td>\n",
       "      <td>528302</td>\n",
       "      <td>184457</td>\n",
       "      <td>-0.151163</td>\n",
       "      <td>51.544432</td>\n",
       "      <td>(51.544432, -0.151163)</td>\n",
       "    </tr>\n",
       "    <tr>\n",
       "      <th>23442</th>\n",
       "      <td>00020342</td>\n",
       "      <td>1.0</td>\n",
       "      <td>Templar House Estate</td>\n",
       "      <td>Housing</td>\n",
       "      <td>Tilia europaea</td>\n",
       "      <td>2018-11-05</td>\n",
       "      <td>2021/2022</td>\n",
       "      <td>20.0</td>\n",
       "      <td>8.0</td>\n",
       "      <td>40.0</td>\n",
       "      <td>E05000132</td>\n",
       "      <td>Fortune Green</td>\n",
       "      <td>524615</td>\n",
       "      <td>184714</td>\n",
       "      <td>-0.204206</td>\n",
       "      <td>51.547573</td>\n",
       "      <td>(51.547573, -0.204206)</td>\n",
       "    </tr>\n",
       "    <tr>\n",
       "      <th>23443</th>\n",
       "      <td>00013369</td>\n",
       "      <td>1.0</td>\n",
       "      <td>LYNDHURST ROAD</td>\n",
       "      <td>Highways</td>\n",
       "      <td>Tilia europaea</td>\n",
       "      <td>2018-06-08</td>\n",
       "      <td>2021/2022</td>\n",
       "      <td>15.0</td>\n",
       "      <td>6.0</td>\n",
       "      <td>77.0</td>\n",
       "      <td>E05000135</td>\n",
       "      <td>Hampstead Town</td>\n",
       "      <td>526738</td>\n",
       "      <td>185304</td>\n",
       "      <td>-0.173397</td>\n",
       "      <td>51.552397</td>\n",
       "      <td>(51.552397, -0.173397)</td>\n",
       "    </tr>\n",
       "  </tbody>\n",
       "</table>\n",
       "<p>23444 rows × 17 columns</p>\n",
       "</div>"
      ],
      "text/plain": [
       "      Identifier  Number Of Trees                         Site Name  \\\n",
       "0       00060053              1.0          Russell Nurseries Estate   \n",
       "1       00057855              1.0                 BRECKNOCK JMI (E)   \n",
       "2       00059953              1.0        Estate 51 Ravenshaw Street   \n",
       "3       00059915              1.0                 ROSARY RC JMI (E)   \n",
       "4       00010762              1.0                Holly Lodge Estate   \n",
       "...          ...              ...                               ...   \n",
       "23439   00057455              1.0  KILBURN GRANGE, MESSINA AVE (LS)   \n",
       "23440   00015494              1.0                  OSSULSTON STREET   \n",
       "23441   00001693              1.0                    BELMONT STREET   \n",
       "23442   00020342              1.0              Templar House Estate   \n",
       "23443   00013369              1.0                    LYNDHURST ROAD   \n",
       "\n",
       "      Contract Area          Scientific Name Inspection Date  \\\n",
       "0           Housing          Vacant Tree Pit             NaT   \n",
       "1         Education          Vacant Tree Pit      2019-07-17   \n",
       "2           Housing             Ficus carica             NaT   \n",
       "3         Education      Betula jacquemontii             NaT   \n",
       "4           Housing     Ilex x altaclarensis      2017-06-14   \n",
       "...             ...                      ...             ...   \n",
       "23439         Parks              Sorbus aria      2017-03-28   \n",
       "23440      Highways  Sorbus aria 'Majestica'      2019-10-28   \n",
       "23441      Highways     Platanus x hispanica      2017-07-31   \n",
       "23442       Housing           Tilia europaea      2018-11-05   \n",
       "23443      Highways           Tilia europaea      2018-06-08   \n",
       "\n",
       "      Inspection Due Date  Height In Metres  Spread In Metres  \\\n",
       "0                     NaN               NaN               NaN   \n",
       "1               2022/2023               NaN               NaN   \n",
       "2                     NaN               5.0               4.0   \n",
       "3                     NaN               4.0               1.0   \n",
       "4               2020/2021              14.0               6.0   \n",
       "...                   ...               ...               ...   \n",
       "23439           2019/2020               2.0               1.0   \n",
       "23440           2022/2023              12.0               6.0   \n",
       "23441           2020/2021              18.0              10.0   \n",
       "23442           2021/2022              20.0               8.0   \n",
       "23443           2021/2022              15.0               6.0   \n",
       "\n",
       "       Diameter In Centimetres At Breast Height  Ward Code  \\\n",
       "0                                           NaN  E05000135   \n",
       "1                                           NaN  E05000131   \n",
       "2                                          10.0        NaN   \n",
       "3                                           6.0  E05000135   \n",
       "4                                          26.0  E05000137   \n",
       "...                                         ...        ...   \n",
       "23439                                       6.0  E05000140   \n",
       "23440                                      48.0  E05000143   \n",
       "23441                                      57.0  E05000136   \n",
       "23442                                      40.0  E05000132   \n",
       "23443                                      77.0  E05000135   \n",
       "\n",
       "                        Ward Name  Easting  Northing  Longitude   Latitude  \\\n",
       "0                  Hampstead Town   527305    185240  -0.165240  51.551693   \n",
       "1                      Cantelowes   529923    184782  -0.127681  51.546984   \n",
       "2                             NaN        0         0        NaN        NaN   \n",
       "3                  Hampstead Town   527249    185261  -0.166051  51.551901   \n",
       "4                        Highgate   528414    186770  -0.148704  51.565198   \n",
       "...                           ...      ...       ...        ...        ...   \n",
       "23439                     Kilburn   525130    184418  -0.196884  51.544796   \n",
       "23440  St Pancras and Somers Town   529758    183095  -0.130667  51.531863   \n",
       "23441                  Haverstock   528302    184457  -0.151163  51.544432   \n",
       "23442               Fortune Green   524615    184714  -0.204206  51.547573   \n",
       "23443              Hampstead Town   526738    185304  -0.173397  51.552397   \n",
       "\n",
       "                     Location  \n",
       "0       (51.551693, -0.16524)  \n",
       "1      (51.546984, -0.127681)  \n",
       "2                         NaN  \n",
       "3      (51.551901, -0.166051)  \n",
       "4      (51.565198, -0.148704)  \n",
       "...                       ...  \n",
       "23439  (51.544796, -0.196884)  \n",
       "23440  (51.531863, -0.130667)  \n",
       "23441  (51.544432, -0.151163)  \n",
       "23442  (51.547573, -0.204206)  \n",
       "23443  (51.552397, -0.173397)  \n",
       "\n",
       "[23444 rows x 17 columns]"
      ]
     },
     "execution_count": 118,
     "metadata": {},
     "output_type": "execute_result"
    }
   ],
   "source": [
    "# Remove null Eastings\n",
    "geotrees.dropna(subset=['Easting'])"
   ]
  },
  {
   "cell_type": "code",
   "execution_count": 119,
   "id": "7f77324a-f2e4-4d69-a0fe-1d71757c6f6e",
   "metadata": {},
   "outputs": [],
   "source": [
    "# Remove 0 Eastings.  \n",
    "mask = geotrees['Easting'] != 0\n",
    "geotrees = geotrees[mask]"
   ]
  },
  {
   "cell_type": "code",
   "execution_count": 120,
   "id": "40ccb789-0cab-4218-9caa-e7e08b2b71ae",
   "metadata": {},
   "outputs": [
    {
     "data": {
      "text/html": [
       "<div>\n",
       "<style scoped>\n",
       "    .dataframe tbody tr th:only-of-type {\n",
       "        vertical-align: middle;\n",
       "    }\n",
       "\n",
       "    .dataframe tbody tr th {\n",
       "        vertical-align: top;\n",
       "    }\n",
       "\n",
       "    .dataframe thead th {\n",
       "        text-align: right;\n",
       "    }\n",
       "</style>\n",
       "<table border=\"1\" class=\"dataframe\">\n",
       "  <thead>\n",
       "    <tr style=\"text-align: right;\">\n",
       "      <th></th>\n",
       "      <th>Identifier</th>\n",
       "      <th>Number Of Trees</th>\n",
       "      <th>Site Name</th>\n",
       "      <th>Contract Area</th>\n",
       "      <th>Scientific Name</th>\n",
       "      <th>Inspection Date</th>\n",
       "      <th>Inspection Due Date</th>\n",
       "      <th>Height In Metres</th>\n",
       "      <th>Spread In Metres</th>\n",
       "      <th>Diameter In Centimetres At Breast Height</th>\n",
       "      <th>Ward Code</th>\n",
       "      <th>Ward Name</th>\n",
       "      <th>Easting</th>\n",
       "      <th>Northing</th>\n",
       "      <th>Longitude</th>\n",
       "      <th>Latitude</th>\n",
       "      <th>Location</th>\n",
       "    </tr>\n",
       "  </thead>\n",
       "  <tbody>\n",
       "    <tr>\n",
       "      <th>0</th>\n",
       "      <td>00060053</td>\n",
       "      <td>1.0</td>\n",
       "      <td>Russell Nurseries Estate</td>\n",
       "      <td>Housing</td>\n",
       "      <td>Vacant Tree Pit</td>\n",
       "      <td>NaT</td>\n",
       "      <td>NaN</td>\n",
       "      <td>NaN</td>\n",
       "      <td>NaN</td>\n",
       "      <td>NaN</td>\n",
       "      <td>E05000135</td>\n",
       "      <td>Hampstead Town</td>\n",
       "      <td>527305</td>\n",
       "      <td>185240</td>\n",
       "      <td>-0.165240</td>\n",
       "      <td>51.551693</td>\n",
       "      <td>(51.551693, -0.16524)</td>\n",
       "    </tr>\n",
       "    <tr>\n",
       "      <th>1</th>\n",
       "      <td>00057855</td>\n",
       "      <td>1.0</td>\n",
       "      <td>BRECKNOCK JMI (E)</td>\n",
       "      <td>Education</td>\n",
       "      <td>Vacant Tree Pit</td>\n",
       "      <td>2019-07-17</td>\n",
       "      <td>2022/2023</td>\n",
       "      <td>NaN</td>\n",
       "      <td>NaN</td>\n",
       "      <td>NaN</td>\n",
       "      <td>E05000131</td>\n",
       "      <td>Cantelowes</td>\n",
       "      <td>529923</td>\n",
       "      <td>184782</td>\n",
       "      <td>-0.127681</td>\n",
       "      <td>51.546984</td>\n",
       "      <td>(51.546984, -0.127681)</td>\n",
       "    </tr>\n",
       "    <tr>\n",
       "      <th>3</th>\n",
       "      <td>00059915</td>\n",
       "      <td>1.0</td>\n",
       "      <td>ROSARY RC JMI (E)</td>\n",
       "      <td>Education</td>\n",
       "      <td>Betula jacquemontii</td>\n",
       "      <td>NaT</td>\n",
       "      <td>NaN</td>\n",
       "      <td>4.0</td>\n",
       "      <td>1.0</td>\n",
       "      <td>6.0</td>\n",
       "      <td>E05000135</td>\n",
       "      <td>Hampstead Town</td>\n",
       "      <td>527249</td>\n",
       "      <td>185261</td>\n",
       "      <td>-0.166051</td>\n",
       "      <td>51.551901</td>\n",
       "      <td>(51.551901, -0.166051)</td>\n",
       "    </tr>\n",
       "    <tr>\n",
       "      <th>4</th>\n",
       "      <td>00010762</td>\n",
       "      <td>1.0</td>\n",
       "      <td>Holly Lodge Estate</td>\n",
       "      <td>Housing</td>\n",
       "      <td>Ilex x altaclarensis</td>\n",
       "      <td>2017-06-14</td>\n",
       "      <td>2020/2021</td>\n",
       "      <td>14.0</td>\n",
       "      <td>6.0</td>\n",
       "      <td>26.0</td>\n",
       "      <td>E05000137</td>\n",
       "      <td>Highgate</td>\n",
       "      <td>528414</td>\n",
       "      <td>186770</td>\n",
       "      <td>-0.148704</td>\n",
       "      <td>51.565198</td>\n",
       "      <td>(51.565198, -0.148704)</td>\n",
       "    </tr>\n",
       "    <tr>\n",
       "      <th>5</th>\n",
       "      <td>00007523</td>\n",
       "      <td>1.0</td>\n",
       "      <td>Westcroft Estate 1</td>\n",
       "      <td>Housing</td>\n",
       "      <td>Betula pendula</td>\n",
       "      <td>2018-08-06</td>\n",
       "      <td>2021/2022</td>\n",
       "      <td>9.0</td>\n",
       "      <td>7.0</td>\n",
       "      <td>29.0</td>\n",
       "      <td>NaN</td>\n",
       "      <td>NaN</td>\n",
       "      <td>524253</td>\n",
       "      <td>185982</td>\n",
       "      <td>-0.208975</td>\n",
       "      <td>51.559049</td>\n",
       "      <td>(51.559049, -0.208975)</td>\n",
       "    </tr>\n",
       "    <tr>\n",
       "      <th>...</th>\n",
       "      <td>...</td>\n",
       "      <td>...</td>\n",
       "      <td>...</td>\n",
       "      <td>...</td>\n",
       "      <td>...</td>\n",
       "      <td>...</td>\n",
       "      <td>...</td>\n",
       "      <td>...</td>\n",
       "      <td>...</td>\n",
       "      <td>...</td>\n",
       "      <td>...</td>\n",
       "      <td>...</td>\n",
       "      <td>...</td>\n",
       "      <td>...</td>\n",
       "      <td>...</td>\n",
       "      <td>...</td>\n",
       "      <td>...</td>\n",
       "    </tr>\n",
       "    <tr>\n",
       "      <th>23439</th>\n",
       "      <td>00057455</td>\n",
       "      <td>1.0</td>\n",
       "      <td>KILBURN GRANGE, MESSINA AVE (LS)</td>\n",
       "      <td>Parks</td>\n",
       "      <td>Sorbus aria</td>\n",
       "      <td>2017-03-28</td>\n",
       "      <td>2019/2020</td>\n",
       "      <td>2.0</td>\n",
       "      <td>1.0</td>\n",
       "      <td>6.0</td>\n",
       "      <td>E05000140</td>\n",
       "      <td>Kilburn</td>\n",
       "      <td>525130</td>\n",
       "      <td>184418</td>\n",
       "      <td>-0.196884</td>\n",
       "      <td>51.544796</td>\n",
       "      <td>(51.544796, -0.196884)</td>\n",
       "    </tr>\n",
       "    <tr>\n",
       "      <th>23440</th>\n",
       "      <td>00015494</td>\n",
       "      <td>1.0</td>\n",
       "      <td>OSSULSTON STREET</td>\n",
       "      <td>Highways</td>\n",
       "      <td>Sorbus aria 'Majestica'</td>\n",
       "      <td>2019-10-28</td>\n",
       "      <td>2022/2023</td>\n",
       "      <td>12.0</td>\n",
       "      <td>6.0</td>\n",
       "      <td>48.0</td>\n",
       "      <td>E05000143</td>\n",
       "      <td>St Pancras and Somers Town</td>\n",
       "      <td>529758</td>\n",
       "      <td>183095</td>\n",
       "      <td>-0.130667</td>\n",
       "      <td>51.531863</td>\n",
       "      <td>(51.531863, -0.130667)</td>\n",
       "    </tr>\n",
       "    <tr>\n",
       "      <th>23441</th>\n",
       "      <td>00001693</td>\n",
       "      <td>1.0</td>\n",
       "      <td>BELMONT STREET</td>\n",
       "      <td>Highways</td>\n",
       "      <td>Platanus x hispanica</td>\n",
       "      <td>2017-07-31</td>\n",
       "      <td>2020/2021</td>\n",
       "      <td>18.0</td>\n",
       "      <td>10.0</td>\n",
       "      <td>57.0</td>\n",
       "      <td>E05000136</td>\n",
       "      <td>Haverstock</td>\n",
       "      <td>528302</td>\n",
       "      <td>184457</td>\n",
       "      <td>-0.151163</td>\n",
       "      <td>51.544432</td>\n",
       "      <td>(51.544432, -0.151163)</td>\n",
       "    </tr>\n",
       "    <tr>\n",
       "      <th>23442</th>\n",
       "      <td>00020342</td>\n",
       "      <td>1.0</td>\n",
       "      <td>Templar House Estate</td>\n",
       "      <td>Housing</td>\n",
       "      <td>Tilia europaea</td>\n",
       "      <td>2018-11-05</td>\n",
       "      <td>2021/2022</td>\n",
       "      <td>20.0</td>\n",
       "      <td>8.0</td>\n",
       "      <td>40.0</td>\n",
       "      <td>E05000132</td>\n",
       "      <td>Fortune Green</td>\n",
       "      <td>524615</td>\n",
       "      <td>184714</td>\n",
       "      <td>-0.204206</td>\n",
       "      <td>51.547573</td>\n",
       "      <td>(51.547573, -0.204206)</td>\n",
       "    </tr>\n",
       "    <tr>\n",
       "      <th>23443</th>\n",
       "      <td>00013369</td>\n",
       "      <td>1.0</td>\n",
       "      <td>LYNDHURST ROAD</td>\n",
       "      <td>Highways</td>\n",
       "      <td>Tilia europaea</td>\n",
       "      <td>2018-06-08</td>\n",
       "      <td>2021/2022</td>\n",
       "      <td>15.0</td>\n",
       "      <td>6.0</td>\n",
       "      <td>77.0</td>\n",
       "      <td>E05000135</td>\n",
       "      <td>Hampstead Town</td>\n",
       "      <td>526738</td>\n",
       "      <td>185304</td>\n",
       "      <td>-0.173397</td>\n",
       "      <td>51.552397</td>\n",
       "      <td>(51.552397, -0.173397)</td>\n",
       "    </tr>\n",
       "  </tbody>\n",
       "</table>\n",
       "<p>23388 rows × 17 columns</p>\n",
       "</div>"
      ],
      "text/plain": [
       "      Identifier  Number Of Trees                         Site Name  \\\n",
       "0       00060053              1.0          Russell Nurseries Estate   \n",
       "1       00057855              1.0                 BRECKNOCK JMI (E)   \n",
       "3       00059915              1.0                 ROSARY RC JMI (E)   \n",
       "4       00010762              1.0                Holly Lodge Estate   \n",
       "5       00007523              1.0                Westcroft Estate 1   \n",
       "...          ...              ...                               ...   \n",
       "23439   00057455              1.0  KILBURN GRANGE, MESSINA AVE (LS)   \n",
       "23440   00015494              1.0                  OSSULSTON STREET   \n",
       "23441   00001693              1.0                    BELMONT STREET   \n",
       "23442   00020342              1.0              Templar House Estate   \n",
       "23443   00013369              1.0                    LYNDHURST ROAD   \n",
       "\n",
       "      Contract Area          Scientific Name Inspection Date  \\\n",
       "0           Housing          Vacant Tree Pit             NaT   \n",
       "1         Education          Vacant Tree Pit      2019-07-17   \n",
       "3         Education      Betula jacquemontii             NaT   \n",
       "4           Housing     Ilex x altaclarensis      2017-06-14   \n",
       "5           Housing           Betula pendula      2018-08-06   \n",
       "...             ...                      ...             ...   \n",
       "23439         Parks              Sorbus aria      2017-03-28   \n",
       "23440      Highways  Sorbus aria 'Majestica'      2019-10-28   \n",
       "23441      Highways     Platanus x hispanica      2017-07-31   \n",
       "23442       Housing           Tilia europaea      2018-11-05   \n",
       "23443      Highways           Tilia europaea      2018-06-08   \n",
       "\n",
       "      Inspection Due Date  Height In Metres  Spread In Metres  \\\n",
       "0                     NaN               NaN               NaN   \n",
       "1               2022/2023               NaN               NaN   \n",
       "3                     NaN               4.0               1.0   \n",
       "4               2020/2021              14.0               6.0   \n",
       "5               2021/2022               9.0               7.0   \n",
       "...                   ...               ...               ...   \n",
       "23439           2019/2020               2.0               1.0   \n",
       "23440           2022/2023              12.0               6.0   \n",
       "23441           2020/2021              18.0              10.0   \n",
       "23442           2021/2022              20.0               8.0   \n",
       "23443           2021/2022              15.0               6.0   \n",
       "\n",
       "       Diameter In Centimetres At Breast Height  Ward Code  \\\n",
       "0                                           NaN  E05000135   \n",
       "1                                           NaN  E05000131   \n",
       "3                                           6.0  E05000135   \n",
       "4                                          26.0  E05000137   \n",
       "5                                          29.0        NaN   \n",
       "...                                         ...        ...   \n",
       "23439                                       6.0  E05000140   \n",
       "23440                                      48.0  E05000143   \n",
       "23441                                      57.0  E05000136   \n",
       "23442                                      40.0  E05000132   \n",
       "23443                                      77.0  E05000135   \n",
       "\n",
       "                        Ward Name  Easting  Northing  Longitude   Latitude  \\\n",
       "0                  Hampstead Town   527305    185240  -0.165240  51.551693   \n",
       "1                      Cantelowes   529923    184782  -0.127681  51.546984   \n",
       "3                  Hampstead Town   527249    185261  -0.166051  51.551901   \n",
       "4                        Highgate   528414    186770  -0.148704  51.565198   \n",
       "5                             NaN   524253    185982  -0.208975  51.559049   \n",
       "...                           ...      ...       ...        ...        ...   \n",
       "23439                     Kilburn   525130    184418  -0.196884  51.544796   \n",
       "23440  St Pancras and Somers Town   529758    183095  -0.130667  51.531863   \n",
       "23441                  Haverstock   528302    184457  -0.151163  51.544432   \n",
       "23442               Fortune Green   524615    184714  -0.204206  51.547573   \n",
       "23443              Hampstead Town   526738    185304  -0.173397  51.552397   \n",
       "\n",
       "                     Location  \n",
       "0       (51.551693, -0.16524)  \n",
       "1      (51.546984, -0.127681)  \n",
       "3      (51.551901, -0.166051)  \n",
       "4      (51.565198, -0.148704)  \n",
       "5      (51.559049, -0.208975)  \n",
       "...                       ...  \n",
       "23439  (51.544796, -0.196884)  \n",
       "23440  (51.531863, -0.130667)  \n",
       "23441  (51.544432, -0.151163)  \n",
       "23442  (51.547573, -0.204206)  \n",
       "23443  (51.552397, -0.173397)  \n",
       "\n",
       "[23388 rows x 17 columns]"
      ]
     },
     "execution_count": 120,
     "metadata": {},
     "output_type": "execute_result"
    }
   ],
   "source": [
    "# Remove null Northings\n",
    "geotrees.dropna(subset=['Northing'])"
   ]
  },
  {
   "cell_type": "code",
   "execution_count": 121,
   "id": "c77858c5-99e7-4f1f-affa-bd2370b9aed8",
   "metadata": {},
   "outputs": [],
   "source": [
    "# Remove 0 Northings.  \n",
    "mask1 = geotrees['Northing'] != 0\n",
    "geotrees = geotrees[mask1]"
   ]
  },
  {
   "cell_type": "code",
   "execution_count": 122,
   "id": "616a5473-5d71-486a-9ea0-c401fc7f4428",
   "metadata": {},
   "outputs": [
    {
     "data": {
      "text/plain": [
       "(23388, 17)"
      ]
     },
     "execution_count": 122,
     "metadata": {},
     "output_type": "execute_result"
    }
   ],
   "source": [
    "# Confirm how many rows we have\n",
    "geotrees.shape"
   ]
  },
  {
   "cell_type": "markdown",
   "id": "a63dbcfc-e781-4812-9a10-1cf5be028dae",
   "metadata": {},
   "source": [
    "<hr/>"
   ]
  },
  {
   "cell_type": "markdown",
   "id": "d1e84a3c-7eed-408a-a724-3944d89e0755",
   "metadata": {},
   "source": [
    "### 7.2 Plot Map of Trees\n",
    "Now make the plot.  Do a scatter plot of Northing vs Easting. You should obtain an outline of the map of Camden. Compare that outline with a real map of Camden (use good old google maps!). You’ll be able to spot the trees that should not be in that dataset from there!\n",
    "\n",
    "<div style=\"background-color:lemonchiffon; border:1px solid; padding:5px; margin:5px; font-weight:bold\"><font color=\"crimson\">\n",
    "TODO: Complete the following code cell\n",
    "    </font></div>"
   ]
  },
  {
   "cell_type": "code",
   "execution_count": 123,
   "id": "b51e227f-bd09-4064-9f60-be766962646d",
   "metadata": {},
   "outputs": [
    {
     "data": {
      "image/png": "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\n",
      "text/plain": [
       "<Figure size 600x600 with 1 Axes>"
      ]
     },
     "metadata": {},
     "output_type": "display_data"
    }
   ],
   "source": [
    "# Plot the trees on a map\n",
    "scatter = geotrees.plot.scatter(x='Easting', y='Northing', c='DarkBlue', figsize=(6,6))\n",
    "plt.show()"
   ]
  },
  {
   "cell_type": "markdown",
   "id": "6914e59e-aaeb-4b9b-8a84-b4007e2ad747",
   "metadata": {},
   "source": [
    "### 7.3 Find Trees Outside Camden\n",
    "From the scatter plot, you should be able to determine how to select the rows from the trees data set containing the offending trees (using the Easting and Northing values)\n",
    "\n",
    "Select the rows containing trees outside of Camden.  Use the filter technique again.\n",
    "\n",
    "<div style=\"background-color:lemonchiffon; border:1px solid; padding:5px; margin:5px; font-weight:bold\"><font color=\"crimson\">\n",
    "TODO: Complete the following code cells\n",
    "    </font></div>"
   ]
  },
  {
   "cell_type": "code",
   "execution_count": 129,
   "id": "4b992a8f-d5be-4adb-a383-4f8e5505b2ed",
   "metadata": {},
   "outputs": [],
   "source": [
    "# Select the outlier rows\n",
    "scatterOut = (geotrees['Northing']<188000) & (geotrees['Easting']>522000)\n",
    "geotrees = geotrees[scatterOut]"
   ]
  },
  {
   "cell_type": "code",
   "execution_count": 130,
   "id": "0270dae9-9bcf-4b63-95cf-13b7c5184424",
   "metadata": {},
   "outputs": [
    {
     "data": {
      "text/plain": [
       "(23380, 17)"
      ]
     },
     "execution_count": 130,
     "metadata": {},
     "output_type": "execute_result"
    }
   ],
   "source": [
    "# Confirm how many rows we have\n",
    "geotrees.shape"
   ]
  },
  {
   "cell_type": "code",
   "execution_count": 131,
   "id": "ee21a983",
   "metadata": {},
   "outputs": [
    {
     "data": {
      "image/png": "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\n",
      "text/plain": [
       "<Figure size 600x600 with 1 Axes>"
      ]
     },
     "metadata": {},
     "output_type": "display_data"
    }
   ],
   "source": [
    "# Plot the trees on a map\n",
    "scatterPlot = geotrees.plot.scatter(x='Easting', y='Northing', c='DarkBlue', figsize=(6,6))\n",
    "plt.show()"
   ]
  },
  {
   "cell_type": "markdown",
   "id": "ee3f0cff-17bb-4f75-a92c-876c56e230c5",
   "metadata": {},
   "source": [
    "<hr/>\n",
    "\n",
    "### 7.4 Observations\n",
    "\n",
    "\n",
    "<div style=\"background-color:lemonchiffon; border:1px solid; padding:5px; margin:5px; font-weight:bold\"><font color=\"crimson\">\n",
    "TODO: Write down your observation about geolocation issues.\n",
    "    </font></div>\n"
   ]
  },
  {
   "cell_type": "markdown",
   "id": "3f5a1605-de7e-4cb7-8190-c643122c104e",
   "metadata": {},
   "source": [
    "<div style=\"background-color:lemonchiffon; border:1px solid; padding:5px; margin:5px; font-weight:bold\"><font color=\"grey\">\n",
    "there are unusual tree locations! Public tree data is not accurate, The reputation of the council may suffer because of poor data.\n",
    "    \n",
    "it’s important to investigate the nature of the outlier before deciding whether to drop it or not\n",
    "    </font></div>"
   ]
  },
  {
   "cell_type": "markdown",
   "id": "0680cf79-2a3a-4e9c-8332-609680b69040",
   "metadata": {},
   "source": [
    "<hr/>"
   ]
  },
  {
   "cell_type": "markdown",
   "id": "2c6f941f-e14a-4a51-aa29-66010910009a",
   "metadata": {
    "tags": []
   },
   "source": [
    "## Task 8: Identify Unmatched Data\n",
    "We have multiple datasets that will need to be joined together to produce the analyses required by the Camden Parks and Open Spaces team.  The data will need to be joined in the following way:\n",
    "\n",
    "- Use the `Identifier` column in the trees dataset to match to the `Identifier` column in the environmental data set (so we can bring in the environmental data for each tree)\n",
    "- Use the `Scientific Name` column in the trees dataset to match to the `Scientific Name` column in the common names data set (so we can look up the `Common Name`)\n",
    "\n",
    "There may be mismatches in the data.  Of particular concern we want to check\n",
    "\n",
    "- That every tree in the trees dataset has matching environmental data in the environmental data set\n",
    "- That every environmental row in the environmental dataset has matching tree data in the tree data set\n",
    "- That every scientific name in the trees dataset has a matching common name in the common names data set\n",
    "\n",
    "We aren't too concerned about the reverse of the last scenario (if we have extra names in the common names dataset that aren't in the trees data set).  We don't expect Camden to have a specimen of every tree that exists!  \n",
    "\n",
    "There are a few ways this can be done, but one technique is to use the `isin` function to check if some column in one dataframe contains values that are in another column in another dataframe.  This creates a mask containing rows that match between the two dataframes:\n",
    "\n",
    "    mask = df1['column_name1'].isin(df2['column_name2'])\n",
    "    \n",
    "To select the non-matching rows, we can use Python's bitwise not operator ~:\n",
    "\n",
    "    mask = ~df1['column_name1'].isin(df2['column_name2'])\n",
    "    \n",
    "As we have seen before, the mask can be used to select that subset of rows back from the original dataframe."
   ]
  },
  {
   "cell_type": "markdown",
   "id": "1f5064f7-e956-4420-b80c-f14c2d2d3427",
   "metadata": {},
   "source": [
    "### 8.1 Find Trees that Don't have Matching Environmental Data\n",
    "<div style=\"background-color:lemonchiffon; border:1px solid; padding:5px; margin:5px; font-weight:bold\"><font color=\"crimson\">\n",
    "TODO: Complete the following code cells\n",
    "    </font></div>"
   ]
  },
  {
   "cell_type": "code",
   "execution_count": 92,
   "id": "ec5e5506-1c6f-4f33-92d1-420ea57b6da5",
   "metadata": {},
   "outputs": [],
   "source": [
    "# Find trees that don't have matching environmental data\n",
    "MatchingEnvironmental = ~trees['Identifier'].isin(enviroment['Identifier'])\n",
    "treesmatch = trees[MatchingEnvironmental]"
   ]
  },
  {
   "cell_type": "code",
   "execution_count": 93,
   "id": "36cabc0b-2d67-4a8d-8d85-6d3d3b40acfb",
   "metadata": {},
   "outputs": [
    {
     "data": {
      "text/plain": [
       "(23, 17)"
      ]
     },
     "execution_count": 93,
     "metadata": {},
     "output_type": "execute_result"
    }
   ],
   "source": [
    "# Confirm how many rows we have\n",
    "treesmatch.shape"
   ]
  },
  {
   "cell_type": "code",
   "execution_count": 94,
   "id": "b76fba43",
   "metadata": {},
   "outputs": [
    {
     "data": {
      "text/plain": [
       "(23444, 17)"
      ]
     },
     "execution_count": 94,
     "metadata": {},
     "output_type": "execute_result"
    }
   ],
   "source": [
    "trees.shape"
   ]
  },
  {
   "cell_type": "markdown",
   "id": "163e0301-fae2-41cc-a7a7-11a31b9e0499",
   "metadata": {},
   "source": [
    "### 8.2 Find Environmental Data that Doesn't have Matching Tree Data\n",
    "<div style=\"background-color:lemonchiffon; border:1px solid; padding:5px; margin:5px; font-weight:bold\"><font color=\"crimson\">\n",
    "TODO: Complete the following code cells\n",
    "    </font></div>"
   ]
  },
  {
   "cell_type": "code",
   "execution_count": 95,
   "id": "17727576-c7c3-487a-87d1-d27d326f661c",
   "metadata": {},
   "outputs": [],
   "source": [
    "# Find environmental data that doesn't have matching tree data\n",
    "MatchingTree = ~enviroment['Identifier'].isin(trees['Identifier'])\n",
    "enviromentmatch = enviroment[MatchingTree]"
   ]
  },
  {
   "cell_type": "code",
   "execution_count": 96,
   "id": "7c562a4f-6a70-4e53-8dc5-c2ebd3a1417f",
   "metadata": {},
   "outputs": [
    {
     "data": {
      "text/plain": [
       "(0, 9)"
      ]
     },
     "execution_count": 96,
     "metadata": {},
     "output_type": "execute_result"
    }
   ],
   "source": [
    "# Confirm how many rows we have\n",
    "enviromentmatch.shape"
   ]
  },
  {
   "cell_type": "code",
   "execution_count": 97,
   "id": "2bfbde1b",
   "metadata": {},
   "outputs": [
    {
     "data": {
      "text/plain": [
       "(23415, 9)"
      ]
     },
     "execution_count": 97,
     "metadata": {},
     "output_type": "execute_result"
    }
   ],
   "source": [
    "enviroment.shape"
   ]
  },
  {
   "cell_type": "markdown",
   "id": "ce4445b4-53db-4d95-82b6-4af1088046bf",
   "metadata": {},
   "source": [
    "### 8.3 Find Trees that Don't have Matching Common Names Data\n",
    "<div style=\"background-color:lemonchiffon; border:1px solid; padding:5px; margin:5px; font-weight:bold\"><font color=\"crimson\">\n",
    "TODO: Complete the following code cells\n",
    "    </font></div>"
   ]
  },
  {
   "cell_type": "code",
   "execution_count": 98,
   "id": "f66f9bfd-6bfc-4faf-946e-d5d8f6cbb4b6",
   "metadata": {},
   "outputs": [],
   "source": [
    "# Find trees with scientific names that don't have matching common names data\n",
    "matchingnames = ~trees['Scientific Name'].isin(commonNames['Scientific Name'])\n",
    "treesName = trees[matchingnames]"
   ]
  },
  {
   "cell_type": "code",
   "execution_count": 99,
   "id": "183f5951-2c4e-486a-beb9-68abc8be8674",
   "metadata": {},
   "outputs": [
    {
     "data": {
      "text/plain": [
       "(76, 17)"
      ]
     },
     "execution_count": 99,
     "metadata": {},
     "output_type": "execute_result"
    }
   ],
   "source": [
    "# Confirm how many rows we have\n",
    "treesName.shape"
   ]
  },
  {
   "cell_type": "code",
   "execution_count": 101,
   "id": "2a7d3141",
   "metadata": {},
   "outputs": [
    {
     "data": {
      "text/plain": [
       "(589, 2)"
      ]
     },
     "execution_count": 101,
     "metadata": {},
     "output_type": "execute_result"
    }
   ],
   "source": [
    "commonNames.shape"
   ]
  },
  {
   "cell_type": "markdown",
   "id": "28a9ce1a-e0d6-42b2-b83a-bfb1c1a21f75",
   "metadata": {},
   "source": [
    "<hr/>\n",
    "\n",
    "### 8.4 Observations\n",
    "\n",
    "<div style=\"background-color:lemonchiffon; border:1px solid; padding:5px; margin:5px; font-weight:bold\"><font color=\"crimson\">\n",
    "TODO: Write down your observation about unmatched data issues.\n",
    "    </font></div>\n"
   ]
  },
  {
   "cell_type": "markdown",
   "id": "80b550e2-3d7e-44af-990a-cc59b070c269",
   "metadata": {},
   "source": [
    "<div style=\"background-color:lemonchiffon; border:1px solid; padding:5px; margin:5px; font-weight:bold\"><font color=\"grey\">\n",
    "The environmental report will be incomplete because some trees don’t have matching environmental data.\n",
    "     </font></div>"
   ]
  },
  {
   "cell_type": "markdown",
   "id": "663f0130-1aee-4590-b6d3-ddc531035415",
   "metadata": {},
   "source": [
    "<hr/>"
   ]
  },
  {
   "cell_type": "markdown",
   "id": "ecb4c78f-147a-4cb7-b646-1de2d365c5e5",
   "metadata": {},
   "source": [
    "# END OF NOTEBOOK"
   ]
  }
 ],
 "metadata": {
  "kernelspec": {
   "display_name": "Python 3 (ipykernel)",
   "language": "python",
   "name": "python3"
  },
  "language_info": {
   "codemirror_mode": {
    "name": "ipython",
    "version": 3
   },
   "file_extension": ".py",
   "mimetype": "text/x-python",
   "name": "python",
   "nbconvert_exporter": "python",
   "pygments_lexer": "ipython3",
   "version": "3.9.13"
  }
 },
 "nbformat": 4,
 "nbformat_minor": 5
}
